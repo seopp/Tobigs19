{
  "cells": [
    {
      "cell_type": "markdown",
      "metadata": {
        "id": "view-in-github",
        "colab_type": "text"
      },
      "source": [
        "<a href=\"https://colab.research.google.com/github/seopp/Tobigs19/blob/main/Week5/Assignment.ipynb\" target=\"_parent\"><img src=\"https://colab.research.google.com/assets/colab-badge.svg\" alt=\"Open In Colab\"/></a>"
      ]
    },
    {
      "cell_type": "markdown",
      "id": "9ad88f3e",
      "metadata": {
        "id": "9ad88f3e"
      },
      "source": [
        "# Multiclass SVM 구현"
      ]
    },
    {
      "cell_type": "code",
      "execution_count": 7,
      "id": "1ee53277",
      "metadata": {
        "colab": {
          "base_uri": "https://localhost:8080/"
        },
        "id": "1ee53277",
        "outputId": "538eae99-cec4-4284-8ceb-d00557de4308"
      },
      "outputs": [
        {
          "output_type": "stream",
          "name": "stdout",
          "text": [
            "0         setosa\n",
            "1         setosa\n",
            "2         setosa\n",
            "3         setosa\n",
            "4         setosa\n",
            "         ...    \n",
            "145    virginica\n",
            "146    virginica\n",
            "147    virginica\n",
            "148    virginica\n",
            "149    virginica\n",
            "Name: species, Length: 150, dtype: object\n"
          ]
        }
      ],
      "source": [
        "import numpy as np\n",
        "import pandas as pd\n",
        "import matplotlib.pyplot as plt\n",
        "import seaborn as sns\n",
        "from sklearn.svm import SVC\n",
        "from sklearn.model_selection import train_test_split\n",
        "from sklearn.pipeline import Pipeline\n",
        "from sklearn.preprocessing import StandardScaler\n",
        "from sklearn.metrics import accuracy_score\n",
        "\n",
        "#IRIS 데이터 로드\n",
        "iris =  sns.load_dataset('iris') \n",
        "X= iris.iloc[:,:4] #학습할데이터\n",
        "y = iris.iloc[:,-1] #타겟\n",
        "print(y)"
      ]
    },
    {
      "cell_type": "code",
      "execution_count": 8,
      "id": "57c67bc8",
      "metadata": {
        "id": "57c67bc8"
      },
      "outputs": [],
      "source": [
        "X_train, X_test, y_train, y_test = train_test_split(X, y, test_size=0.2, random_state=48)"
      ]
    },
    {
      "cell_type": "code",
      "execution_count": 9,
      "id": "88a4203d",
      "metadata": {
        "id": "88a4203d"
      },
      "outputs": [],
      "source": [
        "def standardization(train, test):\n",
        "    scaler = StandardScaler()\n",
        "    train = scaler.fit_transform(train)\n",
        "    test = scaler.transform(test)\n",
        "    return train, test\n",
        "\n",
        "X_train, X_test = standardization(X_train, X_test)"
      ]
    },
    {
      "cell_type": "code",
      "execution_count": 13,
      "id": "11719030",
      "metadata": {
        "id": "11719030"
      },
      "outputs": [],
      "source": [
        "class OneVsRestSVM:\n",
        "    def __init__(self, n_classes=3):\n",
        "        self.n_classes = n_classes\n",
        "        self.clfs = []\n",
        "        self.y_pred = []\n",
        "    \n",
        "    # y를 onehot encoding하는 과정\n",
        "    def one_vs_rest_labels(self, y_train):\n",
        "        y_train = pd.get_dummies(y_train)\n",
        "        return y_train\n",
        "    \n",
        "    # encoding된 y를 가져와서 class 개수 만큼의 classifier에 각각 돌리는 과정\n",
        "    def fit(self, X_train, y_train, C=5, gamma=5):\n",
        "        # y encoding\n",
        "        y_encoded = self.one_vs_rest_labels(y_train)\n",
        "        \n",
        "        for i in range(self.n_classes):\n",
        "            clf = SVC(kernel='rbf', C=C, gamma=gamma)\n",
        "            clf.fit(X_train, y_encoded.iloc[:,i])\n",
        "            self.clfs.append(clf)\n",
        "\n",
        "    # 각각의 classifier에서 나온 결과를 decision function으로 비교\n",
        "    def predict(self, X_test):\n",
        "        vote = np.zeros((len(X_test), 3), dtype=int)\n",
        "        size = X_test.shape[0]\n",
        "        \n",
        "        for i in range(size):\n",
        "            self.y_pred.append(np.argmax([self.clfs[0].decision_function(X_test)[i], self.clfs[1].decision_function(X_test)[i], self.clfs[2].decision_function(X_test)[i]]))\n",
        "        \n",
        "        # test를 진행하기 위해 0,1,2로 되어있던 데이터를 다시 문자 label로 변환\n",
        "        self.y_pred = pd.DataFrame(self.y_pred).replace({0:'setosa', 1:'versicolor', 2:'virginica'})\n",
        "        return self.y_pred\n",
        "    \n",
        "    # accuracy 확인\n",
        "    def evaluate(self, y_test):\n",
        "        print('Accuacy : {: .5f}'.format(accuracy_score(y_test, self.y_pred)))"
      ]
    },
    {
      "cell_type": "code",
      "source": [
        "onevsrest = OneVsRestSVM()\n",
        "onevsrest.fit(X_train, y_train)\n",
        "y_pred_rest = onevsrest.predict(X_test)\n",
        "onevsrest.evaluate(y_test)"
      ],
      "metadata": {
        "colab": {
          "base_uri": "https://localhost:8080/"
        },
        "id": "5Rs-KVHiCoNK",
        "outputId": "d2394b34-a185-418c-9bed-2603d8afeac9"
      },
      "id": "5Rs-KVHiCoNK",
      "execution_count": 14,
      "outputs": [
        {
          "output_type": "stream",
          "name": "stdout",
          "text": [
            "Accuacy :  0.86667\n"
          ]
        }
      ]
    }
  ],
  "metadata": {
    "kernelspec": {
      "display_name": "Python 3",
      "language": "python",
      "name": "python3"
    },
    "language_info": {
      "codemirror_mode": {
        "name": "ipython",
        "version": 3
      },
      "file_extension": ".py",
      "mimetype": "text/x-python",
      "name": "python",
      "nbconvert_exporter": "python",
      "pygments_lexer": "ipython3",
      "version": "3.8.8"
    },
    "colab": {
      "provenance": [],
      "include_colab_link": true
    }
  },
  "nbformat": 4,
  "nbformat_minor": 5
}