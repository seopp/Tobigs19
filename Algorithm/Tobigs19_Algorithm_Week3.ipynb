{
  "nbformat": 4,
  "nbformat_minor": 0,
  "metadata": {
    "colab": {
      "provenance": [],
      "authorship_tag": "ABX9TyOE0qmCIPbHWjvrco7ZkWi1",
      "include_colab_link": true
    },
    "kernelspec": {
      "name": "python3",
      "display_name": "Python 3"
    },
    "language_info": {
      "name": "python"
    }
  },
  "cells": [
    {
      "cell_type": "markdown",
      "metadata": {
        "id": "view-in-github",
        "colab_type": "text"
      },
      "source": [
        "<a href=\"https://colab.research.google.com/github/seopp/Tobigs19/blob/main/Algorithm/Tobigs19_Algorithm_Week3.ipynb\" target=\"_parent\"><img src=\"https://colab.research.google.com/assets/colab-badge.svg\" alt=\"Open In Colab\"/></a>"
      ]
    },
    {
      "cell_type": "markdown",
      "source": [
        "1번"
      ],
      "metadata": {
        "id": "VZIjsEbJYhGT"
      }
    },
    {
      "cell_type": "code",
      "execution_count": null,
      "metadata": {
        "id": "r8BKfsUZsIC-"
      },
      "outputs": [],
      "source": [
        "from itertools import combinations\n",
        "n, m = map(int, input().split())\n",
        "card = list(map(int, input().split()))\n",
        "result = 0\n",
        "\n",
        "for comb in combinations(card, 3):\n",
        "    if sum(comb) > m:\n",
        "        continue\n",
        "    else:\n",
        "        result = max(result, sum(comb))\n",
        "\n",
        "print(result)"
      ]
    },
    {
      "cell_type": "markdown",
      "source": [
        "2번"
      ],
      "metadata": {
        "id": "vJNcBCpOYiOb"
      }
    },
    {
      "cell_type": "code",
      "source": [
        "from itertools import permutations\n",
        "\n",
        "numbers = input()\n",
        "\n",
        "# 소수인지 판별하는 함수\n",
        "def isprime(n):\n",
        "    if n<2:\n",
        "        return False\n",
        "    for i in range(2,n):\n",
        "        if n%i ==0:\n",
        "            return False\n",
        "    return True\n",
        "\n",
        "# 정답을 출력하는 함수\n",
        "def solution(numbers):\n",
        "    answers = []\n",
        "    answer = 0 # 만들 수 있는 소수의 개수\n",
        "    per = [] # 가능한 순열 조합들 리스트\n",
        "    for i in range(1,len(numbers)+1): # 1~입력의 길이만큼 \n",
        "        per = list(map(''.join, permutations(numbers,i))) # 순열로 생성된 중복없는 리스트\n",
        "        for p in list(set(per)): # 가능한 수들 중에서\n",
        "            if isprime(int(p)): # 소수이면\n",
        "                answers.append(int(p)) # answer 리스트에 추가\n",
        "\n",
        "    answer = len(set(answers)) # 정답은 소수의 개수\n",
        "    return answer\n",
        "\n",
        "print(solution(numbers)) "
      ],
      "metadata": {
        "colab": {
          "base_uri": "https://localhost:8080/"
        },
        "id": "AWmSFNIrYfhO",
        "outputId": "5cb50756-a36b-4d98-c340-7e51219bc538"
      },
      "execution_count": null,
      "outputs": [
        {
          "output_type": "stream",
          "name": "stdout",
          "text": [
            "17\n",
            "3\n"
          ]
        }
      ]
    },
    {
      "cell_type": "markdown",
      "source": [
        "3번\n"
      ],
      "metadata": {
        "id": "-R5e0oDWfj7U"
      }
    },
    {
      "cell_type": "code",
      "source": [
        "N, M = map(int, input().split())\n",
        "board = [] # 원래 배열\n",
        "for i in range(N):\n",
        "    board.append(input())\n",
        "count = [] # 바뀐 개수\n",
        "\n",
        "for i in range(N-7):\n",
        "    for j in range(M-7):\n",
        "        first_R = 0 # 빨간색으로 시작하는 경우\n",
        "        first_B = 0 # 파란색으로 시작하는 경우\n",
        "        # 정사각형 검사\n",
        "        for k in range(i,i+8):\n",
        "            for l in range(j,j + 8):\n",
        "                if (k + l) % 2 == 0: # 행,열 합이 짝수이면 \n",
        "                    if board[k][l] != 'R':  # 시작점(빨강)과 다르면\n",
        "                        first_R = first_R+1   # 빨강으로 바꿈\n",
        "                    if board[k][l] != 'B':  # 시작점(파랑)과 다르면\n",
        "                        first_B = first_B + 1 # 파랑으로 바꿈\n",
        "                else: # 홀수이면\n",
        "                    if board[k][l] != 'B':  # 시작점(파랑)과 다르면\n",
        "                        first_R = first_R+1   # 빨강으로 바꿈\n",
        "                    if board[k][l] != 'R':  # 시작점(빨강)과 다르면\n",
        "                        first_B = first_B + 1 # 파랑으로 바꿈\n",
        "        count.append(min(first_R,first_B))    # 바뀐횟수 적은 걸 append\n",
        "\n",
        "print(min(count))"
      ],
      "metadata": {
        "id": "5ZGKRjjRYfkJ"
      },
      "execution_count": null,
      "outputs": []
    },
    {
      "cell_type": "markdown",
      "source": [
        "4번\n"
      ],
      "metadata": {
        "id": "GOI-tuuOiuSA"
      }
    },
    {
      "cell_type": "code",
      "source": [
        "from itertools import combinations\n",
        "\n",
        "member = []\n",
        "for _ in range(9):\n",
        "    member.append(int(input()))\n",
        "\n",
        "for i in combinations(member,7):\n",
        "    if sum(i) == 1000:\n",
        "        result = list(i)\n",
        "        result.sort()\n",
        "        break\n",
        "\n",
        "for i in range(7):\n",
        "    print(result[i])"
      ],
      "metadata": {
        "id": "S_pqSy_OYfne"
      },
      "execution_count": null,
      "outputs": []
    },
    {
      "cell_type": "markdown",
      "source": [
        "5번"
      ],
      "metadata": {
        "id": "DdrFfWgflfLv"
      }
    },
    {
      "cell_type": "code",
      "source": [
        "data = input()\n",
        "\n",
        "# 사전순으로 가장 큰 수를 미리 입력\n",
        "answer = \"z\" * len(data)\n",
        "\n",
        "# 세 단어로 나누기 위해서 두 번을 자름\n",
        "# 시간 복잡도: O(n^2)\n",
        "for i in range(1, len(data) - 1):\n",
        "    for j in range(i + 1, len(data)):\n",
        "        s1 = data[:i][::-1] # [::-1] 문법 의미 잊지 않기 !!\n",
        "        s2 = data[i:j][::-1]\n",
        "        s3 = data[j:][::-1]\n",
        "        new_data = s1 + s2 + s3\n",
        "        answer = min(answer, new_data)  # 사전순으로 더 앞선 수를 가져옴, min() 함수는 string 순서도 비교 가능\n",
        "\n",
        "print(answer)"
      ],
      "metadata": {
        "colab": {
          "base_uri": "https://localhost:8080/"
        },
        "id": "PaE11tHejY9h",
        "outputId": "48b896f6-722c-475b-9dc5-3dd400037881"
      },
      "execution_count": null,
      "outputs": [
        {
          "output_type": "stream",
          "name": "stdout",
          "text": [
            "tobigs\n",
            "sgi\n"
          ]
        }
      ]
    }
  ]
}