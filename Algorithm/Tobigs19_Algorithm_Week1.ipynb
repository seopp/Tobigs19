{
  "nbformat": 4,
  "nbformat_minor": 0,
  "metadata": {
    "colab": {
      "provenance": [],
      "authorship_tag": "ABX9TyMnfgdNPTg0A3c9VPyvjvwX",
      "include_colab_link": true
    },
    "kernelspec": {
      "name": "python3",
      "display_name": "Python 3"
    },
    "language_info": {
      "name": "python"
    }
  },
  "cells": [
    {
      "cell_type": "markdown",
      "metadata": {
        "id": "view-in-github",
        "colab_type": "text"
      },
      "source": [
        "<a href=\"https://colab.research.google.com/github/seopp/Tobigs19/blob/main/Algorithm/Tobigs19_Algorithm_Week1.ipynb\" target=\"_parent\"><img src=\"https://colab.research.google.com/assets/colab-badge.svg\" alt=\"Open In Colab\"/></a>"
      ]
    },
    {
      "cell_type": "markdown",
      "source": [
        "### 1번"
      ],
      "metadata": {
        "id": "U-X87Uskk4v0"
      }
    },
    {
      "cell_type": "code",
      "execution_count": null,
      "metadata": {
        "colab": {
          "base_uri": "https://localhost:8080/"
        },
        "id": "79oweG9skzho",
        "outputId": "e508864c-09e3-46b1-ce51-7169aa6283e8"
      },
      "outputs": [
        {
          "output_type": "stream",
          "name": "stdout",
          "text": [
            "3 4\n",
            "4 2 3 6\n",
            "5 4 8 6\n",
            "2 4 5 1\n",
            "4\n"
          ]
        }
      ],
      "source": [
        "# N, M을 공백을 기준으로 구분하여 입력 받기\n",
        "n, m = map(int, input().split())\n",
        "\n",
        "result = 0\n",
        "# 한 줄씩 입력 받아 확인하기\n",
        "for i in range(n):\n",
        "    data = list(map(int, input().split()))\n",
        "    # 현재 줄에서 '가장 작은 수' 찾기\n",
        "    min_value = min(data)\n",
        "    # '가장 작은 수'들 중에서 가장 큰 수 찾기\n",
        "    result = max(result, min_value)\n",
        "\n",
        "print(result) # 최종 답안 출력"
      ]
    },
    {
      "cell_type": "markdown",
      "source": [
        "### 2번"
      ],
      "metadata": {
        "id": "jchkmiU93l5g"
      }
    },
    {
      "cell_type": "code",
      "source": [
        "# N 입력받기\n",
        "n = int(input())\n",
        "x, y = 1, 1\n",
        "plans = input().split()\n",
        "\n",
        "# L, R, U, D에 따른 이동 방향\n",
        "dx = [0, 0, -1, 1]   # 행\n",
        "dy = [-1, 1, 0, 0]   # 열\n",
        "move_types = ['L', 'R', 'U', 'D']\n",
        "\n",
        "# 이동 계획을 하나씩 확인\n",
        "for plan in plans:\n",
        "    # 이동 후 좌표 구하기\n",
        "    for i in range(len(move_types)):\n",
        "        if plan == move_types[i]:\n",
        "            nx = x + dx[i]\n",
        "            ny = y + dy[i]\n",
        "    # 공간을 벗어나는 경우 무시\n",
        "    if nx < 1 or ny < 1 or nx > n or ny > n:\n",
        "        continue\n",
        "    # 이동 수행\n",
        "    x, y = nx, ny\n",
        "\n",
        "print(x, y)"
      ],
      "metadata": {
        "colab": {
          "base_uri": "https://localhost:8080/"
        },
        "id": "fZbRswIck8Gm",
        "outputId": "f121e97a-f855-4965-9adb-a2941079c0a6"
      },
      "execution_count": null,
      "outputs": [
        {
          "output_type": "stream",
          "name": "stdout",
          "text": [
            "5\n",
            "R R U D D L\n",
            "3 2\n"
          ]
        }
      ]
    },
    {
      "cell_type": "markdown",
      "source": [
        "### 3번"
      ],
      "metadata": {
        "id": "hI742RMHaDlu"
      }
    },
    {
      "cell_type": "code",
      "source": [
        "u,d,h = map(int, input().split())\n",
        "\n",
        "floor = 0\n",
        "count = 1\n",
        "\n",
        "while(True):\n",
        "    floor += u\n",
        "    if floor >= h:\n",
        "        break\n",
        "    floor -= d\n",
        "    count += 1\n",
        "\n",
        "print(count)"
      ],
      "metadata": {
        "colab": {
          "base_uri": "https://localhost:8080/"
        },
        "id": "zIdagD5XaDFQ",
        "outputId": "f8008c24-9c5b-4937-bd0f-527d41aa0715"
      },
      "execution_count": null,
      "outputs": [
        {
          "output_type": "stream",
          "name": "stdout",
          "text": [
            "5 1 5\n",
            "1\n"
          ]
        }
      ]
    },
    {
      "cell_type": "code",
      "source": [
        "u,d,h = map(int, input().split())\n",
        "\n",
        "step = u-d\n",
        "\n",
        "if (h-u)%step==0:\n",
        "    result = (h-u)//step + 1\n",
        "else:\n",
        "    result = (h-u)//step + 2\n",
        "\n",
        "\n",
        "print(result)"
      ],
      "metadata": {
        "colab": {
          "base_uri": "https://localhost:8080/"
        },
        "id": "f9tONogBjERD",
        "outputId": "ec003933-3188-45d1-e3a0-7b39d384e5a0"
      },
      "execution_count": null,
      "outputs": [
        {
          "output_type": "stream",
          "name": "stdout",
          "text": [
            "2 1 999999999\n",
            "999999998\n"
          ]
        }
      ]
    },
    {
      "cell_type": "markdown",
      "source": [
        "### 4번"
      ],
      "metadata": {
        "id": "kOHqmFecaFGU"
      }
    },
    {
      "cell_type": "code",
      "source": [
        "s = input()\n",
        "\n",
        "cnt = 0 # 변화가 있을 때 count +1\n",
        "\n",
        "for i in range(len(s)-1):\n",
        "    if s[i] != s[i+1]:\n",
        "        cnt+=1\n",
        "\n",
        "print((cnt+1)//2) # 변화 횟수에 +1을 하고 몫을 가져오면 뒤집어야할 횟수가 나온다."
      ],
      "metadata": {
        "colab": {
          "base_uri": "https://localhost:8080/"
        },
        "id": "P8BaGK3saHxG",
        "outputId": "b0e1db48-ff64-4fa0-ab74-66a04f1ac667"
      },
      "execution_count": null,
      "outputs": [
        {
          "output_type": "stream",
          "name": "stdout",
          "text": [
            "1001001001001001\n",
            "5\n"
          ]
        }
      ]
    },
    {
      "cell_type": "markdown",
      "source": [
        "### 5번\n"
      ],
      "metadata": {
        "id": "wJ3vbP8SaGKY"
      }
    },
    {
      "cell_type": "code",
      "source": [
        "ans = []\n",
        "while True:\n",
        "    try:\n",
        "        n = list(input())\n",
        "        if n[0] == '0':\n",
        "            break\n",
        "        else:\n",
        "            r=list(reversed(n)) # 거꾸로 뒤집은 리스트\n",
        "            if n==r:\n",
        "                ans.append('yes')\n",
        "            else:\n",
        "                ans.append('no')\n",
        "    except:\n",
        "        break\n",
        "\n",
        "for i in ans:\n",
        "    print(i)"
      ],
      "metadata": {
        "colab": {
          "base_uri": "https://localhost:8080/"
        },
        "id": "_60gjZouhY1C",
        "outputId": "c9eb2de9-a0ac-476a-c6cf-5c07a5dbf9ca"
      },
      "execution_count": null,
      "outputs": [
        {
          "output_type": "stream",
          "name": "stdout",
          "text": [
            "817\n",
            "707\n",
            "0\n",
            "no\n",
            "yes\n"
          ]
        }
      ]
    }
  ]
}