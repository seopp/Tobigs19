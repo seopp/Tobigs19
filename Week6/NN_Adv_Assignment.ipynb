{
  "cells": [
    {
      "cell_type": "markdown",
      "metadata": {
        "id": "view-in-github",
        "colab_type": "text"
      },
      "source": [
        "<a href=\"https://colab.research.google.com/github/seopp/Tobigs19/blob/main/Week6/NN_Adv_Assignment.ipynb\" target=\"_parent\"><img src=\"https://colab.research.google.com/assets/colab-badge.svg\" alt=\"Open In Colab\"/></a>"
      ]
    },
    {
      "cell_type": "markdown",
      "id": "b0ba9b89",
      "metadata": {
        "id": "b0ba9b89"
      },
      "source": [
        "## NN Adv Assignment"
      ]
    },
    {
      "cell_type": "code",
      "execution_count": 94,
      "id": "80f09603",
      "metadata": {
        "id": "80f09603"
      },
      "outputs": [],
      "source": [
        "import numpy as np\n",
        "import pandas as pd\n",
        "import matplotlib.pyplot as plt\n",
        "\n",
        "### Pytorch\n",
        "\n",
        "import torch\n",
        "import torch.nn as nn\n",
        "import torch.nn.functional as F\n",
        "\n",
        "import warnings\n",
        "warnings.filterwarnings(action='ignore')"
      ]
    },
    {
      "cell_type": "code",
      "source": [
        "# Baseline Model \n",
        "# Val Accuracy: 90.89 % "
      ],
      "metadata": {
        "id": "eGX3iMEkSktr"
      },
      "id": "eGX3iMEkSktr",
      "execution_count": 95,
      "outputs": []
    },
    {
      "cell_type": "markdown",
      "id": "7e8c1bab",
      "metadata": {
        "id": "7e8c1bab"
      },
      "source": [
        "### Load Data"
      ]
    },
    {
      "cell_type": "code",
      "execution_count": 96,
      "id": "b3eb5f5d",
      "metadata": {
        "id": "b3eb5f5d"
      },
      "outputs": [],
      "source": [
        "train = pd.read_csv('Train.csv')"
      ]
    },
    {
      "cell_type": "code",
      "execution_count": 97,
      "id": "ae6f6178",
      "metadata": {
        "colab": {
          "base_uri": "https://localhost:8080/",
          "height": 236
        },
        "id": "ae6f6178",
        "outputId": "e34afb0f-7753-4425-bee5-737b53e9942f"
      },
      "outputs": [
        {
          "output_type": "execute_result",
          "data": {
            "text/plain": [
              "   0  1  2  3  4  5  6  7  8  9  ...  775  776  777  778  779  780  781  782  \\\n",
              "0  0  0  0  0  0  0  0  0  0  0  ...    0    0    0    0    0    0    0    0   \n",
              "1  0  0  0  0  0  0  0  0  0  0  ...    0    0    0    0    0    0    0    0   \n",
              "2  0  0  0  0  0  0  0  0  0  0  ...    0    0    0    0    0    0    0    0   \n",
              "3  0  0  0  0  0  0  0  0  0  0  ...    0    0    0    0    0    0    0    0   \n",
              "4  0  0  0  0  0  0  0  0  0  0  ...    0    0    0    0    0    0    0    0   \n",
              "\n",
              "   783  label  \n",
              "0    0      1  \n",
              "1    0      3  \n",
              "2    0      8  \n",
              "3    0      7  \n",
              "4    0      5  \n",
              "\n",
              "[5 rows x 785 columns]"
            ],
            "text/html": [
              "\n",
              "  <div id=\"df-8068acd0-4bd1-42fe-af90-15562cbcbae2\">\n",
              "    <div class=\"colab-df-container\">\n",
              "      <div>\n",
              "<style scoped>\n",
              "    .dataframe tbody tr th:only-of-type {\n",
              "        vertical-align: middle;\n",
              "    }\n",
              "\n",
              "    .dataframe tbody tr th {\n",
              "        vertical-align: top;\n",
              "    }\n",
              "\n",
              "    .dataframe thead th {\n",
              "        text-align: right;\n",
              "    }\n",
              "</style>\n",
              "<table border=\"1\" class=\"dataframe\">\n",
              "  <thead>\n",
              "    <tr style=\"text-align: right;\">\n",
              "      <th></th>\n",
              "      <th>0</th>\n",
              "      <th>1</th>\n",
              "      <th>2</th>\n",
              "      <th>3</th>\n",
              "      <th>4</th>\n",
              "      <th>5</th>\n",
              "      <th>6</th>\n",
              "      <th>7</th>\n",
              "      <th>8</th>\n",
              "      <th>9</th>\n",
              "      <th>...</th>\n",
              "      <th>775</th>\n",
              "      <th>776</th>\n",
              "      <th>777</th>\n",
              "      <th>778</th>\n",
              "      <th>779</th>\n",
              "      <th>780</th>\n",
              "      <th>781</th>\n",
              "      <th>782</th>\n",
              "      <th>783</th>\n",
              "      <th>label</th>\n",
              "    </tr>\n",
              "  </thead>\n",
              "  <tbody>\n",
              "    <tr>\n",
              "      <th>0</th>\n",
              "      <td>0</td>\n",
              "      <td>0</td>\n",
              "      <td>0</td>\n",
              "      <td>0</td>\n",
              "      <td>0</td>\n",
              "      <td>0</td>\n",
              "      <td>0</td>\n",
              "      <td>0</td>\n",
              "      <td>0</td>\n",
              "      <td>0</td>\n",
              "      <td>...</td>\n",
              "      <td>0</td>\n",
              "      <td>0</td>\n",
              "      <td>0</td>\n",
              "      <td>0</td>\n",
              "      <td>0</td>\n",
              "      <td>0</td>\n",
              "      <td>0</td>\n",
              "      <td>0</td>\n",
              "      <td>0</td>\n",
              "      <td>1</td>\n",
              "    </tr>\n",
              "    <tr>\n",
              "      <th>1</th>\n",
              "      <td>0</td>\n",
              "      <td>0</td>\n",
              "      <td>0</td>\n",
              "      <td>0</td>\n",
              "      <td>0</td>\n",
              "      <td>0</td>\n",
              "      <td>0</td>\n",
              "      <td>0</td>\n",
              "      <td>0</td>\n",
              "      <td>0</td>\n",
              "      <td>...</td>\n",
              "      <td>0</td>\n",
              "      <td>0</td>\n",
              "      <td>0</td>\n",
              "      <td>0</td>\n",
              "      <td>0</td>\n",
              "      <td>0</td>\n",
              "      <td>0</td>\n",
              "      <td>0</td>\n",
              "      <td>0</td>\n",
              "      <td>3</td>\n",
              "    </tr>\n",
              "    <tr>\n",
              "      <th>2</th>\n",
              "      <td>0</td>\n",
              "      <td>0</td>\n",
              "      <td>0</td>\n",
              "      <td>0</td>\n",
              "      <td>0</td>\n",
              "      <td>0</td>\n",
              "      <td>0</td>\n",
              "      <td>0</td>\n",
              "      <td>0</td>\n",
              "      <td>0</td>\n",
              "      <td>...</td>\n",
              "      <td>0</td>\n",
              "      <td>0</td>\n",
              "      <td>0</td>\n",
              "      <td>0</td>\n",
              "      <td>0</td>\n",
              "      <td>0</td>\n",
              "      <td>0</td>\n",
              "      <td>0</td>\n",
              "      <td>0</td>\n",
              "      <td>8</td>\n",
              "    </tr>\n",
              "    <tr>\n",
              "      <th>3</th>\n",
              "      <td>0</td>\n",
              "      <td>0</td>\n",
              "      <td>0</td>\n",
              "      <td>0</td>\n",
              "      <td>0</td>\n",
              "      <td>0</td>\n",
              "      <td>0</td>\n",
              "      <td>0</td>\n",
              "      <td>0</td>\n",
              "      <td>0</td>\n",
              "      <td>...</td>\n",
              "      <td>0</td>\n",
              "      <td>0</td>\n",
              "      <td>0</td>\n",
              "      <td>0</td>\n",
              "      <td>0</td>\n",
              "      <td>0</td>\n",
              "      <td>0</td>\n",
              "      <td>0</td>\n",
              "      <td>0</td>\n",
              "      <td>7</td>\n",
              "    </tr>\n",
              "    <tr>\n",
              "      <th>4</th>\n",
              "      <td>0</td>\n",
              "      <td>0</td>\n",
              "      <td>0</td>\n",
              "      <td>0</td>\n",
              "      <td>0</td>\n",
              "      <td>0</td>\n",
              "      <td>0</td>\n",
              "      <td>0</td>\n",
              "      <td>0</td>\n",
              "      <td>0</td>\n",
              "      <td>...</td>\n",
              "      <td>0</td>\n",
              "      <td>0</td>\n",
              "      <td>0</td>\n",
              "      <td>0</td>\n",
              "      <td>0</td>\n",
              "      <td>0</td>\n",
              "      <td>0</td>\n",
              "      <td>0</td>\n",
              "      <td>0</td>\n",
              "      <td>5</td>\n",
              "    </tr>\n",
              "  </tbody>\n",
              "</table>\n",
              "<p>5 rows × 785 columns</p>\n",
              "</div>\n",
              "      <button class=\"colab-df-convert\" onclick=\"convertToInteractive('df-8068acd0-4bd1-42fe-af90-15562cbcbae2')\"\n",
              "              title=\"Convert this dataframe to an interactive table.\"\n",
              "              style=\"display:none;\">\n",
              "        \n",
              "  <svg xmlns=\"http://www.w3.org/2000/svg\" height=\"24px\"viewBox=\"0 0 24 24\"\n",
              "       width=\"24px\">\n",
              "    <path d=\"M0 0h24v24H0V0z\" fill=\"none\"/>\n",
              "    <path d=\"M18.56 5.44l.94 2.06.94-2.06 2.06-.94-2.06-.94-.94-2.06-.94 2.06-2.06.94zm-11 1L8.5 8.5l.94-2.06 2.06-.94-2.06-.94L8.5 2.5l-.94 2.06-2.06.94zm10 10l.94 2.06.94-2.06 2.06-.94-2.06-.94-.94-2.06-.94 2.06-2.06.94z\"/><path d=\"M17.41 7.96l-1.37-1.37c-.4-.4-.92-.59-1.43-.59-.52 0-1.04.2-1.43.59L10.3 9.45l-7.72 7.72c-.78.78-.78 2.05 0 2.83L4 21.41c.39.39.9.59 1.41.59.51 0 1.02-.2 1.41-.59l7.78-7.78 2.81-2.81c.8-.78.8-2.07 0-2.86zM5.41 20L4 18.59l7.72-7.72 1.47 1.35L5.41 20z\"/>\n",
              "  </svg>\n",
              "      </button>\n",
              "      \n",
              "  <style>\n",
              "    .colab-df-container {\n",
              "      display:flex;\n",
              "      flex-wrap:wrap;\n",
              "      gap: 12px;\n",
              "    }\n",
              "\n",
              "    .colab-df-convert {\n",
              "      background-color: #E8F0FE;\n",
              "      border: none;\n",
              "      border-radius: 50%;\n",
              "      cursor: pointer;\n",
              "      display: none;\n",
              "      fill: #1967D2;\n",
              "      height: 32px;\n",
              "      padding: 0 0 0 0;\n",
              "      width: 32px;\n",
              "    }\n",
              "\n",
              "    .colab-df-convert:hover {\n",
              "      background-color: #E2EBFA;\n",
              "      box-shadow: 0px 1px 2px rgba(60, 64, 67, 0.3), 0px 1px 3px 1px rgba(60, 64, 67, 0.15);\n",
              "      fill: #174EA6;\n",
              "    }\n",
              "\n",
              "    [theme=dark] .colab-df-convert {\n",
              "      background-color: #3B4455;\n",
              "      fill: #D2E3FC;\n",
              "    }\n",
              "\n",
              "    [theme=dark] .colab-df-convert:hover {\n",
              "      background-color: #434B5C;\n",
              "      box-shadow: 0px 1px 3px 1px rgba(0, 0, 0, 0.15);\n",
              "      filter: drop-shadow(0px 1px 2px rgba(0, 0, 0, 0.3));\n",
              "      fill: #FFFFFF;\n",
              "    }\n",
              "  </style>\n",
              "\n",
              "      <script>\n",
              "        const buttonEl =\n",
              "          document.querySelector('#df-8068acd0-4bd1-42fe-af90-15562cbcbae2 button.colab-df-convert');\n",
              "        buttonEl.style.display =\n",
              "          google.colab.kernel.accessAllowed ? 'block' : 'none';\n",
              "\n",
              "        async function convertToInteractive(key) {\n",
              "          const element = document.querySelector('#df-8068acd0-4bd1-42fe-af90-15562cbcbae2');\n",
              "          const dataTable =\n",
              "            await google.colab.kernel.invokeFunction('convertToInteractive',\n",
              "                                                     [key], {});\n",
              "          if (!dataTable) return;\n",
              "\n",
              "          const docLinkHtml = 'Like what you see? Visit the ' +\n",
              "            '<a target=\"_blank\" href=https://colab.research.google.com/notebooks/data_table.ipynb>data table notebook</a>'\n",
              "            + ' to learn more about interactive tables.';\n",
              "          element.innerHTML = '';\n",
              "          dataTable['output_type'] = 'display_data';\n",
              "          await google.colab.output.renderOutput(dataTable, element);\n",
              "          const docLink = document.createElement('div');\n",
              "          docLink.innerHTML = docLinkHtml;\n",
              "          element.appendChild(docLink);\n",
              "        }\n",
              "      </script>\n",
              "    </div>\n",
              "  </div>\n",
              "  "
            ]
          },
          "metadata": {},
          "execution_count": 97
        }
      ],
      "source": [
        "train.head()"
      ]
    },
    {
      "cell_type": "code",
      "execution_count": 98,
      "id": "4e92830d",
      "metadata": {
        "colab": {
          "base_uri": "https://localhost:8080/"
        },
        "id": "4e92830d",
        "outputId": "95ee5407-ab93-4113-fef8-4ccb6b9fd6b4"
      },
      "outputs": [
        {
          "output_type": "execute_result",
          "data": {
            "text/plain": [
              "10"
            ]
          },
          "metadata": {},
          "execution_count": 98
        }
      ],
      "source": [
        "train['label'].nunique()"
      ]
    },
    {
      "cell_type": "code",
      "execution_count": 99,
      "id": "35dc5b73",
      "metadata": {
        "id": "35dc5b73"
      },
      "outputs": [],
      "source": [
        "X = train.iloc[:, :-1].values\n",
        "y = train.iloc[:, -1].values"
      ]
    },
    {
      "cell_type": "code",
      "execution_count": 100,
      "id": "26c6d257",
      "metadata": {
        "colab": {
          "base_uri": "https://localhost:8080/",
          "height": 94
        },
        "id": "26c6d257",
        "outputId": "9957c3d9-cc68-43b4-d0f0-985e07456cd2"
      },
      "outputs": [
        {
          "output_type": "display_data",
          "data": {
            "text/plain": [
              "<Figure size 1440x72 with 20 Axes>"
            ],
            "image/png": "[encoded data removed]"
          },
          "metadata": {
            "needs_background": "light"
          }
        }
      ],
      "source": [
        "pltsize = 1\n",
        "plt.figure(figsize=(20 * pltsize, pltsize))\n",
        "for idx in range(0, 20):\n",
        "  plt.subplot(1, 20, idx + 1)\n",
        "  plt.axis('off')\n",
        "  plt.imshow(X[idx].reshape(28, 28), cmap='gray_r')\n",
        "  plt.title(f'Class : {y[idx]}')"
      ]
    },
    {
      "cell_type": "markdown",
      "id": "c2df1b99",
      "metadata": {
        "id": "c2df1b99"
      },
      "source": [
        "### Train-Test Split"
      ]
    },
    {
      "cell_type": "code",
      "source": [
        "from sklearn.model_selection import train_test_split\n",
        "\n",
        "X_train, X_val, y_train, y_val = train_test_split(X, y, test_size = 0.2, random_state = 16)\n",
        "\n",
        "## Normalization\n",
        "X_train = X_train.astype('float32') / 255.0\n",
        "X_val = X_val.astype('float32') / 255.0\n",
        "\n",
        "X_train = torch.FloatTensor(X_train)\n",
        "y_train = torch.LongTensor(y_train)\n",
        "\n",
        "X_val = torch.FloatTensor(X_val)\n",
        "y_val = torch.LongTensor(y_val)"
      ],
      "metadata": {
        "id": "kBgKNfUCE6ju"
      },
      "id": "kBgKNfUCE6ju",
      "execution_count": 101,
      "outputs": []
    },
    {
      "cell_type": "code",
      "source": [],
      "metadata": {
        "id": "pbcJe2AQEzzN"
      },
      "id": "pbcJe2AQEzzN",
      "execution_count": 101,
      "outputs": []
    },
    {
      "cell_type": "code",
      "execution_count": 102,
      "metadata": {
        "colab": {
          "base_uri": "https://localhost:8080/"
        },
        "id": "2wS5oudTu0Tt",
        "outputId": "7d37dc54-9883-4e10-9a0d-d509f224d2f5"
      },
      "outputs": [
        {
          "output_type": "stream",
          "name": "stdout",
          "text": [
            "cuda\n"
          ]
        }
      ],
      "source": [
        "if torch.cuda.is_available():\n",
        "  DEVICE = torch.device('cuda')\n",
        "else:\n",
        "  DEVICE = torch.device('cpu')\n",
        "\n",
        "print(DEVICE)"
      ],
      "id": "2wS5oudTu0Tt"
    },
    {
      "cell_type": "code",
      "execution_count": 103,
      "metadata": {
        "id": "UmyrqG90u_58"
      },
      "outputs": [],
      "source": [
        "from torch.utils.data import Dataset\n",
        "from torch.utils.data import DataLoader\n",
        "\n",
        "class DataSet(Dataset):\n",
        "  def __init__(self, image, label = None):\n",
        "    super(DataSet, self).__init__()\n",
        "    self._image = image\n",
        "    self._label = label\n",
        "\n",
        "  def __len__(self):\n",
        "    return len(self._image)\n",
        "\n",
        "  def __getitem__(self, idx):\n",
        "    if self._label is None:\n",
        "      image = self._image[idx]\n",
        "      return image\n",
        "\n",
        "    else:\n",
        "      image = self._image[idx]\n",
        "      label = self._label[idx]\n",
        "\n",
        "      return image, label"
      ],
      "id": "UmyrqG90u_58"
    },
    {
      "cell_type": "code",
      "execution_count": 104,
      "metadata": {
        "id": "tuuZXiJDuMqc"
      },
      "outputs": [],
      "source": [
        "train_dataset = DataSet(X_train, y_train)\n",
        "train_loader = DataLoader(train_dataset, batch_size = BATCH_SIZE, shuffle = True, drop_last = False)\n",
        "\n",
        "val_dataset = DataSet(X_val, y_val)\n",
        "val_loader = DataLoader(val_dataset, batch_size = BATCH_SIZE, shuffle = True, drop_last = False)"
      ],
      "id": "tuuZXiJDuMqc"
    },
    {
      "cell_type": "code",
      "execution_count": 105,
      "metadata": {
        "id": "sAnZsabswlok"
      },
      "outputs": [],
      "source": [
        "def train(model, train_loader):\n",
        "  model.train()\n",
        "  train_loss = 0\n",
        "  correct = 0\n",
        "\n",
        "  for image, label in train_loader:\n",
        "    image = image.to(DEVICE)\n",
        "    label = label.to(DEVICE)\n",
        "    optimizer.zero_grad()\n",
        "    output = model(image)\n",
        "    loss = criterion(output, label)\n",
        "    loss.backward()\n",
        "    optimizer.step()\n",
        "\n",
        "    train_loss += loss.item()\n",
        "    prediction = output.max(1, keepdim = True)[1]\n",
        "    correct += prediction.eq(label.view_as(prediction)).sum().item()\n",
        "      \n",
        "  train_loss /= len(train_loader)\n",
        "  train_accuracy = 100. * correct / len(train_loader.dataset)\n",
        "  return train_loss, train_accuracy"
      ],
      "id": "sAnZsabswlok"
    },
    {
      "cell_type": "code",
      "execution_count": 106,
      "metadata": {
        "id": "LBIYXA74qFgT"
      },
      "outputs": [],
      "source": [
        "def evaluate(model, test_loader):\n",
        "  model.eval()\n",
        "  test_loss = 0\n",
        "  correct = 0\n",
        "\n",
        "  with torch.no_grad():\n",
        "    for image, label in test_loader:\n",
        "      image = image.to(DEVICE)\n",
        "      label = label.to(DEVICE)\n",
        "      output = model(image)\n",
        "      test_loss += criterion(output, label).item()\n",
        "      prediction = output.max(1, keepdim = True)[1]\n",
        "      correct += prediction.eq(label.view_as(prediction)).sum().item()\n",
        "\n",
        "  test_loss /= len(test_loader)\n",
        "  test_accuracy = 100. * correct / len(test_loader.dataset)\n",
        "  return test_loss, test_accuracy"
      ],
      "id": "LBIYXA74qFgT"
    },
    {
      "cell_type": "code",
      "execution_count": 107,
      "metadata": {
        "id": "VvCzzZrVw2wM"
      },
      "outputs": [],
      "source": [
        "def pred(model, test_loader):\n",
        "  model.eval()\n",
        "  pred_li = []\n",
        "\n",
        "  with torch.no_grad():\n",
        "    for image in test_loader:\n",
        "      image = image.to(DEVICE)\n",
        "      output = model(image)\n",
        "      pred_li.append(output.cpu().numpy().argmax(axis=1))\n",
        "\n",
        "  return np.concatenate(pred_li)"
      ],
      "id": "VvCzzZrVw2wM"
    },
    {
      "cell_type": "markdown",
      "metadata": {
        "id": "dSLnNAGatnRb"
      },
      "source": [
        "# Modeling"
      ],
      "id": "dSLnNAGatnRb"
    },
    {
      "cell_type": "markdown",
      "source": [
        "총 5개의 Layer.   \n",
        "Activation Function : ReLU 함수 적용.   \n",
        "Weight Initialization : ReLU를 활성화 함수로 사용 시 Xavier 초기값 설정이 비효율적이기 때문에 He Initialization 사용  \n",
        "Batch Normalization : 은닉층 사이마다 적용.  \n",
        "Dropout : 0.2  \n",
        "Optimizer : Adam optimizer, lr = 0.001\n"
      ],
      "metadata": {
        "id": "3s_NeUHaI3mf"
      },
      "id": "3s_NeUHaI3mf"
    },
    {
      "cell_type": "code",
      "execution_count": 108,
      "metadata": {
        "id": "ADxy8kMw49ts"
      },
      "outputs": [],
      "source": [
        "BATCH_SIZE = 64\n",
        "EPOCHS = 100"
      ],
      "id": "ADxy8kMw49ts"
    },
    {
      "cell_type": "code",
      "execution_count": 109,
      "metadata": {
        "id": "DH-mIU7z49tz"
      },
      "outputs": [],
      "source": [
        "class Net(nn.Module):\n",
        "  def __init__(self):\n",
        "    super(Net, self).__init__()\n",
        "    self.linear1 = nn.Sequential(\n",
        "        nn.Linear(28 * 28, 512),\n",
        "        nn.BatchNorm1d(512),\n",
        "        nn.ReLU(),\n",
        "        nn.Dropout(0.2)\n",
        "    )\n",
        "    self.linear2 = nn.Sequential(\n",
        "        nn.Linear(512, 256),\n",
        "        nn.BatchNorm1d(256),\n",
        "        nn.ReLU(),\n",
        "        nn.Dropout(0.2)\n",
        "    )\n",
        "    self.linear3 = nn.Sequential(\n",
        "        nn.Linear(256, 128),\n",
        "        nn.BatchNorm1d(128),\n",
        "        nn.ReLU(),\n",
        "        nn.Dropout(0.2)\n",
        "    )\n",
        "    self.linear4 = nn.Sequential(\n",
        "        nn.Linear(128, 64),\n",
        "        nn.BatchNorm1d(64),\n",
        "        nn.ReLU(),\n",
        "        nn.Dropout(0.2)\n",
        "    )\n",
        "    self.linear5 = nn.Sequential(\n",
        "        nn.Linear(64, 10)\n",
        "    )\n",
        "\n",
        "    self._init_weight_()\n",
        "\n",
        "  def _init_weight_(self):\n",
        "    for m in self.linear1:\n",
        "      if isinstance(m, nn.Linear):\n",
        "        nn.init.kaiming_uniform_(m.weight)\n",
        "\n",
        "    for m in self.linear2:\n",
        "      if isinstance(m, nn.Linear):\n",
        "        nn.init.kaiming_uniform_(m.weight)\n",
        "\n",
        "    for m in self.linear3:\n",
        "      if isinstance(m, nn.Linear):\n",
        "        nn.init.kaiming_uniform_(m.weight)\n",
        "\n",
        "  def forward(self, x):\n",
        "    x = x.view(-1, 28 * 28)\n",
        "    x = self.linear1(x)\n",
        "    x = self.linear2(x)\n",
        "    x = self.linear3(x)\n",
        "    x = self.linear4(x)\n",
        "    x = self.linear5(x)\n",
        "\n",
        "    return x"
      ],
      "id": "DH-mIU7z49tz"
    },
    {
      "cell_type": "code",
      "execution_count": 110,
      "metadata": {
        "colab": {
          "base_uri": "https://localhost:8080/"
        },
        "id": "Qj9X1vtd49tz",
        "outputId": "5fba7a13-4bf2-41c4-9c65-626f44dbbd4a"
      },
      "outputs": [
        {
          "output_type": "stream",
          "name": "stdout",
          "text": [
            "Net(\n",
            "  (linear1): Sequential(\n",
            "    (0): Linear(in_features=784, out_features=512, bias=True)\n",
            "    (1): BatchNorm1d(512, eps=1e-05, momentum=0.1, affine=True, track_running_stats=True)\n",
            "    (2): ReLU()\n",
            "    (3): Dropout(p=0.2, inplace=False)\n",
            "  )\n",
            "  (linear2): Sequential(\n",
            "    (0): Linear(in_features=512, out_features=256, bias=True)\n",
            "    (1): BatchNorm1d(256, eps=1e-05, momentum=0.1, affine=True, track_running_stats=True)\n",
            "    (2): ReLU()\n",
            "    (3): Dropout(p=0.2, inplace=False)\n",
            "  )\n",
            "  (linear3): Sequential(\n",
            "    (0): Linear(in_features=256, out_features=128, bias=True)\n",
            "    (1): BatchNorm1d(128, eps=1e-05, momentum=0.1, affine=True, track_running_stats=True)\n",
            "    (2): ReLU()\n",
            "    (3): Dropout(p=0.2, inplace=False)\n",
            "  )\n",
            "  (linear4): Sequential(\n",
            "    (0): Linear(in_features=128, out_features=64, bias=True)\n",
            "    (1): BatchNorm1d(64, eps=1e-05, momentum=0.1, affine=True, track_running_stats=True)\n",
            "    (2): ReLU()\n",
            "    (3): Dropout(p=0.2, inplace=False)\n",
            "  )\n",
            "  (linear5): Sequential(\n",
            "    (0): Linear(in_features=64, out_features=10, bias=True)\n",
            "  )\n",
            ")\n"
          ]
        }
      ],
      "source": [
        "model = Net().to(DEVICE)\n",
        "optimizer = torch.optim.Adam(model.parameters(), lr = 0.001)\n",
        "criterion = nn.CrossEntropyLoss()\n",
        "\n",
        "print(model)"
      ],
      "id": "Qj9X1vtd49tz"
    },
    {
      "cell_type": "code",
      "execution_count": 111,
      "metadata": {
        "colab": {
          "base_uri": "https://localhost:8080/"
        },
        "id": "JxV_tHEm49tz",
        "outputId": "e8610385-5793-4181-a94e-defe34eecd6f"
      },
      "outputs": [
        {
          "output_type": "stream",
          "name": "stdout",
          "text": [
            "[EPOCH: 1], \tTrain Loss: 0.6476, \tTrain Accuracy: 79.59 %, \tVal Loss: 0.3958, \tVal Accuracy: 85.65 % \n",
            "\n",
            "[EPOCH: 2], \tTrain Loss: 0.4201, \tTrain Accuracy: 85.41 %, \tVal Loss: 0.4037, \tVal Accuracy: 84.76 % \n",
            "\n",
            "[EPOCH: 3], \tTrain Loss: 0.3811, \tTrain Accuracy: 86.36 %, \tVal Loss: 0.3333, \tVal Accuracy: 87.77 % \n",
            "\n",
            "[EPOCH: 4], \tTrain Loss: 0.3530, \tTrain Accuracy: 87.49 %, \tVal Loss: 0.3395, \tVal Accuracy: 87.66 % \n",
            "\n",
            "[EPOCH: 5], \tTrain Loss: 0.3300, \tTrain Accuracy: 88.30 %, \tVal Loss: 0.3444, \tVal Accuracy: 87.20 % \n",
            "\n",
            "[EPOCH: 6], \tTrain Loss: 0.3181, \tTrain Accuracy: 88.53 %, \tVal Loss: 0.3307, \tVal Accuracy: 87.84 % \n",
            "\n",
            "[EPOCH: 7], \tTrain Loss: 0.3008, \tTrain Accuracy: 89.19 %, \tVal Loss: 0.3088, \tVal Accuracy: 88.64 % \n",
            "\n",
            "[EPOCH: 8], \tTrain Loss: 0.2901, \tTrain Accuracy: 89.46 %, \tVal Loss: 0.3272, \tVal Accuracy: 88.31 % \n",
            "\n",
            "[EPOCH: 9], \tTrain Loss: 0.2755, \tTrain Accuracy: 90.02 %, \tVal Loss: 0.3110, \tVal Accuracy: 88.64 % \n",
            "\n",
            "[EPOCH: 10], \tTrain Loss: 0.2632, \tTrain Accuracy: 90.42 %, \tVal Loss: 0.2939, \tVal Accuracy: 89.42 % \n",
            "\n",
            "[EPOCH: 11], \tTrain Loss: 0.2584, \tTrain Accuracy: 90.65 %, \tVal Loss: 0.3035, \tVal Accuracy: 88.82 % \n",
            "\n",
            "[EPOCH: 12], \tTrain Loss: 0.2458, \tTrain Accuracy: 91.00 %, \tVal Loss: 0.3403, \tVal Accuracy: 87.19 % \n",
            "\n",
            "[EPOCH: 13], \tTrain Loss: 0.2380, \tTrain Accuracy: 91.33 %, \tVal Loss: 0.3012, \tVal Accuracy: 89.13 % \n",
            "\n",
            "[EPOCH: 14], \tTrain Loss: 0.2284, \tTrain Accuracy: 91.60 %, \tVal Loss: 0.3152, \tVal Accuracy: 88.95 % \n",
            "\n",
            "[EPOCH: 15], \tTrain Loss: 0.2262, \tTrain Accuracy: 91.70 %, \tVal Loss: 0.2992, \tVal Accuracy: 89.46 % \n",
            "\n",
            "[EPOCH: 16], \tTrain Loss: 0.2180, \tTrain Accuracy: 91.95 %, \tVal Loss: 0.3154, \tVal Accuracy: 88.82 % \n",
            "\n",
            "[EPOCH: 17], \tTrain Loss: 0.2111, \tTrain Accuracy: 92.35 %, \tVal Loss: 0.3041, \tVal Accuracy: 89.76 % \n",
            "\n",
            "[EPOCH: 18], \tTrain Loss: 0.2065, \tTrain Accuracy: 92.39 %, \tVal Loss: 0.2921, \tVal Accuracy: 89.90 % \n",
            "\n",
            "[EPOCH: 19], \tTrain Loss: 0.1978, \tTrain Accuracy: 92.76 %, \tVal Loss: 0.3059, \tVal Accuracy: 89.67 % \n",
            "\n",
            "[EPOCH: 20], \tTrain Loss: 0.1942, \tTrain Accuracy: 92.99 %, \tVal Loss: 0.3085, \tVal Accuracy: 89.41 % \n",
            "\n",
            "[EPOCH: 21], \tTrain Loss: 0.1901, \tTrain Accuracy: 93.03 %, \tVal Loss: 0.3073, \tVal Accuracy: 89.66 % \n",
            "\n",
            "[EPOCH: 22], \tTrain Loss: 0.1821, \tTrain Accuracy: 93.57 %, \tVal Loss: 0.3088, \tVal Accuracy: 89.55 % \n",
            "\n",
            "[EPOCH: 23], \tTrain Loss: 0.1730, \tTrain Accuracy: 93.83 %, \tVal Loss: 0.3052, \tVal Accuracy: 90.02 % \n",
            "\n",
            "[EPOCH: 24], \tTrain Loss: 0.1748, \tTrain Accuracy: 93.70 %, \tVal Loss: 0.3186, \tVal Accuracy: 89.66 % \n",
            "\n",
            "[EPOCH: 25], \tTrain Loss: 0.1671, \tTrain Accuracy: 93.87 %, \tVal Loss: 0.3114, \tVal Accuracy: 89.98 % \n",
            "\n",
            "[EPOCH: 26], \tTrain Loss: 0.1620, \tTrain Accuracy: 94.04 %, \tVal Loss: 0.3597, \tVal Accuracy: 89.06 % \n",
            "\n",
            "[EPOCH: 27], \tTrain Loss: 0.1595, \tTrain Accuracy: 94.15 %, \tVal Loss: 0.3129, \tVal Accuracy: 89.99 % \n",
            "\n",
            "[EPOCH: 28], \tTrain Loss: 0.1543, \tTrain Accuracy: 94.28 %, \tVal Loss: 0.3398, \tVal Accuracy: 89.33 % \n",
            "\n",
            "[EPOCH: 29], \tTrain Loss: 0.1497, \tTrain Accuracy: 94.51 %, \tVal Loss: 0.3117, \tVal Accuracy: 90.22 % \n",
            "\n",
            "[EPOCH: 30], \tTrain Loss: 0.1463, \tTrain Accuracy: 94.64 %, \tVal Loss: 0.3320, \tVal Accuracy: 89.40 % \n",
            "\n",
            "[EPOCH: 31], \tTrain Loss: 0.1441, \tTrain Accuracy: 94.66 %, \tVal Loss: 0.3083, \tVal Accuracy: 90.24 % \n",
            "\n",
            "[EPOCH: 32], \tTrain Loss: 0.1386, \tTrain Accuracy: 94.92 %, \tVal Loss: 0.3292, \tVal Accuracy: 89.84 % \n",
            "\n",
            "[EPOCH: 33], \tTrain Loss: 0.1358, \tTrain Accuracy: 95.05 %, \tVal Loss: 0.3217, \tVal Accuracy: 90.03 % \n",
            "\n",
            "[EPOCH: 34], \tTrain Loss: 0.1313, \tTrain Accuracy: 95.13 %, \tVal Loss: 0.3301, \tVal Accuracy: 89.70 % \n",
            "\n",
            "[EPOCH: 35], \tTrain Loss: 0.1306, \tTrain Accuracy: 95.22 %, \tVal Loss: 0.3497, \tVal Accuracy: 89.51 % \n",
            "\n",
            "[EPOCH: 36], \tTrain Loss: 0.1284, \tTrain Accuracy: 95.26 %, \tVal Loss: 0.3466, \tVal Accuracy: 89.59 % \n",
            "\n",
            "[EPOCH: 37], \tTrain Loss: 0.1239, \tTrain Accuracy: 95.46 %, \tVal Loss: 0.3373, \tVal Accuracy: 89.73 % \n",
            "\n",
            "[EPOCH: 38], \tTrain Loss: 0.1253, \tTrain Accuracy: 95.36 %, \tVal Loss: 0.3552, \tVal Accuracy: 89.67 % \n",
            "\n",
            "[EPOCH: 39], \tTrain Loss: 0.1169, \tTrain Accuracy: 95.66 %, \tVal Loss: 0.3403, \tVal Accuracy: 90.24 % \n",
            "\n",
            "[EPOCH: 40], \tTrain Loss: 0.1152, \tTrain Accuracy: 95.73 %, \tVal Loss: 0.3321, \tVal Accuracy: 90.15 % \n",
            "\n",
            "[EPOCH: 41], \tTrain Loss: 0.1132, \tTrain Accuracy: 95.80 %, \tVal Loss: 0.3593, \tVal Accuracy: 89.45 % \n",
            "\n",
            "[EPOCH: 42], \tTrain Loss: 0.1091, \tTrain Accuracy: 96.02 %, \tVal Loss: 0.3411, \tVal Accuracy: 90.15 % \n",
            "\n",
            "[EPOCH: 43], \tTrain Loss: 0.1089, \tTrain Accuracy: 95.92 %, \tVal Loss: 0.3543, \tVal Accuracy: 90.17 % \n",
            "\n",
            "[EPOCH: 44], \tTrain Loss: 0.1065, \tTrain Accuracy: 96.11 %, \tVal Loss: 0.3552, \tVal Accuracy: 89.87 % \n",
            "\n",
            "[EPOCH: 45], \tTrain Loss: 0.1077, \tTrain Accuracy: 96.02 %, \tVal Loss: 0.3670, \tVal Accuracy: 89.63 % \n",
            "\n",
            "[EPOCH: 46], \tTrain Loss: 0.1018, \tTrain Accuracy: 96.29 %, \tVal Loss: 0.3587, \tVal Accuracy: 90.31 % \n",
            "\n",
            "[EPOCH: 47], \tTrain Loss: 0.0998, \tTrain Accuracy: 96.33 %, \tVal Loss: 0.3572, \tVal Accuracy: 90.13 % \n",
            "\n",
            "[EPOCH: 48], \tTrain Loss: 0.0965, \tTrain Accuracy: 96.44 %, \tVal Loss: 0.3636, \tVal Accuracy: 90.18 % \n",
            "\n",
            "[EPOCH: 49], \tTrain Loss: 0.0986, \tTrain Accuracy: 96.54 %, \tVal Loss: 0.3443, \tVal Accuracy: 90.27 % \n",
            "\n",
            "[EPOCH: 50], \tTrain Loss: 0.0942, \tTrain Accuracy: 96.62 %, \tVal Loss: 0.3862, \tVal Accuracy: 89.76 % \n",
            "\n",
            "[EPOCH: 51], \tTrain Loss: 0.0894, \tTrain Accuracy: 96.74 %, \tVal Loss: 0.3828, \tVal Accuracy: 90.34 % \n",
            "\n",
            "[EPOCH: 52], \tTrain Loss: 0.0917, \tTrain Accuracy: 96.71 %, \tVal Loss: 0.3813, \tVal Accuracy: 90.03 % \n",
            "\n",
            "[EPOCH: 53], \tTrain Loss: 0.0939, \tTrain Accuracy: 96.56 %, \tVal Loss: 0.3607, \tVal Accuracy: 90.29 % \n",
            "\n",
            "[EPOCH: 54], \tTrain Loss: 0.0867, \tTrain Accuracy: 96.82 %, \tVal Loss: 0.3723, \tVal Accuracy: 90.23 % \n",
            "\n",
            "[EPOCH: 55], \tTrain Loss: 0.0909, \tTrain Accuracy: 96.68 %, \tVal Loss: 0.3741, \tVal Accuracy: 90.12 % \n",
            "\n",
            "[EPOCH: 56], \tTrain Loss: 0.0800, \tTrain Accuracy: 97.02 %, \tVal Loss: 0.3889, \tVal Accuracy: 89.96 % \n",
            "\n",
            "[EPOCH: 57], \tTrain Loss: 0.0836, \tTrain Accuracy: 96.85 %, \tVal Loss: 0.3815, \tVal Accuracy: 90.37 % \n",
            "\n",
            "[EPOCH: 58], \tTrain Loss: 0.0821, \tTrain Accuracy: 96.89 %, \tVal Loss: 0.3800, \tVal Accuracy: 90.15 % \n",
            "\n",
            "[EPOCH: 59], \tTrain Loss: 0.0801, \tTrain Accuracy: 97.10 %, \tVal Loss: 0.3873, \tVal Accuracy: 90.10 % \n",
            "\n",
            "[EPOCH: 60], \tTrain Loss: 0.0797, \tTrain Accuracy: 97.11 %, \tVal Loss: 0.3723, \tVal Accuracy: 90.37 % \n",
            "\n",
            "[EPOCH: 61], \tTrain Loss: 0.0790, \tTrain Accuracy: 97.15 %, \tVal Loss: 0.3878, \tVal Accuracy: 90.33 % \n",
            "\n",
            "[EPOCH: 62], \tTrain Loss: 0.0759, \tTrain Accuracy: 97.20 %, \tVal Loss: 0.4023, \tVal Accuracy: 90.22 % \n",
            "\n",
            "[EPOCH: 63], \tTrain Loss: 0.0765, \tTrain Accuracy: 97.18 %, \tVal Loss: 0.3739, \tVal Accuracy: 90.48 % \n",
            "\n",
            "[EPOCH: 64], \tTrain Loss: 0.0722, \tTrain Accuracy: 97.37 %, \tVal Loss: 0.4011, \tVal Accuracy: 90.12 % \n",
            "\n",
            "[EPOCH: 65], \tTrain Loss: 0.0760, \tTrain Accuracy: 97.25 %, \tVal Loss: 0.3916, \tVal Accuracy: 90.29 % \n",
            "\n",
            "[EPOCH: 66], \tTrain Loss: 0.0752, \tTrain Accuracy: 97.22 %, \tVal Loss: 0.3933, \tVal Accuracy: 90.17 % \n",
            "\n",
            "[EPOCH: 67], \tTrain Loss: 0.0741, \tTrain Accuracy: 97.34 %, \tVal Loss: 0.4003, \tVal Accuracy: 90.20 % \n",
            "\n",
            "[EPOCH: 68], \tTrain Loss: 0.0703, \tTrain Accuracy: 97.42 %, \tVal Loss: 0.3999, \tVal Accuracy: 90.39 % \n",
            "\n",
            "[EPOCH: 69], \tTrain Loss: 0.0708, \tTrain Accuracy: 97.43 %, \tVal Loss: 0.4386, \tVal Accuracy: 89.66 % \n",
            "\n",
            "[EPOCH: 70], \tTrain Loss: 0.0725, \tTrain Accuracy: 97.39 %, \tVal Loss: 0.3925, \tVal Accuracy: 90.37 % \n",
            "\n",
            "[EPOCH: 71], \tTrain Loss: 0.0697, \tTrain Accuracy: 97.52 %, \tVal Loss: 0.4059, \tVal Accuracy: 89.97 % \n",
            "\n",
            "[EPOCH: 72], \tTrain Loss: 0.0673, \tTrain Accuracy: 97.65 %, \tVal Loss: 0.4006, \tVal Accuracy: 90.46 % \n",
            "\n",
            "[EPOCH: 73], \tTrain Loss: 0.0678, \tTrain Accuracy: 97.51 %, \tVal Loss: 0.4115, \tVal Accuracy: 90.04 % \n",
            "\n",
            "[EPOCH: 74], \tTrain Loss: 0.0687, \tTrain Accuracy: 97.55 %, \tVal Loss: 0.3963, \tVal Accuracy: 90.25 % \n",
            "\n",
            "[EPOCH: 75], \tTrain Loss: 0.0637, \tTrain Accuracy: 97.67 %, \tVal Loss: 0.3980, \tVal Accuracy: 90.23 % \n",
            "\n",
            "[EPOCH: 76], \tTrain Loss: 0.0660, \tTrain Accuracy: 97.54 %, \tVal Loss: 0.4025, \tVal Accuracy: 90.59 % \n",
            "\n",
            "[EPOCH: 77], \tTrain Loss: 0.0620, \tTrain Accuracy: 97.79 %, \tVal Loss: 0.4315, \tVal Accuracy: 90.13 % \n",
            "\n",
            "[EPOCH: 78], \tTrain Loss: 0.0632, \tTrain Accuracy: 97.68 %, \tVal Loss: 0.4299, \tVal Accuracy: 90.31 % \n",
            "\n",
            "[EPOCH: 79], \tTrain Loss: 0.0610, \tTrain Accuracy: 97.71 %, \tVal Loss: 0.4282, \tVal Accuracy: 90.18 % \n",
            "\n",
            "[EPOCH: 80], \tTrain Loss: 0.0623, \tTrain Accuracy: 97.71 %, \tVal Loss: 0.4300, \tVal Accuracy: 89.85 % \n",
            "\n",
            "[EPOCH: 81], \tTrain Loss: 0.0568, \tTrain Accuracy: 97.91 %, \tVal Loss: 0.4371, \tVal Accuracy: 90.22 % \n",
            "\n",
            "[EPOCH: 82], \tTrain Loss: 0.0623, \tTrain Accuracy: 97.73 %, \tVal Loss: 0.4206, \tVal Accuracy: 90.10 % \n",
            "\n",
            "[EPOCH: 83], \tTrain Loss: 0.0577, \tTrain Accuracy: 97.90 %, \tVal Loss: 0.4165, \tVal Accuracy: 90.29 % \n",
            "\n",
            "[EPOCH: 84], \tTrain Loss: 0.0594, \tTrain Accuracy: 97.88 %, \tVal Loss: 0.4220, \tVal Accuracy: 90.42 % \n",
            "\n",
            "[EPOCH: 85], \tTrain Loss: 0.0587, \tTrain Accuracy: 97.96 %, \tVal Loss: 0.4171, \tVal Accuracy: 89.87 % \n",
            "\n",
            "[EPOCH: 86], \tTrain Loss: 0.0574, \tTrain Accuracy: 97.92 %, \tVal Loss: 0.4300, \tVal Accuracy: 90.25 % \n",
            "\n",
            "[EPOCH: 87], \tTrain Loss: 0.0561, \tTrain Accuracy: 97.98 %, \tVal Loss: 0.4333, \tVal Accuracy: 90.34 % \n",
            "\n",
            "[EPOCH: 88], \tTrain Loss: 0.0540, \tTrain Accuracy: 98.06 %, \tVal Loss: 0.4405, \tVal Accuracy: 90.28 % \n",
            "\n",
            "[EPOCH: 89], \tTrain Loss: 0.0564, \tTrain Accuracy: 97.95 %, \tVal Loss: 0.4353, \tVal Accuracy: 90.13 % \n",
            "\n",
            "[EPOCH: 90], \tTrain Loss: 0.0549, \tTrain Accuracy: 98.01 %, \tVal Loss: 0.4465, \tVal Accuracy: 89.96 % \n",
            "\n",
            "[EPOCH: 91], \tTrain Loss: 0.0522, \tTrain Accuracy: 98.08 %, \tVal Loss: 0.4323, \tVal Accuracy: 90.39 % \n",
            "\n",
            "[EPOCH: 92], \tTrain Loss: 0.0540, \tTrain Accuracy: 98.07 %, \tVal Loss: 0.4405, \tVal Accuracy: 90.13 % \n",
            "\n",
            "[EPOCH: 93], \tTrain Loss: 0.0563, \tTrain Accuracy: 97.98 %, \tVal Loss: 0.4187, \tVal Accuracy: 90.61 % \n",
            "\n",
            "[EPOCH: 94], \tTrain Loss: 0.0514, \tTrain Accuracy: 98.21 %, \tVal Loss: 0.4478, \tVal Accuracy: 90.08 % \n",
            "\n",
            "[EPOCH: 95], \tTrain Loss: 0.0514, \tTrain Accuracy: 98.15 %, \tVal Loss: 0.4385, \tVal Accuracy: 90.38 % \n",
            "\n",
            "[EPOCH: 96], \tTrain Loss: 0.0491, \tTrain Accuracy: 98.26 %, \tVal Loss: 0.4693, \tVal Accuracy: 90.39 % \n",
            "\n",
            "[EPOCH: 97], \tTrain Loss: 0.0521, \tTrain Accuracy: 98.13 %, \tVal Loss: 0.4462, \tVal Accuracy: 90.18 % \n",
            "\n",
            "[EPOCH: 98], \tTrain Loss: 0.0507, \tTrain Accuracy: 98.13 %, \tVal Loss: 0.4376, \tVal Accuracy: 90.47 % \n",
            "\n",
            "[EPOCH: 99], \tTrain Loss: 0.0505, \tTrain Accuracy: 98.20 %, \tVal Loss: 0.4355, \tVal Accuracy: 90.22 % \n",
            "\n",
            "[EPOCH: 100], \tTrain Loss: 0.0512, \tTrain Accuracy: 98.17 %, \tVal Loss: 0.4531, \tVal Accuracy: 90.15 % \n",
            "\n"
          ]
        }
      ],
      "source": [
        "result_list = []\n",
        "for epoch in range(1, EPOCHS + 1):\n",
        "  train_loss, train_accuracy = train(model, train_loader)\n",
        "  val_loss, val_accuracy = evaluate(model, val_loader)\n",
        "  print(f\"[EPOCH: {epoch}], \\tTrain Loss: {train_loss:.4f}, \\tTrain Accuracy: {train_accuracy:.2f} %, \\tVal Loss: {val_loss:.4f}, \\tVal Accuracy: {val_accuracy:.2f} % \\n\")\n",
        "  result = {\n",
        "    'EPOCH': epoch,\n",
        "    'Train Loss': train_loss,\n",
        "    'Train Accuracy': train_accuracy,\n",
        "    'Val Loss': val_loss,\n",
        "    'Val Accuracy': val_accuracy}\n",
        "  \n",
        "  result_list.append(result)\n",
        "result_df = pd.DataFrame(result_list)"
      ],
      "id": "JxV_tHEm49tz"
    },
    {
      "cell_type": "code",
      "execution_count": 112,
      "metadata": {
        "colab": {
          "base_uri": "https://localhost:8080/",
          "height": 336
        },
        "id": "dQ2cZnIY49t0",
        "outputId": "62b3fd86-ec00-4d7b-b177-e7a8158e54e3"
      },
      "outputs": [
        {
          "output_type": "display_data",
          "data": {
            "text/plain": [
              "<Figure size 1080x360 with 2 Axes>"
            ],
            "image/png": "[encoded data removed]"
          },
          "metadata": {
            "needs_background": "light"
          }
        }
      ],
      "source": [
        "fig, axes = plt.subplots(nrows=1, ncols=2, figsize=(15, 5))\n",
        "\n",
        "axes[0].plot(result_df['EPOCH'], result_df['Train Loss'], label='Train Loss')\n",
        "axes[0].plot(result_df['EPOCH'], result_df['Val Loss'], label='Val Loss')\n",
        "axes[0].set_ylim(0.0, 1)\n",
        "axes[0].legend()\n",
        "axes[0].set_title('Loss')\n",
        "\n",
        "axes[1].plot(result_df['EPOCH'], result_df['Train Accuracy'], label='Train Accuracy')\n",
        "axes[1].plot(result_df['EPOCH'], result_df['Val Accuracy'], label='Val Accuracy')\n",
        "axes[1].set_ylim(80, 100)\n",
        "axes[1].legend()\n",
        "axes[1].set_title('ACC')\n",
        "\n",
        "plt.show()"
      ],
      "id": "dQ2cZnIY49t0"
    }
  ],
  "metadata": {
    "kernelspec": {
      "display_name": "Python 3 (ipykernel)",
      "language": "python",
      "name": "python3"
    },
    "language_info": {
      "codemirror_mode": {
        "name": "ipython",
        "version": 3
      },
      "file_extension": ".py",
      "mimetype": "text/x-python",
      "name": "python",
      "nbconvert_exporter": "python",
      "pygments_lexer": "ipython3",
      "version": "3.8.12"
    },
    "colab": {
      "provenance": [],
      "include_colab_link": true
    },
    "accelerator": "GPU",
    "gpuClass": "standard"
  },
  "nbformat": 4,
  "nbformat_minor": 5
}