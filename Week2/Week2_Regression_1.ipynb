{
  "cells": [
    {
      "cell_type": "markdown",
      "metadata": {
        "id": "view-in-github",
        "colab_type": "text"
      },
      "source": [
        "<a href=\"https://colab.research.google.com/github/seopp/Tobigs19/blob/main/Week2_Regression_1.ipynb\" target=\"_parent\"><img src=\"https://colab.research.google.com/assets/colab-badge.svg\" alt=\"Open In Colab\"/></a>"
      ]
    },
    {
      "cell_type": "markdown",
      "metadata": {
        "id": "HtloJibI_5uB"
      },
      "source": [
        "# 과제 1"
      ]
    },
    {
      "cell_type": "markdown",
      "metadata": {
        "id": "poKqKrLb_5uH"
      },
      "source": [
        "## Matrix 구현 \n",
        "1. Linear Regression에서 쓰이는 **정규방정식**을 행렬로 구현하고, sklearn 혹은 OLS 패키지를 통해 구한 **실제 값과 비교**해주세요.\n",
        "2. LSE에서 쓰이는 Loss Function, **MSE**를 행렬로 구현해 출력해주세요."
      ]
    },
    {
      "cell_type": "markdown",
      "metadata": {
        "id": "MaVCkq3g_5uJ"
      },
      "source": [
        "### Data Load "
      ]
    },
    {
      "cell_type": "code",
      "execution_count": 5,
      "metadata": {
        "id": "lX6_aNNU_5uK"
      },
      "outputs": [],
      "source": [
        "import pandas as pd \n",
        "data = pd.read_csv(\"assignment1.csv\")"
      ]
    },
    {
      "cell_type": "code",
      "execution_count": 6,
      "metadata": {
        "id": "PJVRecL-_5uM",
        "outputId": "f4c8b447-6c2e-42ba-ad60-4e35c33b10b5",
        "colab": {
          "base_uri": "https://localhost:8080/",
          "height": 206
        }
      },
      "outputs": [
        {
          "output_type": "execute_result",
          "data": {
            "text/plain": [
              "    y    x1    x2  x3   x4    x5\n",
              "0  10  38.9  64.7   4  868  59.7\n",
              "1  13  41.6  45.3  -4  957  61.4\n",
              "2  11  39.7  74.1   8  786  61.0\n",
              "3   7  37.3  48.0  19  984  67.5\n",
              "4  10  39.5  51.9   6  700  57.2"
            ],
            "text/html": [
              "\n",
              "  <div id=\"df-17a649ae-806c-40ba-9c19-9fe3ba572d53\">\n",
              "    <div class=\"colab-df-container\">\n",
              "      <div>\n",
              "<style scoped>\n",
              "    .dataframe tbody tr th:only-of-type {\n",
              "        vertical-align: middle;\n",
              "    }\n",
              "\n",
              "    .dataframe tbody tr th {\n",
              "        vertical-align: top;\n",
              "    }\n",
              "\n",
              "    .dataframe thead th {\n",
              "        text-align: right;\n",
              "    }\n",
              "</style>\n",
              "<table border=\"1\" class=\"dataframe\">\n",
              "  <thead>\n",
              "    <tr style=\"text-align: right;\">\n",
              "      <th></th>\n",
              "      <th>y</th>\n",
              "      <th>x1</th>\n",
              "      <th>x2</th>\n",
              "      <th>x3</th>\n",
              "      <th>x4</th>\n",
              "      <th>x5</th>\n",
              "    </tr>\n",
              "  </thead>\n",
              "  <tbody>\n",
              "    <tr>\n",
              "      <th>0</th>\n",
              "      <td>10</td>\n",
              "      <td>38.9</td>\n",
              "      <td>64.7</td>\n",
              "      <td>4</td>\n",
              "      <td>868</td>\n",
              "      <td>59.7</td>\n",
              "    </tr>\n",
              "    <tr>\n",
              "      <th>1</th>\n",
              "      <td>13</td>\n",
              "      <td>41.6</td>\n",
              "      <td>45.3</td>\n",
              "      <td>-4</td>\n",
              "      <td>957</td>\n",
              "      <td>61.4</td>\n",
              "    </tr>\n",
              "    <tr>\n",
              "      <th>2</th>\n",
              "      <td>11</td>\n",
              "      <td>39.7</td>\n",
              "      <td>74.1</td>\n",
              "      <td>8</td>\n",
              "      <td>786</td>\n",
              "      <td>61.0</td>\n",
              "    </tr>\n",
              "    <tr>\n",
              "      <th>3</th>\n",
              "      <td>7</td>\n",
              "      <td>37.3</td>\n",
              "      <td>48.0</td>\n",
              "      <td>19</td>\n",
              "      <td>984</td>\n",
              "      <td>67.5</td>\n",
              "    </tr>\n",
              "    <tr>\n",
              "      <th>4</th>\n",
              "      <td>10</td>\n",
              "      <td>39.5</td>\n",
              "      <td>51.9</td>\n",
              "      <td>6</td>\n",
              "      <td>700</td>\n",
              "      <td>57.2</td>\n",
              "    </tr>\n",
              "  </tbody>\n",
              "</table>\n",
              "</div>\n",
              "      <button class=\"colab-df-convert\" onclick=\"convertToInteractive('df-17a649ae-806c-40ba-9c19-9fe3ba572d53')\"\n",
              "              title=\"Convert this dataframe to an interactive table.\"\n",
              "              style=\"display:none;\">\n",
              "        \n",
              "  <svg xmlns=\"http://www.w3.org/2000/svg\" height=\"24px\"viewBox=\"0 0 24 24\"\n",
              "       width=\"24px\">\n",
              "    <path d=\"M0 0h24v24H0V0z\" fill=\"none\"/>\n",
              "    <path d=\"M18.56 5.44l.94 2.06.94-2.06 2.06-.94-2.06-.94-.94-2.06-.94 2.06-2.06.94zm-11 1L8.5 8.5l.94-2.06 2.06-.94-2.06-.94L8.5 2.5l-.94 2.06-2.06.94zm10 10l.94 2.06.94-2.06 2.06-.94-2.06-.94-.94-2.06-.94 2.06-2.06.94z\"/><path d=\"M17.41 7.96l-1.37-1.37c-.4-.4-.92-.59-1.43-.59-.52 0-1.04.2-1.43.59L10.3 9.45l-7.72 7.72c-.78.78-.78 2.05 0 2.83L4 21.41c.39.39.9.59 1.41.59.51 0 1.02-.2 1.41-.59l7.78-7.78 2.81-2.81c.8-.78.8-2.07 0-2.86zM5.41 20L4 18.59l7.72-7.72 1.47 1.35L5.41 20z\"/>\n",
              "  </svg>\n",
              "      </button>\n",
              "      \n",
              "  <style>\n",
              "    .colab-df-container {\n",
              "      display:flex;\n",
              "      flex-wrap:wrap;\n",
              "      gap: 12px;\n",
              "    }\n",
              "\n",
              "    .colab-df-convert {\n",
              "      background-color: #E8F0FE;\n",
              "      border: none;\n",
              "      border-radius: 50%;\n",
              "      cursor: pointer;\n",
              "      display: none;\n",
              "      fill: #1967D2;\n",
              "      height: 32px;\n",
              "      padding: 0 0 0 0;\n",
              "      width: 32px;\n",
              "    }\n",
              "\n",
              "    .colab-df-convert:hover {\n",
              "      background-color: #E2EBFA;\n",
              "      box-shadow: 0px 1px 2px rgba(60, 64, 67, 0.3), 0px 1px 3px 1px rgba(60, 64, 67, 0.15);\n",
              "      fill: #174EA6;\n",
              "    }\n",
              "\n",
              "    [theme=dark] .colab-df-convert {\n",
              "      background-color: #3B4455;\n",
              "      fill: #D2E3FC;\n",
              "    }\n",
              "\n",
              "    [theme=dark] .colab-df-convert:hover {\n",
              "      background-color: #434B5C;\n",
              "      box-shadow: 0px 1px 3px 1px rgba(0, 0, 0, 0.15);\n",
              "      filter: drop-shadow(0px 1px 2px rgba(0, 0, 0, 0.3));\n",
              "      fill: #FFFFFF;\n",
              "    }\n",
              "  </style>\n",
              "\n",
              "      <script>\n",
              "        const buttonEl =\n",
              "          document.querySelector('#df-17a649ae-806c-40ba-9c19-9fe3ba572d53 button.colab-df-convert');\n",
              "        buttonEl.style.display =\n",
              "          google.colab.kernel.accessAllowed ? 'block' : 'none';\n",
              "\n",
              "        async function convertToInteractive(key) {\n",
              "          const element = document.querySelector('#df-17a649ae-806c-40ba-9c19-9fe3ba572d53');\n",
              "          const dataTable =\n",
              "            await google.colab.kernel.invokeFunction('convertToInteractive',\n",
              "                                                     [key], {});\n",
              "          if (!dataTable) return;\n",
              "\n",
              "          const docLinkHtml = 'Like what you see? Visit the ' +\n",
              "            '<a target=\"_blank\" href=https://colab.research.google.com/notebooks/data_table.ipynb>data table notebook</a>'\n",
              "            + ' to learn more about interactive tables.';\n",
              "          element.innerHTML = '';\n",
              "          dataTable['output_type'] = 'display_data';\n",
              "          await google.colab.output.renderOutput(dataTable, element);\n",
              "          const docLink = document.createElement('div');\n",
              "          docLink.innerHTML = docLinkHtml;\n",
              "          element.appendChild(docLink);\n",
              "        }\n",
              "      </script>\n",
              "    </div>\n",
              "  </div>\n",
              "  "
            ]
          },
          "metadata": {},
          "execution_count": 6
        }
      ],
      "source": [
        "data.head()"
      ]
    },
    {
      "cell_type": "code",
      "execution_count": 7,
      "metadata": {
        "id": "Cdf4C5No_5uP",
        "outputId": "93e3519f-5176-489e-b1f5-7a528bbcd475",
        "colab": {
          "base_uri": "https://localhost:8080/"
        }
      },
      "outputs": [
        {
          "output_type": "execute_result",
          "data": {
            "text/plain": [
              "(9, 6)"
            ]
          },
          "metadata": {},
          "execution_count": 7
        }
      ],
      "source": [
        "data.shape     # y:(9,1), X:(9,5)"
      ]
    },
    {
      "cell_type": "code",
      "execution_count": 8,
      "metadata": {
        "id": "rZuPCz_9_5uQ"
      },
      "outputs": [],
      "source": [
        "X = data.drop([\"y\"], axis=1)\n",
        "y = data.y"
      ]
    },
    {
      "cell_type": "code",
      "execution_count": 9,
      "metadata": {
        "id": "sI24Ruws_5uQ"
      },
      "outputs": [],
      "source": [
        "# Matrix 계산을 위해 X와 y를 numpy 형태로 바꾸어줍니다. \n",
        "X = X.to_numpy()\n",
        "y = y.to_numpy()"
      ]
    },
    {
      "cell_type": "code",
      "execution_count": 10,
      "metadata": {
        "id": "oIEx1Gk5_5uR",
        "outputId": "ce1e1909-54d4-4b27-b5fb-dbc5813e7791",
        "colab": {
          "base_uri": "https://localhost:8080/"
        }
      },
      "outputs": [
        {
          "output_type": "execute_result",
          "data": {
            "text/plain": [
              "array([[  38.9,   64.7,    4. ,  868. ,   59.7],\n",
              "       [  41.6,   45.3,   -4. ,  957. ,   61.4],\n",
              "       [  39.7,   74.1,    8. ,  786. ,   61. ],\n",
              "       [  37.3,   48. ,   19. ,  984. ,   67.5],\n",
              "       [  39.5,   51.9,    6. ,  700. ,   57.2],\n",
              "       [  37.4,   53.6,   -5. , 1037. ,   58.8],\n",
              "       [  35.1,   71.4,    3. ,  986. ,   58.6],\n",
              "       [  38.8,   58.3,    6. ,  819. ,   59.2],\n",
              "       [  36.6,   52.6,  -19. ,  791. ,   54.4]])"
            ]
          },
          "metadata": {},
          "execution_count": 10
        }
      ],
      "source": [
        "X"
      ]
    },
    {
      "cell_type": "code",
      "execution_count": 11,
      "metadata": {
        "id": "8xH58zzD_5uS",
        "outputId": "4579ca79-e735-401b-9a97-f4887b6135c1",
        "colab": {
          "base_uri": "https://localhost:8080/"
        }
      },
      "outputs": [
        {
          "output_type": "execute_result",
          "data": {
            "text/plain": [
              "array([10, 13, 11,  7, 10,  9,  9,  6,  5])"
            ]
          },
          "metadata": {},
          "execution_count": 11
        }
      ],
      "source": [
        "y"
      ]
    },
    {
      "cell_type": "markdown",
      "metadata": {
        "id": "F3JfJR95_5uT"
      },
      "source": [
        "### 1. Normal Equation"
      ]
    },
    {
      "cell_type": "code",
      "execution_count": 12,
      "metadata": {
        "id": "Fs3H6XKI_5uX"
      },
      "outputs": [],
      "source": [
        "import numpy as np\n",
        "from numpy.linalg import inv "
      ]
    },
    {
      "cell_type": "code",
      "execution_count": 13,
      "metadata": {
        "id": "oEiAbw86_5uX"
      },
      "outputs": [],
      "source": [
        "def estimate_beta(X, y):\n",
        "    designX = np.c_[np.ones((9,1)),X]\n",
        "    beta_hat = np.linalg.inv(designX.T.dot(designX)).dot(designX.T).dot(y) # inv 역행렬을 구하고 .dot을 사용해 행렬 곱을 수행\n",
        "\n",
        "    return beta_hat"
      ]
    },
    {
      "cell_type": "code",
      "execution_count": 14,
      "metadata": {
        "id": "MLFE-cvl_5uY",
        "outputId": "766a93ea-9131-4c74-c70f-a8635d1b61b3",
        "colab": {
          "base_uri": "https://localhost:8080/"
        }
      },
      "outputs": [
        {
          "output_type": "execute_result",
          "data": {
            "text/plain": [
              "array([-3.92447368e+01,  1.31232583e+00,  8.53744361e-02,  7.41849897e-02,\n",
              "        1.50018573e-02, -3.42273652e-01])"
            ]
          },
          "metadata": {},
          "execution_count": 14
        }
      ],
      "source": [
        "beta_hat = estimate_beta(X, y)\n",
        "beta_hat"
      ]
    },
    {
      "cell_type": "markdown",
      "metadata": {
        "id": "Kr4KXjl9_5uZ"
      },
      "source": [
        "#### 실제 값과 비교"
      ]
    },
    {
      "cell_type": "code",
      "execution_count": 15,
      "metadata": {
        "id": "Ef3Ggqo8_5uZ"
      },
      "outputs": [],
      "source": [
        "from sklearn.linear_model import LinearRegression"
      ]
    },
    {
      "cell_type": "code",
      "execution_count": 16,
      "metadata": {
        "id": "6Parv6ui_5uZ"
      },
      "outputs": [],
      "source": [
        "model = LinearRegression()\n",
        "model.fit(X, y)\n",
        "\n",
        "pred = model.predict"
      ]
    },
    {
      "cell_type": "code",
      "source": [
        "print(model.intercept_)   # intercept\n",
        "print(model.coef_)   # 추정된 회귀계수 (intercept 제외)"
      ],
      "metadata": {
        "colab": {
          "base_uri": "https://localhost:8080/"
        },
        "id": "4Xtia69X6pu6",
        "outputId": "47f6f00f-2292-46e7-bd1a-88916b0ce479"
      },
      "execution_count": 17,
      "outputs": [
        {
          "output_type": "stream",
          "name": "stdout",
          "text": [
            "-39.24473678135655\n",
            "[ 1.31232583  0.08537444  0.07418499  0.01500186 -0.34227365]\n"
          ]
        }
      ]
    },
    {
      "cell_type": "markdown",
      "metadata": {
        "id": "Csj01bXd_5ua"
      },
      "source": [
        "### 2. MSE"
      ]
    },
    {
      "cell_type": "code",
      "execution_count": 18,
      "metadata": {
        "id": "ADYxjyQ9_5ub"
      },
      "outputs": [],
      "source": [
        "def MSE(X, y, beta_hat):\n",
        "    designX = np.c_[np.ones((9,1)),X]\n",
        "    y_pred = beta_hat@designX.T\n",
        "    mse = (1/len(y))*np.sum((y-y_pred)**2)\n",
        "\n",
        "    return mse"
      ]
    },
    {
      "cell_type": "code",
      "source": [
        "MSE(X, y, estimate_beta(X, y))"
      ],
      "metadata": {
        "colab": {
          "base_uri": "https://localhost:8080/"
        },
        "id": "TXh7Yivh9nQa",
        "outputId": "e9e954f6-7617-4f1f-aedc-0aeb0b0574cc"
      },
      "execution_count": 19,
      "outputs": [
        {
          "output_type": "execute_result",
          "data": {
            "text/plain": [
              "1.6155977229019136"
            ]
          },
          "metadata": {},
          "execution_count": 19
        }
      ]
    }
  ],
  "metadata": {
    "colab": {
      "provenance": [],
      "include_colab_link": true
    },
    "kernelspec": {
      "display_name": "Python 3",
      "language": "python",
      "name": "python3"
    },
    "language_info": {
      "codemirror_mode": {
        "name": "ipython",
        "version": 3
      },
      "file_extension": ".py",
      "mimetype": "text/x-python",
      "name": "python",
      "nbconvert_exporter": "python",
      "pygments_lexer": "ipython3",
      "version": "3.8.5"
    }
  },
  "nbformat": 4,
  "nbformat_minor": 0
}
 
