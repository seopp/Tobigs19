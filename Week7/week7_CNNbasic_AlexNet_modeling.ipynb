{
  "cells": [
    {
      "cell_type": "markdown",
      "metadata": {
        "id": "view-in-github",
        "colab_type": "text"
      },
      "source": [
        "<a href=\"https://colab.research.google.com/github/seopp/Tobigs19/blob/main/Week7/week7_CNNbasic_AlexNet_modeling.ipynb\" target=\"_parent\"><img src=\"https://colab.research.google.com/assets/colab-badge.svg\" alt=\"Open In Colab\"/></a>"
      ]
    },
    {
      "cell_type": "markdown",
      "metadata": {
        "id": "N1DbkY70-hcB"
      },
      "source": [
        "# CNNbasic Assignment#2\n",
        "\n",
        "# AlexNet 구현\n",
        "\n",
        "모델 구현 후 summary로 전체 모델 구조 출력과 주석으로 간단한 설명을 달아주시면 됩니다.\n",
        "\n",
        "프레임워크는 자유이고, 기본 tensforflow와 pytorch tutorial 사이트를 아래에 첨부해 드립니다.\n",
        "\n",
        "이 외 각 프레임워크 별 summary 등 추가적인 사용 방법은 구글링으로 찾아주세요!-!\n",
        "\n",
        "- Tensorflow Tutorial: https://www.tensorflow.org/tutorials?hl=ko\n",
        "\n",
        "- Pytorch Tutorial: https://tutorials.pytorch.kr/\n",
        "\n",
        "![image-2.png](attachment:image-2.png)"
      ]
    },
    {
      "cell_type": "markdown",
      "metadata": {
        "id": "urleB2cT-c0i"
      },
      "source": [
        "## Pytorch"
      ]
    },
    {
      "cell_type": "code",
      "source": [
        "import torch\n",
        "import torchvision\n",
        "import torch.nn as nn\n",
        "import torch.nn.functional as F\n",
        "from torchsummary import summary\n",
        "print(torch.__version__)\n",
        "print(torchvision.__version__)"
      ],
      "metadata": {
        "colab": {
          "base_uri": "https://localhost:8080/"
        },
        "id": "FfERlHmofMg7",
        "outputId": "1e36a59c-00af-4d1b-b243-3607479a686d"
      },
      "execution_count": 1,
      "outputs": [
        {
          "output_type": "stream",
          "name": "stdout",
          "text": [
            "1.13.1+cu116\n",
            "0.14.1+cu116\n"
          ]
        }
      ]
    },
    {
      "cell_type": "code",
      "source": [
        "feature_ = [\n",
        "            [3, 96, 11, 4, 0, \"pool\"],\n",
        "            [96, 256, 5, 1, 2, \"pool\"],\n",
        "            [256, 384, 3, 1, 1, \"no\"],\n",
        "            [384, 384, 3, 1, 1, \"no\"],\n",
        "            [384, 256, 3, 1, 1, \"pool\"],\n",
        "            ]\n",
        "\n",
        "\n",
        "classifier_ = [\n",
        "               [9216, 4096],\n",
        "               [4096, 4096],\n",
        "               [4096]\n",
        "               ]"
      ],
      "metadata": {
        "id": "QudQI0MUfVO9"
      },
      "execution_count": 2,
      "outputs": []
    },
    {
      "cell_type": "code",
      "source": [
        "class AlexNet(nn.Module):\n",
        "\n",
        "    def __init__(self, feature_, classifier_, n_classes):\n",
        "        super().__init__()\n",
        "        \n",
        "        self.feature_ = feature_\n",
        "        self.classifier_ = classifier_\n",
        "        self.n_classes = n_classes\n",
        "\n",
        "        self.feature = self.make_feature()\n",
        "        self.flatten = nn.Flatten()\n",
        "        self.classifier = self.make_classifier()\n",
        "\n",
        "\n",
        "    def make_feature(self):\n",
        "        layers = []\n",
        "        for i in self.feature_:\n",
        "            layers.append(nn.Conv2d(i[0], i[1], i[2], i[3], i[4]))\n",
        "            layers.append(nn.ReLU())\n",
        "            if i[5] == \"pool\": layers.append(nn.MaxPool2d(3, 2))\n",
        "            layers.append(nn.BatchNorm2d(i[1]))\n",
        "        return nn.Sequential( *layers )\n",
        "\n",
        "\n",
        "    def make_classifier(self):\n",
        "        layers = []\n",
        "        for i in self.classifier_:\n",
        "            if i == self.classifier_[-1]: i = [i[0], self.n_classes] \n",
        "            layers.append(nn.Linear(i[0], i[1]))\n",
        "            layers.append(nn.ReLU())\n",
        "        return nn.Sequential( *layers )\n",
        "\n",
        "    def forward(self, x):\n",
        "        x = self.feature(x)\n",
        "        x = self.flatten(x)\n",
        "        x = self.classifier(x)\n",
        "        return x"
      ],
      "metadata": {
        "id": "rNMQnw75fZpM"
      },
      "execution_count": 3,
      "outputs": []
    },
    {
      "cell_type": "code",
      "source": [
        "model = AlexNet(feature_, classifier_, 1000)"
      ],
      "metadata": {
        "id": "f_4W1mkEfs1P"
      },
      "execution_count": 4,
      "outputs": []
    },
    {
      "cell_type": "code",
      "source": [
        "model"
      ],
      "metadata": {
        "colab": {
          "base_uri": "https://localhost:8080/"
        },
        "id": "-rBiZRtEfuVk",
        "outputId": "a2449f73-447a-4d70-e811-ccee6334e6d3"
      },
      "execution_count": 5,
      "outputs": [
        {
          "output_type": "execute_result",
          "data": {
            "text/plain": [
              "AlexNet(\n",
              "  (feature): Sequential(\n",
              "    (0): Conv2d(3, 96, kernel_size=(11, 11), stride=(4, 4))\n",
              "    (1): ReLU()\n",
              "    (2): MaxPool2d(kernel_size=3, stride=2, padding=0, dilation=1, ceil_mode=False)\n",
              "    (3): BatchNorm2d(96, eps=1e-05, momentum=0.1, affine=True, track_running_stats=True)\n",
              "    (4): Conv2d(96, 256, kernel_size=(5, 5), stride=(1, 1), padding=(2, 2))\n",
              "    (5): ReLU()\n",
              "    (6): MaxPool2d(kernel_size=3, stride=2, padding=0, dilation=1, ceil_mode=False)\n",
              "    (7): BatchNorm2d(256, eps=1e-05, momentum=0.1, affine=True, track_running_stats=True)\n",
              "    (8): Conv2d(256, 384, kernel_size=(3, 3), stride=(1, 1), padding=(1, 1))\n",
              "    (9): ReLU()\n",
              "    (10): BatchNorm2d(384, eps=1e-05, momentum=0.1, affine=True, track_running_stats=True)\n",
              "    (11): Conv2d(384, 384, kernel_size=(3, 3), stride=(1, 1), padding=(1, 1))\n",
              "    (12): ReLU()\n",
              "    (13): BatchNorm2d(384, eps=1e-05, momentum=0.1, affine=True, track_running_stats=True)\n",
              "    (14): Conv2d(384, 256, kernel_size=(3, 3), stride=(1, 1), padding=(1, 1))\n",
              "    (15): ReLU()\n",
              "    (16): MaxPool2d(kernel_size=3, stride=2, padding=0, dilation=1, ceil_mode=False)\n",
              "    (17): BatchNorm2d(256, eps=1e-05, momentum=0.1, affine=True, track_running_stats=True)\n",
              "  )\n",
              "  (flatten): Flatten(start_dim=1, end_dim=-1)\n",
              "  (classifier): Sequential(\n",
              "    (0): Linear(in_features=9216, out_features=4096, bias=True)\n",
              "    (1): ReLU()\n",
              "    (2): Linear(in_features=4096, out_features=4096, bias=True)\n",
              "    (3): ReLU()\n",
              "    (4): Linear(in_features=4096, out_features=1000, bias=True)\n",
              "    (5): ReLU()\n",
              "  )\n",
              ")"
            ]
          },
          "metadata": {},
          "execution_count": 5
        }
      ]
    },
    {
      "cell_type": "code",
      "source": [
        "model.feature"
      ],
      "metadata": {
        "colab": {
          "base_uri": "https://localhost:8080/"
        },
        "id": "Pfvr8MjrfwfB",
        "outputId": "0db1beb5-e622-4110-cf39-f34ec5990fbd"
      },
      "execution_count": 6,
      "outputs": [
        {
          "output_type": "execute_result",
          "data": {
            "text/plain": [
              "Sequential(\n",
              "  (0): Conv2d(3, 96, kernel_size=(11, 11), stride=(4, 4))\n",
              "  (1): ReLU()\n",
              "  (2): MaxPool2d(kernel_size=3, stride=2, padding=0, dilation=1, ceil_mode=False)\n",
              "  (3): BatchNorm2d(96, eps=1e-05, momentum=0.1, affine=True, track_running_stats=True)\n",
              "  (4): Conv2d(96, 256, kernel_size=(5, 5), stride=(1, 1), padding=(2, 2))\n",
              "  (5): ReLU()\n",
              "  (6): MaxPool2d(kernel_size=3, stride=2, padding=0, dilation=1, ceil_mode=False)\n",
              "  (7): BatchNorm2d(256, eps=1e-05, momentum=0.1, affine=True, track_running_stats=True)\n",
              "  (8): Conv2d(256, 384, kernel_size=(3, 3), stride=(1, 1), padding=(1, 1))\n",
              "  (9): ReLU()\n",
              "  (10): BatchNorm2d(384, eps=1e-05, momentum=0.1, affine=True, track_running_stats=True)\n",
              "  (11): Conv2d(384, 384, kernel_size=(3, 3), stride=(1, 1), padding=(1, 1))\n",
              "  (12): ReLU()\n",
              "  (13): BatchNorm2d(384, eps=1e-05, momentum=0.1, affine=True, track_running_stats=True)\n",
              "  (14): Conv2d(384, 256, kernel_size=(3, 3), stride=(1, 1), padding=(1, 1))\n",
              "  (15): ReLU()\n",
              "  (16): MaxPool2d(kernel_size=3, stride=2, padding=0, dilation=1, ceil_mode=False)\n",
              "  (17): BatchNorm2d(256, eps=1e-05, momentum=0.1, affine=True, track_running_stats=True)\n",
              ")"
            ]
          },
          "metadata": {},
          "execution_count": 6
        }
      ]
    },
    {
      "cell_type": "code",
      "source": [
        "summary((model.to(\"cuda:0\")), (3, 227, 227)) # summary code 추가"
      ],
      "metadata": {
        "colab": {
          "base_uri": "https://localhost:8080/"
        },
        "id": "n6H8lQE-fw5L",
        "outputId": "a404eff2-13ae-4ce2-d261-c75394e3d8aa"
      },
      "execution_count": 7,
      "outputs": [
        {
          "output_type": "stream",
          "name": "stdout",
          "text": [
            "----------------------------------------------------------------\n",
            "        Layer (type)               Output Shape         Param #\n",
            "================================================================\n",
            "            Conv2d-1           [-1, 96, 55, 55]          34,944\n",
            "              ReLU-2           [-1, 96, 55, 55]               0\n",
            "         MaxPool2d-3           [-1, 96, 27, 27]               0\n",
            "       BatchNorm2d-4           [-1, 96, 27, 27]             192\n",
            "            Conv2d-5          [-1, 256, 27, 27]         614,656\n",
            "              ReLU-6          [-1, 256, 27, 27]               0\n",
            "         MaxPool2d-7          [-1, 256, 13, 13]               0\n",
            "       BatchNorm2d-8          [-1, 256, 13, 13]             512\n",
            "            Conv2d-9          [-1, 384, 13, 13]         885,120\n",
            "             ReLU-10          [-1, 384, 13, 13]               0\n",
            "      BatchNorm2d-11          [-1, 384, 13, 13]             768\n",
            "           Conv2d-12          [-1, 384, 13, 13]       1,327,488\n",
            "             ReLU-13          [-1, 384, 13, 13]               0\n",
            "      BatchNorm2d-14          [-1, 384, 13, 13]             768\n",
            "           Conv2d-15          [-1, 256, 13, 13]         884,992\n",
            "             ReLU-16          [-1, 256, 13, 13]               0\n",
            "        MaxPool2d-17            [-1, 256, 6, 6]               0\n",
            "      BatchNorm2d-18            [-1, 256, 6, 6]             512\n",
            "          Flatten-19                 [-1, 9216]               0\n",
            "           Linear-20                 [-1, 4096]      37,752,832\n",
            "             ReLU-21                 [-1, 4096]               0\n",
            "           Linear-22                 [-1, 4096]      16,781,312\n",
            "             ReLU-23                 [-1, 4096]               0\n",
            "           Linear-24                 [-1, 1000]       4,097,000\n",
            "             ReLU-25                 [-1, 1000]               0\n",
            "================================================================\n",
            "Total params: 62,381,096\n",
            "Trainable params: 62,381,096\n",
            "Non-trainable params: 0\n",
            "----------------------------------------------------------------\n",
            "Input size (MB): 0.59\n",
            "Forward/backward pass size (MB): 12.99\n",
            "Params size (MB): 237.96\n",
            "Estimated Total Size (MB): 251.54\n",
            "----------------------------------------------------------------\n"
          ]
        }
      ]
    },
    {
      "cell_type": "code",
      "source": [
        "# !pip install pytorch_model_summary"
      ],
      "metadata": {
        "colab": {
          "base_uri": "https://localhost:8080/"
        },
        "id": "N1vshPiOgL5i",
        "outputId": "422d7894-57e5-4ea3-db24-d04809d0a22f"
      },
      "execution_count": 10,
      "outputs": [
        {
          "output_type": "stream",
          "name": "stdout",
          "text": [
            "Looking in indexes: https://pypi.org/simple, https://us-python.pkg.dev/colab-wheels/public/simple/\n",
            "Requirement already satisfied: pytorch_model_summary in /usr/local/lib/python3.8/dist-packages (0.1.2)\n",
            "Requirement already satisfied: numpy in /usr/local/lib/python3.8/dist-packages (from pytorch_model_summary) (1.22.4)\n",
            "Requirement already satisfied: tqdm in /usr/local/lib/python3.8/dist-packages (from pytorch_model_summary) (4.64.1)\n",
            "Requirement already satisfied: torch in /usr/local/lib/python3.8/dist-packages (from pytorch_model_summary) (1.13.1+cu116)\n",
            "Requirement already satisfied: typing-extensions in /usr/local/lib/python3.8/dist-packages (from torch->pytorch_model_summary) (4.5.0)\n"
          ]
        }
      ]
    },
    {
      "cell_type": "code",
      "source": [
        "# !pip install torchinfo"
      ],
      "metadata": {
        "colab": {
          "base_uri": "https://localhost:8080/"
        },
        "id": "nKHI_RPwgUM8",
        "outputId": "42c654c4-eb1d-46a7-9ed9-d03f86f92c8e"
      },
      "execution_count": 12,
      "outputs": [
        {
          "output_type": "stream",
          "name": "stdout",
          "text": [
            "Looking in indexes: https://pypi.org/simple, https://us-python.pkg.dev/colab-wheels/public/simple/\n",
            "Collecting torchinfo\n",
            "  Downloading torchinfo-1.7.2-py3-none-any.whl (22 kB)\n",
            "Installing collected packages: torchinfo\n",
            "Successfully installed torchinfo-1.7.2\n"
          ]
        }
      ]
    },
    {
      "cell_type": "code",
      "source": [
        "import pytorch_model_summary\n",
        "from torchinfo import summary\n",
        "\n",
        "x = torch.empty((100,3, 227,227)).to(\"cuda:0\")\n",
        "\n",
        "print(pytorch_model_summary.summary(model, x, show_input=True))\n",
        "print('!@#'*40)\n",
        "summary(model, input_size = x.shape )"
      ],
      "metadata": {
        "colab": {
          "base_uri": "https://localhost:8080/"
        },
        "id": "hcHZh9i0fyhi",
        "outputId": "ac6de3de-c63a-484e-9c8a-3893717bbab8"
      },
      "execution_count": 13,
      "outputs": [
        {
          "output_type": "stream",
          "name": "stdout",
          "text": [
            "--------------------------------------------------------------------------\n",
            "      Layer (type)            Input Shape         Param #     Tr. Param #\n",
            "==========================================================================\n",
            "          Conv2d-1     [100, 3, 227, 227]          34,944          34,944\n",
            "            ReLU-2      [100, 96, 55, 55]               0               0\n",
            "       MaxPool2d-3      [100, 96, 55, 55]               0               0\n",
            "     BatchNorm2d-4      [100, 96, 27, 27]             192             192\n",
            "          Conv2d-5      [100, 96, 27, 27]         614,656         614,656\n",
            "            ReLU-6     [100, 256, 27, 27]               0               0\n",
            "       MaxPool2d-7     [100, 256, 27, 27]               0               0\n",
            "     BatchNorm2d-8     [100, 256, 13, 13]             512             512\n",
            "          Conv2d-9     [100, 256, 13, 13]         885,120         885,120\n",
            "           ReLU-10     [100, 384, 13, 13]               0               0\n",
            "    BatchNorm2d-11     [100, 384, 13, 13]             768             768\n",
            "         Conv2d-12     [100, 384, 13, 13]       1,327,488       1,327,488\n",
            "           ReLU-13     [100, 384, 13, 13]               0               0\n",
            "    BatchNorm2d-14     [100, 384, 13, 13]             768             768\n",
            "         Conv2d-15     [100, 384, 13, 13]         884,992         884,992\n",
            "           ReLU-16     [100, 256, 13, 13]               0               0\n",
            "      MaxPool2d-17     [100, 256, 13, 13]               0               0\n",
            "    BatchNorm2d-18       [100, 256, 6, 6]             512             512\n",
            "        Flatten-19       [100, 256, 6, 6]               0               0\n",
            "         Linear-20            [100, 9216]      37,752,832      37,752,832\n",
            "           ReLU-21            [100, 4096]               0               0\n",
            "         Linear-22            [100, 4096]      16,781,312      16,781,312\n",
            "           ReLU-23            [100, 4096]               0               0\n",
            "         Linear-24            [100, 4096]       4,097,000       4,097,000\n",
            "           ReLU-25            [100, 1000]               0               0\n",
            "==========================================================================\n",
            "Total params: 62,381,096\n",
            "Trainable params: 62,381,096\n",
            "Non-trainable params: 0\n",
            "--------------------------------------------------------------------------\n",
            "!@#!@#!@#!@#!@#!@#!@#!@#!@#!@#!@#!@#!@#!@#!@#!@#!@#!@#!@#!@#!@#!@#!@#!@#!@#!@#!@#!@#!@#!@#!@#!@#!@#!@#!@#!@#!@#!@#!@#!@#\n"
          ]
        },
        {
          "output_type": "execute_result",
          "data": {
            "text/plain": [
              "==========================================================================================\n",
              "Layer (type:depth-idx)                   Output Shape              Param #\n",
              "==========================================================================================\n",
              "AlexNet                                  [100, 1000]               --\n",
              "├─Sequential: 1-1                        [100, 256, 6, 6]          --\n",
              "│    └─Conv2d: 2-1                       [100, 96, 55, 55]         34,944\n",
              "│    └─ReLU: 2-2                         [100, 96, 55, 55]         --\n",
              "│    └─MaxPool2d: 2-3                    [100, 96, 27, 27]         --\n",
              "│    └─BatchNorm2d: 2-4                  [100, 96, 27, 27]         192\n",
              "│    └─Conv2d: 2-5                       [100, 256, 27, 27]        614,656\n",
              "│    └─ReLU: 2-6                         [100, 256, 27, 27]        --\n",
              "│    └─MaxPool2d: 2-7                    [100, 256, 13, 13]        --\n",
              "│    └─BatchNorm2d: 2-8                  [100, 256, 13, 13]        512\n",
              "│    └─Conv2d: 2-9                       [100, 384, 13, 13]        885,120\n",
              "│    └─ReLU: 2-10                        [100, 384, 13, 13]        --\n",
              "│    └─BatchNorm2d: 2-11                 [100, 384, 13, 13]        768\n",
              "│    └─Conv2d: 2-12                      [100, 384, 13, 13]        1,327,488\n",
              "│    └─ReLU: 2-13                        [100, 384, 13, 13]        --\n",
              "│    └─BatchNorm2d: 2-14                 [100, 384, 13, 13]        768\n",
              "│    └─Conv2d: 2-15                      [100, 256, 13, 13]        884,992\n",
              "│    └─ReLU: 2-16                        [100, 256, 13, 13]        --\n",
              "│    └─MaxPool2d: 2-17                   [100, 256, 6, 6]          --\n",
              "│    └─BatchNorm2d: 2-18                 [100, 256, 6, 6]          512\n",
              "├─Flatten: 1-2                           [100, 9216]               --\n",
              "├─Sequential: 1-3                        [100, 1000]               --\n",
              "│    └─Linear: 2-19                      [100, 4096]               37,752,832\n",
              "│    └─ReLU: 2-20                        [100, 4096]               --\n",
              "│    └─Linear: 2-21                      [100, 4096]               16,781,312\n",
              "│    └─ReLU: 2-22                        [100, 4096]               --\n",
              "│    └─Linear: 2-23                      [100, 1000]               4,097,000\n",
              "│    └─ReLU: 2-24                        [100, 1000]               --\n",
              "==========================================================================================\n",
              "Total params: 62,381,096\n",
              "Trainable params: 62,381,096\n",
              "Non-trainable params: 0\n",
              "Total mult-adds (G): 113.59\n",
              "==========================================================================================\n",
              "Input size (MB): 61.83\n",
              "Forward/backward pass size (MB): 729.22\n",
              "Params size (MB): 249.52\n",
              "Estimated Total Size (MB): 1040.58\n",
              "=========================================================================================="
            ]
          },
          "metadata": {},
          "execution_count": 13
        }
      ]
    },
    {
      "cell_type": "markdown",
      "source": [
        "위의 방법으로 paramter와 model의 연산량을 간단하게 볼 수 있다."
      ],
      "metadata": {
        "id": "Gzidr-Kpgf9G"
      }
    }
  ],
  "metadata": {
    "colab": {
      "provenance": [],
      "include_colab_link": true
    },
    "kernelspec": {
      "display_name": "Python 3",
      "language": "python",
      "name": "python3"
    },
    "language_info": {
      "codemirror_mode": {
        "name": "ipython",
        "version": 3
      },
      "file_extension": ".py",
      "mimetype": "text/x-python",
      "name": "python",
      "nbconvert_exporter": "python",
      "pygments_lexer": "ipython3",
      "version": "3.8.3"
    },
    "accelerator": "GPU",
    "gpuClass": "standard"
  },
  "nbformat": 4,
  "nbformat_minor": 0
}