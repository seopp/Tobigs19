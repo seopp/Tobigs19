{
  "cells": [
    {
      "cell_type": "markdown",
      "metadata": {
        "id": "view-in-github",
        "colab_type": "text"
      },
      "source": [
        "<a href=\"https://colab.research.google.com/github/seopp/Tobigs19/blob/main/Week7/Tobigs19_Dimensonality_Reduction_Week7_Assignment2.ipynb\" target=\"_parent\"><img src=\"https://colab.research.google.com/assets/colab-badge.svg\" alt=\"Open In Colab\"/></a>"
      ]
    },
    {
      "cell_type": "markdown",
      "metadata": {
        "id": "NKk2zrXgDG0E"
      },
      "source": [
        "# 차원축소 Assignment2"
      ]
    },
    {
      "cell_type": "markdown",
      "metadata": {
        "id": "DIXm39dzDG0H"
      },
      "source": [
        "## MNIST data에 적용을 해보기\n",
        "\n",
        "mnist-original.mat 파일과 같은 위치에서 주피터 노트북을 열어주세요"
      ]
    },
    {
      "cell_type": "code",
      "execution_count": 1,
      "metadata": {
        "id": "4kjVFbukDG0H"
      },
      "outputs": [],
      "source": [
        "import numpy as np\n",
        "import numpy.linalg as lin\n",
        "import matplotlib.pyplot as plt\n",
        "import pandas as pd\n",
        "from sklearn.datasets import fetch_openml\n",
        "from scipy import io\n",
        "%matplotlib inline\n",
        "from mpl_toolkits.mplot3d import Axes3D"
      ]
    },
    {
      "cell_type": "code",
      "execution_count": 2,
      "metadata": {
        "id": "M79HUqzXDG0I"
      },
      "outputs": [],
      "source": [
        "mnist = io.loadmat('mnist-original.mat') #mnist 손글씨 데이터를 불러옵니다\n",
        "X = mnist['data'].T\n",
        "y = mnist['label'].T"
      ]
    },
    {
      "cell_type": "markdown",
      "metadata": {
        "id": "O5eGsJ1wDG0I"
      },
      "source": [
        "# 데이터 정보!\n",
        "- 7만개의 작은 숫자 이미지\n",
        "- 행 열이 반대로 되어있음 -> 전치\n",
        "- grayscale 28x28 pixel = 784 feature\n",
        "- 각 picel은 0~255의 값\n",
        "- label = 1~10 label이 총 10개인거에 주목하자"
      ]
    },
    {
      "cell_type": "code",
      "execution_count": 3,
      "metadata": {
        "colab": {
          "base_uri": "https://localhost:8080/"
        },
        "id": "tGeqKEZcDG0J",
        "outputId": "efbc3f24-0174-431f-cdcd-f6bf8976dd05"
      },
      "outputs": [
        {
          "output_type": "stream",
          "name": "stdout",
          "text": [
            "(70000, 784) (70000, 1)\n"
          ]
        }
      ],
      "source": [
        "print(X.shape, y.shape)"
      ]
    },
    {
      "cell_type": "code",
      "execution_count": 4,
      "metadata": {
        "colab": {
          "base_uri": "https://localhost:8080/",
          "height": 300
        },
        "id": "e4HSu618DG0J",
        "outputId": "c3f56469-8ee0-4c06-9c7f-efcb872be5c6"
      },
      "outputs": [
        {
          "output_type": "execute_result",
          "data": {
            "text/plain": [
              "   pixel0  pixel1  pixel2  pixel3  pixel4  pixel5  pixel6  pixel7  pixel8  \\\n",
              "0       0       0       0       0       0       0       0       0       0   \n",
              "1       0       0       0       0       0       0       0       0       0   \n",
              "2       0       0       0       0       0       0       0       0       0   \n",
              "3       0       0       0       0       0       0       0       0       0   \n",
              "4       0       0       0       0       0       0       0       0       0   \n",
              "\n",
              "   pixel9  ...  pixel774  pixel775  pixel776  pixel777  pixel778  pixel779  \\\n",
              "0       0  ...         0         0         0         0         0         0   \n",
              "1       0  ...         0         0         0         0         0         0   \n",
              "2       0  ...         0         0         0         0         0         0   \n",
              "3       0  ...         0         0         0         0         0         0   \n",
              "4       0  ...         0         0         0         0         0         0   \n",
              "\n",
              "   pixel780  pixel781  pixel782  pixel783  \n",
              "0         0         0         0         0  \n",
              "1         0         0         0         0  \n",
              "2         0         0         0         0  \n",
              "3         0         0         0         0  \n",
              "4         0         0         0         0  \n",
              "\n",
              "[5 rows x 784 columns]"
            ],
            "text/html": [
              "\n",
              "  <div id=\"df-49fe637b-0f2a-4dd3-ab96-be440306b409\">\n",
              "    <div class=\"colab-df-container\">\n",
              "      <div>\n",
              "<style scoped>\n",
              "    .dataframe tbody tr th:only-of-type {\n",
              "        vertical-align: middle;\n",
              "    }\n",
              "\n",
              "    .dataframe tbody tr th {\n",
              "        vertical-align: top;\n",
              "    }\n",
              "\n",
              "    .dataframe thead th {\n",
              "        text-align: right;\n",
              "    }\n",
              "</style>\n",
              "<table border=\"1\" class=\"dataframe\">\n",
              "  <thead>\n",
              "    <tr style=\"text-align: right;\">\n",
              "      <th></th>\n",
              "      <th>pixel0</th>\n",
              "      <th>pixel1</th>\n",
              "      <th>pixel2</th>\n",
              "      <th>pixel3</th>\n",
              "      <th>pixel4</th>\n",
              "      <th>pixel5</th>\n",
              "      <th>pixel6</th>\n",
              "      <th>pixel7</th>\n",
              "      <th>pixel8</th>\n",
              "      <th>pixel9</th>\n",
              "      <th>...</th>\n",
              "      <th>pixel774</th>\n",
              "      <th>pixel775</th>\n",
              "      <th>pixel776</th>\n",
              "      <th>pixel777</th>\n",
              "      <th>pixel778</th>\n",
              "      <th>pixel779</th>\n",
              "      <th>pixel780</th>\n",
              "      <th>pixel781</th>\n",
              "      <th>pixel782</th>\n",
              "      <th>pixel783</th>\n",
              "    </tr>\n",
              "  </thead>\n",
              "  <tbody>\n",
              "    <tr>\n",
              "      <th>0</th>\n",
              "      <td>0</td>\n",
              "      <td>0</td>\n",
              "      <td>0</td>\n",
              "      <td>0</td>\n",
              "      <td>0</td>\n",
              "      <td>0</td>\n",
              "      <td>0</td>\n",
              "      <td>0</td>\n",
              "      <td>0</td>\n",
              "      <td>0</td>\n",
              "      <td>...</td>\n",
              "      <td>0</td>\n",
              "      <td>0</td>\n",
              "      <td>0</td>\n",
              "      <td>0</td>\n",
              "      <td>0</td>\n",
              "      <td>0</td>\n",
              "      <td>0</td>\n",
              "      <td>0</td>\n",
              "      <td>0</td>\n",
              "      <td>0</td>\n",
              "    </tr>\n",
              "    <tr>\n",
              "      <th>1</th>\n",
              "      <td>0</td>\n",
              "      <td>0</td>\n",
              "      <td>0</td>\n",
              "      <td>0</td>\n",
              "      <td>0</td>\n",
              "      <td>0</td>\n",
              "      <td>0</td>\n",
              "      <td>0</td>\n",
              "      <td>0</td>\n",
              "      <td>0</td>\n",
              "      <td>...</td>\n",
              "      <td>0</td>\n",
              "      <td>0</td>\n",
              "      <td>0</td>\n",
              "      <td>0</td>\n",
              "      <td>0</td>\n",
              "      <td>0</td>\n",
              "      <td>0</td>\n",
              "      <td>0</td>\n",
              "      <td>0</td>\n",
              "      <td>0</td>\n",
              "    </tr>\n",
              "    <tr>\n",
              "      <th>2</th>\n",
              "      <td>0</td>\n",
              "      <td>0</td>\n",
              "      <td>0</td>\n",
              "      <td>0</td>\n",
              "      <td>0</td>\n",
              "      <td>0</td>\n",
              "      <td>0</td>\n",
              "      <td>0</td>\n",
              "      <td>0</td>\n",
              "      <td>0</td>\n",
              "      <td>...</td>\n",
              "      <td>0</td>\n",
              "      <td>0</td>\n",
              "      <td>0</td>\n",
              "      <td>0</td>\n",
              "      <td>0</td>\n",
              "      <td>0</td>\n",
              "      <td>0</td>\n",
              "      <td>0</td>\n",
              "      <td>0</td>\n",
              "      <td>0</td>\n",
              "    </tr>\n",
              "    <tr>\n",
              "      <th>3</th>\n",
              "      <td>0</td>\n",
              "      <td>0</td>\n",
              "      <td>0</td>\n",
              "      <td>0</td>\n",
              "      <td>0</td>\n",
              "      <td>0</td>\n",
              "      <td>0</td>\n",
              "      <td>0</td>\n",
              "      <td>0</td>\n",
              "      <td>0</td>\n",
              "      <td>...</td>\n",
              "      <td>0</td>\n",
              "      <td>0</td>\n",
              "      <td>0</td>\n",
              "      <td>0</td>\n",
              "      <td>0</td>\n",
              "      <td>0</td>\n",
              "      <td>0</td>\n",
              "      <td>0</td>\n",
              "      <td>0</td>\n",
              "      <td>0</td>\n",
              "    </tr>\n",
              "    <tr>\n",
              "      <th>4</th>\n",
              "      <td>0</td>\n",
              "      <td>0</td>\n",
              "      <td>0</td>\n",
              "      <td>0</td>\n",
              "      <td>0</td>\n",
              "      <td>0</td>\n",
              "      <td>0</td>\n",
              "      <td>0</td>\n",
              "      <td>0</td>\n",
              "      <td>0</td>\n",
              "      <td>...</td>\n",
              "      <td>0</td>\n",
              "      <td>0</td>\n",
              "      <td>0</td>\n",
              "      <td>0</td>\n",
              "      <td>0</td>\n",
              "      <td>0</td>\n",
              "      <td>0</td>\n",
              "      <td>0</td>\n",
              "      <td>0</td>\n",
              "      <td>0</td>\n",
              "    </tr>\n",
              "  </tbody>\n",
              "</table>\n",
              "<p>5 rows × 784 columns</p>\n",
              "</div>\n",
              "      <button class=\"colab-df-convert\" onclick=\"convertToInteractive('df-49fe637b-0f2a-4dd3-ab96-be440306b409')\"\n",
              "              title=\"Convert this dataframe to an interactive table.\"\n",
              "              style=\"display:none;\">\n",
              "        \n",
              "  <svg xmlns=\"http://www.w3.org/2000/svg\" height=\"24px\"viewBox=\"0 0 24 24\"\n",
              "       width=\"24px\">\n",
              "    <path d=\"M0 0h24v24H0V0z\" fill=\"none\"/>\n",
              "    <path d=\"M18.56 5.44l.94 2.06.94-2.06 2.06-.94-2.06-.94-.94-2.06-.94 2.06-2.06.94zm-11 1L8.5 8.5l.94-2.06 2.06-.94-2.06-.94L8.5 2.5l-.94 2.06-2.06.94zm10 10l.94 2.06.94-2.06 2.06-.94-2.06-.94-.94-2.06-.94 2.06-2.06.94z\"/><path d=\"M17.41 7.96l-1.37-1.37c-.4-.4-.92-.59-1.43-.59-.52 0-1.04.2-1.43.59L10.3 9.45l-7.72 7.72c-.78.78-.78 2.05 0 2.83L4 21.41c.39.39.9.59 1.41.59.51 0 1.02-.2 1.41-.59l7.78-7.78 2.81-2.81c.8-.78.8-2.07 0-2.86zM5.41 20L4 18.59l7.72-7.72 1.47 1.35L5.41 20z\"/>\n",
              "  </svg>\n",
              "      </button>\n",
              "      \n",
              "  <style>\n",
              "    .colab-df-container {\n",
              "      display:flex;\n",
              "      flex-wrap:wrap;\n",
              "      gap: 12px;\n",
              "    }\n",
              "\n",
              "    .colab-df-convert {\n",
              "      background-color: #E8F0FE;\n",
              "      border: none;\n",
              "      border-radius: 50%;\n",
              "      cursor: pointer;\n",
              "      display: none;\n",
              "      fill: #1967D2;\n",
              "      height: 32px;\n",
              "      padding: 0 0 0 0;\n",
              "      width: 32px;\n",
              "    }\n",
              "\n",
              "    .colab-df-convert:hover {\n",
              "      background-color: #E2EBFA;\n",
              "      box-shadow: 0px 1px 2px rgba(60, 64, 67, 0.3), 0px 1px 3px 1px rgba(60, 64, 67, 0.15);\n",
              "      fill: #174EA6;\n",
              "    }\n",
              "\n",
              "    [theme=dark] .colab-df-convert {\n",
              "      background-color: #3B4455;\n",
              "      fill: #D2E3FC;\n",
              "    }\n",
              "\n",
              "    [theme=dark] .colab-df-convert:hover {\n",
              "      background-color: #434B5C;\n",
              "      box-shadow: 0px 1px 3px 1px rgba(0, 0, 0, 0.15);\n",
              "      filter: drop-shadow(0px 1px 2px rgba(0, 0, 0, 0.3));\n",
              "      fill: #FFFFFF;\n",
              "    }\n",
              "  </style>\n",
              "\n",
              "      <script>\n",
              "        const buttonEl =\n",
              "          document.querySelector('#df-49fe637b-0f2a-4dd3-ab96-be440306b409 button.colab-df-convert');\n",
              "        buttonEl.style.display =\n",
              "          google.colab.kernel.accessAllowed ? 'block' : 'none';\n",
              "\n",
              "        async function convertToInteractive(key) {\n",
              "          const element = document.querySelector('#df-49fe637b-0f2a-4dd3-ab96-be440306b409');\n",
              "          const dataTable =\n",
              "            await google.colab.kernel.invokeFunction('convertToInteractive',\n",
              "                                                     [key], {});\n",
              "          if (!dataTable) return;\n",
              "\n",
              "          const docLinkHtml = 'Like what you see? Visit the ' +\n",
              "            '<a target=\"_blank\" href=https://colab.research.google.com/notebooks/data_table.ipynb>data table notebook</a>'\n",
              "            + ' to learn more about interactive tables.';\n",
              "          element.innerHTML = '';\n",
              "          dataTable['output_type'] = 'display_data';\n",
              "          await google.colab.output.renderOutput(dataTable, element);\n",
              "          const docLink = document.createElement('div');\n",
              "          docLink.innerHTML = docLinkHtml;\n",
              "          element.appendChild(docLink);\n",
              "        }\n",
              "      </script>\n",
              "    </div>\n",
              "  </div>\n",
              "  "
            ]
          },
          "metadata": {},
          "execution_count": 4
        }
      ],
      "source": [
        "# data를 각 픽셀에 이름붙여 표현\n",
        "feat_cols = [ 'pixel'+str(i) for i in range(X.shape[1]) ]\n",
        "df = pd.DataFrame(X,columns=feat_cols)\n",
        "df.head()"
      ]
    },
    {
      "cell_type": "code",
      "execution_count": 5,
      "metadata": {
        "colab": {
          "base_uri": "https://localhost:8080/"
        },
        "id": "owkIewu-DG0K",
        "outputId": "f99c9dce-1f6f-4a8b-bb06-b407711f3988"
      },
      "outputs": [
        {
          "output_type": "stream",
          "name": "stdout",
          "text": [
            "Size of the dataframe: (70000, 785)\n"
          ]
        }
      ],
      "source": [
        "# df에 라벨 y를 붙여서 데이터프레임 생성\n",
        "df['y'] = y\n",
        "print('Size of the dataframe: {}'.format(df.shape))"
      ]
    },
    {
      "cell_type": "code",
      "execution_count": 6,
      "metadata": {
        "colab": {
          "base_uri": "https://localhost:8080/",
          "height": 488
        },
        "id": "yPMFC3ZFDG0K",
        "outputId": "8e13153e-666d-4020-e55a-6f155da24203"
      },
      "outputs": [
        {
          "output_type": "execute_result",
          "data": {
            "text/plain": [
              "       pixel0  pixel1  pixel2  pixel3  pixel4  pixel5  pixel6  pixel7  pixel8  \\\n",
              "0           0       0       0       0       0       0       0       0       0   \n",
              "1           0       0       0       0       0       0       0       0       0   \n",
              "2           0       0       0       0       0       0       0       0       0   \n",
              "3           0       0       0       0       0       0       0       0       0   \n",
              "4           0       0       0       0       0       0       0       0       0   \n",
              "...       ...     ...     ...     ...     ...     ...     ...     ...     ...   \n",
              "69995       0       0       0       0       0       0       0       0       0   \n",
              "69996       0       0       0       0       0       0       0       0       0   \n",
              "69997       0       0       0       0       0       0       0       0       0   \n",
              "69998       0       0       0       0       0       0       0       0       0   \n",
              "69999       0       0       0       0       0       0       0       0       0   \n",
              "\n",
              "       pixel9  ...  pixel775  pixel776  pixel777  pixel778  pixel779  \\\n",
              "0           0  ...         0         0         0         0         0   \n",
              "1           0  ...         0         0         0         0         0   \n",
              "2           0  ...         0         0         0         0         0   \n",
              "3           0  ...         0         0         0         0         0   \n",
              "4           0  ...         0         0         0         0         0   \n",
              "...       ...  ...       ...       ...       ...       ...       ...   \n",
              "69995       0  ...         0         0         0         0         0   \n",
              "69996       0  ...         0         0         0         0         0   \n",
              "69997       0  ...         0         0         0         0         0   \n",
              "69998       0  ...         0         0         0         0         0   \n",
              "69999       0  ...         0         0         0         0         0   \n",
              "\n",
              "       pixel780  pixel781  pixel782  pixel783    y  \n",
              "0             0         0         0         0  0.0  \n",
              "1             0         0         0         0  0.0  \n",
              "2             0         0         0         0  0.0  \n",
              "3             0         0         0         0  0.0  \n",
              "4             0         0         0         0  0.0  \n",
              "...         ...       ...       ...       ...  ...  \n",
              "69995         0         0         0         0  9.0  \n",
              "69996         0         0         0         0  9.0  \n",
              "69997         0         0         0         0  9.0  \n",
              "69998         0         0         0         0  9.0  \n",
              "69999         0         0         0         0  9.0  \n",
              "\n",
              "[70000 rows x 785 columns]"
            ],
            "text/html": [
              "\n",
              "  <div id=\"df-9b70820c-120c-4fdf-98f1-6f409614b537\">\n",
              "    <div class=\"colab-df-container\">\n",
              "      <div>\n",
              "<style scoped>\n",
              "    .dataframe tbody tr th:only-of-type {\n",
              "        vertical-align: middle;\n",
              "    }\n",
              "\n",
              "    .dataframe tbody tr th {\n",
              "        vertical-align: top;\n",
              "    }\n",
              "\n",
              "    .dataframe thead th {\n",
              "        text-align: right;\n",
              "    }\n",
              "</style>\n",
              "<table border=\"1\" class=\"dataframe\">\n",
              "  <thead>\n",
              "    <tr style=\"text-align: right;\">\n",
              "      <th></th>\n",
              "      <th>pixel0</th>\n",
              "      <th>pixel1</th>\n",
              "      <th>pixel2</th>\n",
              "      <th>pixel3</th>\n",
              "      <th>pixel4</th>\n",
              "      <th>pixel5</th>\n",
              "      <th>pixel6</th>\n",
              "      <th>pixel7</th>\n",
              "      <th>pixel8</th>\n",
              "      <th>pixel9</th>\n",
              "      <th>...</th>\n",
              "      <th>pixel775</th>\n",
              "      <th>pixel776</th>\n",
              "      <th>pixel777</th>\n",
              "      <th>pixel778</th>\n",
              "      <th>pixel779</th>\n",
              "      <th>pixel780</th>\n",
              "      <th>pixel781</th>\n",
              "      <th>pixel782</th>\n",
              "      <th>pixel783</th>\n",
              "      <th>y</th>\n",
              "    </tr>\n",
              "  </thead>\n",
              "  <tbody>\n",
              "    <tr>\n",
              "      <th>0</th>\n",
              "      <td>0</td>\n",
              "      <td>0</td>\n",
              "      <td>0</td>\n",
              "      <td>0</td>\n",
              "      <td>0</td>\n",
              "      <td>0</td>\n",
              "      <td>0</td>\n",
              "      <td>0</td>\n",
              "      <td>0</td>\n",
              "      <td>0</td>\n",
              "      <td>...</td>\n",
              "      <td>0</td>\n",
              "      <td>0</td>\n",
              "      <td>0</td>\n",
              "      <td>0</td>\n",
              "      <td>0</td>\n",
              "      <td>0</td>\n",
              "      <td>0</td>\n",
              "      <td>0</td>\n",
              "      <td>0</td>\n",
              "      <td>0.0</td>\n",
              "    </tr>\n",
              "    <tr>\n",
              "      <th>1</th>\n",
              "      <td>0</td>\n",
              "      <td>0</td>\n",
              "      <td>0</td>\n",
              "      <td>0</td>\n",
              "      <td>0</td>\n",
              "      <td>0</td>\n",
              "      <td>0</td>\n",
              "      <td>0</td>\n",
              "      <td>0</td>\n",
              "      <td>0</td>\n",
              "      <td>...</td>\n",
              "      <td>0</td>\n",
              "      <td>0</td>\n",
              "      <td>0</td>\n",
              "      <td>0</td>\n",
              "      <td>0</td>\n",
              "      <td>0</td>\n",
              "      <td>0</td>\n",
              "      <td>0</td>\n",
              "      <td>0</td>\n",
              "      <td>0.0</td>\n",
              "    </tr>\n",
              "    <tr>\n",
              "      <th>2</th>\n",
              "      <td>0</td>\n",
              "      <td>0</td>\n",
              "      <td>0</td>\n",
              "      <td>0</td>\n",
              "      <td>0</td>\n",
              "      <td>0</td>\n",
              "      <td>0</td>\n",
              "      <td>0</td>\n",
              "      <td>0</td>\n",
              "      <td>0</td>\n",
              "      <td>...</td>\n",
              "      <td>0</td>\n",
              "      <td>0</td>\n",
              "      <td>0</td>\n",
              "      <td>0</td>\n",
              "      <td>0</td>\n",
              "      <td>0</td>\n",
              "      <td>0</td>\n",
              "      <td>0</td>\n",
              "      <td>0</td>\n",
              "      <td>0.0</td>\n",
              "    </tr>\n",
              "    <tr>\n",
              "      <th>3</th>\n",
              "      <td>0</td>\n",
              "      <td>0</td>\n",
              "      <td>0</td>\n",
              "      <td>0</td>\n",
              "      <td>0</td>\n",
              "      <td>0</td>\n",
              "      <td>0</td>\n",
              "      <td>0</td>\n",
              "      <td>0</td>\n",
              "      <td>0</td>\n",
              "      <td>...</td>\n",
              "      <td>0</td>\n",
              "      <td>0</td>\n",
              "      <td>0</td>\n",
              "      <td>0</td>\n",
              "      <td>0</td>\n",
              "      <td>0</td>\n",
              "      <td>0</td>\n",
              "      <td>0</td>\n",
              "      <td>0</td>\n",
              "      <td>0.0</td>\n",
              "    </tr>\n",
              "    <tr>\n",
              "      <th>4</th>\n",
              "      <td>0</td>\n",
              "      <td>0</td>\n",
              "      <td>0</td>\n",
              "      <td>0</td>\n",
              "      <td>0</td>\n",
              "      <td>0</td>\n",
              "      <td>0</td>\n",
              "      <td>0</td>\n",
              "      <td>0</td>\n",
              "      <td>0</td>\n",
              "      <td>...</td>\n",
              "      <td>0</td>\n",
              "      <td>0</td>\n",
              "      <td>0</td>\n",
              "      <td>0</td>\n",
              "      <td>0</td>\n",
              "      <td>0</td>\n",
              "      <td>0</td>\n",
              "      <td>0</td>\n",
              "      <td>0</td>\n",
              "      <td>0.0</td>\n",
              "    </tr>\n",
              "    <tr>\n",
              "      <th>...</th>\n",
              "      <td>...</td>\n",
              "      <td>...</td>\n",
              "      <td>...</td>\n",
              "      <td>...</td>\n",
              "      <td>...</td>\n",
              "      <td>...</td>\n",
              "      <td>...</td>\n",
              "      <td>...</td>\n",
              "      <td>...</td>\n",
              "      <td>...</td>\n",
              "      <td>...</td>\n",
              "      <td>...</td>\n",
              "      <td>...</td>\n",
              "      <td>...</td>\n",
              "      <td>...</td>\n",
              "      <td>...</td>\n",
              "      <td>...</td>\n",
              "      <td>...</td>\n",
              "      <td>...</td>\n",
              "      <td>...</td>\n",
              "      <td>...</td>\n",
              "    </tr>\n",
              "    <tr>\n",
              "      <th>69995</th>\n",
              "      <td>0</td>\n",
              "      <td>0</td>\n",
              "      <td>0</td>\n",
              "      <td>0</td>\n",
              "      <td>0</td>\n",
              "      <td>0</td>\n",
              "      <td>0</td>\n",
              "      <td>0</td>\n",
              "      <td>0</td>\n",
              "      <td>0</td>\n",
              "      <td>...</td>\n",
              "      <td>0</td>\n",
              "      <td>0</td>\n",
              "      <td>0</td>\n",
              "      <td>0</td>\n",
              "      <td>0</td>\n",
              "      <td>0</td>\n",
              "      <td>0</td>\n",
              "      <td>0</td>\n",
              "      <td>0</td>\n",
              "      <td>9.0</td>\n",
              "    </tr>\n",
              "    <tr>\n",
              "      <th>69996</th>\n",
              "      <td>0</td>\n",
              "      <td>0</td>\n",
              "      <td>0</td>\n",
              "      <td>0</td>\n",
              "      <td>0</td>\n",
              "      <td>0</td>\n",
              "      <td>0</td>\n",
              "      <td>0</td>\n",
              "      <td>0</td>\n",
              "      <td>0</td>\n",
              "      <td>...</td>\n",
              "      <td>0</td>\n",
              "      <td>0</td>\n",
              "      <td>0</td>\n",
              "      <td>0</td>\n",
              "      <td>0</td>\n",
              "      <td>0</td>\n",
              "      <td>0</td>\n",
              "      <td>0</td>\n",
              "      <td>0</td>\n",
              "      <td>9.0</td>\n",
              "    </tr>\n",
              "    <tr>\n",
              "      <th>69997</th>\n",
              "      <td>0</td>\n",
              "      <td>0</td>\n",
              "      <td>0</td>\n",
              "      <td>0</td>\n",
              "      <td>0</td>\n",
              "      <td>0</td>\n",
              "      <td>0</td>\n",
              "      <td>0</td>\n",
              "      <td>0</td>\n",
              "      <td>0</td>\n",
              "      <td>...</td>\n",
              "      <td>0</td>\n",
              "      <td>0</td>\n",
              "      <td>0</td>\n",
              "      <td>0</td>\n",
              "      <td>0</td>\n",
              "      <td>0</td>\n",
              "      <td>0</td>\n",
              "      <td>0</td>\n",
              "      <td>0</td>\n",
              "      <td>9.0</td>\n",
              "    </tr>\n",
              "    <tr>\n",
              "      <th>69998</th>\n",
              "      <td>0</td>\n",
              "      <td>0</td>\n",
              "      <td>0</td>\n",
              "      <td>0</td>\n",
              "      <td>0</td>\n",
              "      <td>0</td>\n",
              "      <td>0</td>\n",
              "      <td>0</td>\n",
              "      <td>0</td>\n",
              "      <td>0</td>\n",
              "      <td>...</td>\n",
              "      <td>0</td>\n",
              "      <td>0</td>\n",
              "      <td>0</td>\n",
              "      <td>0</td>\n",
              "      <td>0</td>\n",
              "      <td>0</td>\n",
              "      <td>0</td>\n",
              "      <td>0</td>\n",
              "      <td>0</td>\n",
              "      <td>9.0</td>\n",
              "    </tr>\n",
              "    <tr>\n",
              "      <th>69999</th>\n",
              "      <td>0</td>\n",
              "      <td>0</td>\n",
              "      <td>0</td>\n",
              "      <td>0</td>\n",
              "      <td>0</td>\n",
              "      <td>0</td>\n",
              "      <td>0</td>\n",
              "      <td>0</td>\n",
              "      <td>0</td>\n",
              "      <td>0</td>\n",
              "      <td>...</td>\n",
              "      <td>0</td>\n",
              "      <td>0</td>\n",
              "      <td>0</td>\n",
              "      <td>0</td>\n",
              "      <td>0</td>\n",
              "      <td>0</td>\n",
              "      <td>0</td>\n",
              "      <td>0</td>\n",
              "      <td>0</td>\n",
              "      <td>9.0</td>\n",
              "    </tr>\n",
              "  </tbody>\n",
              "</table>\n",
              "<p>70000 rows × 785 columns</p>\n",
              "</div>\n",
              "      <button class=\"colab-df-convert\" onclick=\"convertToInteractive('df-9b70820c-120c-4fdf-98f1-6f409614b537')\"\n",
              "              title=\"Convert this dataframe to an interactive table.\"\n",
              "              style=\"display:none;\">\n",
              "        \n",
              "  <svg xmlns=\"http://www.w3.org/2000/svg\" height=\"24px\"viewBox=\"0 0 24 24\"\n",
              "       width=\"24px\">\n",
              "    <path d=\"M0 0h24v24H0V0z\" fill=\"none\"/>\n",
              "    <path d=\"M18.56 5.44l.94 2.06.94-2.06 2.06-.94-2.06-.94-.94-2.06-.94 2.06-2.06.94zm-11 1L8.5 8.5l.94-2.06 2.06-.94-2.06-.94L8.5 2.5l-.94 2.06-2.06.94zm10 10l.94 2.06.94-2.06 2.06-.94-2.06-.94-.94-2.06-.94 2.06-2.06.94z\"/><path d=\"M17.41 7.96l-1.37-1.37c-.4-.4-.92-.59-1.43-.59-.52 0-1.04.2-1.43.59L10.3 9.45l-7.72 7.72c-.78.78-.78 2.05 0 2.83L4 21.41c.39.39.9.59 1.41.59.51 0 1.02-.2 1.41-.59l7.78-7.78 2.81-2.81c.8-.78.8-2.07 0-2.86zM5.41 20L4 18.59l7.72-7.72 1.47 1.35L5.41 20z\"/>\n",
              "  </svg>\n",
              "      </button>\n",
              "      \n",
              "  <style>\n",
              "    .colab-df-container {\n",
              "      display:flex;\n",
              "      flex-wrap:wrap;\n",
              "      gap: 12px;\n",
              "    }\n",
              "\n",
              "    .colab-df-convert {\n",
              "      background-color: #E8F0FE;\n",
              "      border: none;\n",
              "      border-radius: 50%;\n",
              "      cursor: pointer;\n",
              "      display: none;\n",
              "      fill: #1967D2;\n",
              "      height: 32px;\n",
              "      padding: 0 0 0 0;\n",
              "      width: 32px;\n",
              "    }\n",
              "\n",
              "    .colab-df-convert:hover {\n",
              "      background-color: #E2EBFA;\n",
              "      box-shadow: 0px 1px 2px rgba(60, 64, 67, 0.3), 0px 1px 3px 1px rgba(60, 64, 67, 0.15);\n",
              "      fill: #174EA6;\n",
              "    }\n",
              "\n",
              "    [theme=dark] .colab-df-convert {\n",
              "      background-color: #3B4455;\n",
              "      fill: #D2E3FC;\n",
              "    }\n",
              "\n",
              "    [theme=dark] .colab-df-convert:hover {\n",
              "      background-color: #434B5C;\n",
              "      box-shadow: 0px 1px 3px 1px rgba(0, 0, 0, 0.15);\n",
              "      filter: drop-shadow(0px 1px 2px rgba(0, 0, 0, 0.3));\n",
              "      fill: #FFFFFF;\n",
              "    }\n",
              "  </style>\n",
              "\n",
              "      <script>\n",
              "        const buttonEl =\n",
              "          document.querySelector('#df-9b70820c-120c-4fdf-98f1-6f409614b537 button.colab-df-convert');\n",
              "        buttonEl.style.display =\n",
              "          google.colab.kernel.accessAllowed ? 'block' : 'none';\n",
              "\n",
              "        async function convertToInteractive(key) {\n",
              "          const element = document.querySelector('#df-9b70820c-120c-4fdf-98f1-6f409614b537');\n",
              "          const dataTable =\n",
              "            await google.colab.kernel.invokeFunction('convertToInteractive',\n",
              "                                                     [key], {});\n",
              "          if (!dataTable) return;\n",
              "\n",
              "          const docLinkHtml = 'Like what you see? Visit the ' +\n",
              "            '<a target=\"_blank\" href=https://colab.research.google.com/notebooks/data_table.ipynb>data table notebook</a>'\n",
              "            + ' to learn more about interactive tables.';\n",
              "          element.innerHTML = '';\n",
              "          dataTable['output_type'] = 'display_data';\n",
              "          await google.colab.output.renderOutput(dataTable, element);\n",
              "          const docLink = document.createElement('div');\n",
              "          docLink.innerHTML = docLinkHtml;\n",
              "          element.appendChild(docLink);\n",
              "        }\n",
              "      </script>\n",
              "    </div>\n",
              "  </div>\n",
              "  "
            ]
          },
          "metadata": {},
          "execution_count": 6
        }
      ],
      "source": [
        "df"
      ]
    },
    {
      "cell_type": "code",
      "execution_count": 7,
      "metadata": {
        "colab": {
          "base_uri": "https://localhost:8080/",
          "height": 466
        },
        "id": "qVXmXTNcDG0K",
        "outputId": "05bb19ca-279d-4820-8234-3a7dc8b0cd1e"
      },
      "outputs": [
        {
          "output_type": "display_data",
          "data": {
            "text/plain": [
              "<Figure size 432x288 with 0 Axes>"
            ]
          },
          "metadata": {}
        },
        {
          "output_type": "display_data",
          "data": {
            "text/plain": [
              "<Figure size 1152x504 with 15 Axes>"
            ],
            "image/png": "[encoded data removed]"
          },
          "metadata": {
            "needs_background": "light"
          }
        }
      ],
      "source": [
        "# 데이터 형태 시각화\n",
        "\n",
        "import matplotlib.pyplot as plt\n",
        "\n",
        "rndperm = np.random.permutation(df.shape[0])\n",
        "\n",
        "# Plot the graph\n",
        "plt.gray()\n",
        "fig = plt.figure( figsize=(16,7) )\n",
        "for i in range(0,15):\n",
        "    ax = fig.add_subplot(3,5,i+1, title=\"Digit: {}\".format(str(df.loc[rndperm[i],'y'])) )\n",
        "    ax.matshow(df.loc[rndperm[i],feat_cols].values.reshape((28,28)).astype(float))\n",
        "plt.show()"
      ]
    },
    {
      "cell_type": "markdown",
      "metadata": {
        "id": "2DD_4-bdDG0L"
      },
      "source": [
        "### 1) train_test_split을 통해 데이터를 0.8 0.2의 비율로 분할 해 주세요"
      ]
    },
    {
      "cell_type": "code",
      "execution_count": 8,
      "metadata": {
        "id": "BQZhQbv8DG0L"
      },
      "outputs": [],
      "source": [
        "from sklearn.model_selection import train_test_split\n",
        "X_train, X_test, y_train, y_test = train_test_split(X, y, test_size = 0.2, random_state = 42)     "
      ]
    },
    {
      "cell_type": "markdown",
      "metadata": {
        "id": "uOX2vSYHDG0L"
      },
      "source": [
        "### 여기서부터는 원본데이터 & PCA 축소 데이터 & LDA 축소 데이터 비교해주세요"
      ]
    },
    {
      "cell_type": "markdown",
      "metadata": {
        "id": "AJVAwvauDG0L"
      },
      "source": [
        "### 2) 차원축소 기법(PCA와 LDA)을 이용하여 mnist data를 축소시켜주세요\n",
        "\n",
        "pca를 이용할 때는, 주성분 개수를 정하는 과정에 대해 잘 서술해주시면 좋겠죠!<br>\n",
        "강의에서 배웠던 3가지 중 어떤 걸 고려해서 갯수를 정했는지요!!!!<br>\n",
        "scree plot같은거는 직접 그려서 확인해주면 좋겠죠???"
      ]
    },
    {
      "cell_type": "code",
      "execution_count": 9,
      "metadata": {
        "id": "UPKHRVl4DG0L"
      },
      "outputs": [],
      "source": [
        "from sklearn.decomposition import PCA\n",
        "pca = PCA()    \n",
        "X_pca = pca.fit_transform(X_train)"
      ]
    },
    {
      "cell_type": "code",
      "source": [
        "exp_var_ratio = pca.explained_variance_ratio_\n",
        "print(exp_var_ratio)     # 각 성분별 설명 비중 확인\n",
        "print()\n",
        "print(len(exp_var_ratio))"
      ],
      "metadata": {
        "colab": {
          "base_uri": "https://localhost:8080/"
        },
        "id": "mpT-ZdMjHvbw",
        "outputId": "4c95daab-f160-4062-f45c-65bbfeec17a0"
      },
      "execution_count": 10,
      "outputs": [
        {
          "output_type": "stream",
          "name": "stdout",
          "text": [
            "[9.75678051e-02 7.16149937e-02 6.14251519e-02 5.41491445e-02\n",
            " 4.88996216e-02 4.29892660e-02 3.28487842e-02 2.88276637e-02\n",
            " 2.75706270e-02 2.35063808e-02 2.10358800e-02 2.02766850e-02\n",
            " 1.70567455e-02 1.70089317e-02 1.57933278e-02 1.48659731e-02\n",
            " 1.32314377e-02 1.27952414e-02 1.18784344e-02 1.14535370e-02\n",
            " 1.06816636e-02 1.00802076e-02 9.57775689e-03 9.08614949e-03\n",
            " 8.82174510e-03 8.39075715e-03 8.11882474e-03 7.88316717e-03\n",
            " 7.37981085e-03 6.91600774e-03 6.56548360e-03 6.45167231e-03\n",
            " 6.02847708e-03 5.84097304e-03 5.67499023e-03 5.42222909e-03\n",
            " 5.04994295e-03 4.85442515e-03 4.78547751e-03 4.67648913e-03\n",
            " 4.55550281e-03 4.44538447e-03 4.18472050e-03 3.96098866e-03\n",
            " 3.84098589e-03 3.74596455e-03 3.62351008e-03 3.49118847e-03\n",
            " 3.37807813e-03 3.20960848e-03 3.17721504e-03 3.10198198e-03\n",
            " 2.95852983e-03 2.88120695e-03 2.81518187e-03 2.69705696e-03\n",
            " 2.67747560e-03 2.56946661e-03 2.52919826e-03 2.44633609e-03\n",
            " 2.41706435e-03 2.38388808e-03 2.28009716e-03 2.20364543e-03\n",
            " 2.13483054e-03 2.06541322e-03 2.02724628e-03 1.95362816e-03\n",
            " 1.91190356e-03 1.88348016e-03 1.86581455e-03 1.80457116e-03\n",
            " 1.76361481e-03 1.73900352e-03 1.64844179e-03 1.62791337e-03\n",
            " 1.61700789e-03 1.53933648e-03 1.47553626e-03 1.42184404e-03\n",
            " 1.40678153e-03 1.39845013e-03 1.39401077e-03 1.35264874e-03\n",
            " 1.32695704e-03 1.31860156e-03 1.28424016e-03 1.25017513e-03\n",
            " 1.22237819e-03 1.20537304e-03 1.16394739e-03 1.14638377e-03\n",
            " 1.12843254e-03 1.10481072e-03 1.08468565e-03 1.07135979e-03\n",
            " 1.03330317e-03 1.03178307e-03 1.00618521e-03 1.00155697e-03\n",
            " 9.71256865e-04 9.40438211e-04 9.33518775e-04 9.15444880e-04\n",
            " 9.01752748e-04 8.90881028e-04 8.61240342e-04 8.52548680e-04\n",
            " 8.37074187e-04 8.18147845e-04 7.86881557e-04 7.79798273e-04\n",
            " 7.76647379e-04 7.67723934e-04 7.60106818e-04 7.49353491e-04\n",
            " 7.31445259e-04 7.24260226e-04 7.15924714e-04 7.02701815e-04\n",
            " 6.92175283e-04 6.85898271e-04 6.77996875e-04 6.70227519e-04\n",
            " 6.61752061e-04 6.41978078e-04 6.31592034e-04 6.26138941e-04\n",
            " 6.18250218e-04 6.03333891e-04 6.01226927e-04 5.94033015e-04\n",
            " 5.90107329e-04 5.84017043e-04 5.81709847e-04 5.74019756e-04\n",
            " 5.59977982e-04 5.53472872e-04 5.34729530e-04 5.25141033e-04\n",
            " 5.20679577e-04 5.09456193e-04 5.01792925e-04 4.97069116e-04\n",
            " 4.95143192e-04 4.90193240e-04 4.84951065e-04 4.79543652e-04\n",
            " 4.71903215e-04 4.66792053e-04 4.64764171e-04 4.62010167e-04\n",
            " 4.57477646e-04 4.50377651e-04 4.46831059e-04 4.41378020e-04\n",
            " 4.37499681e-04 4.24787337e-04 4.21142655e-04 4.18259308e-04\n",
            " 4.13924603e-04 4.06530070e-04 3.97404222e-04 3.93283832e-04\n",
            " 3.91998415e-04 3.90036093e-04 3.84135692e-04 3.79298262e-04\n",
            " 3.75260288e-04 3.72239124e-04 3.65951520e-04 3.64539347e-04\n",
            " 3.62846927e-04 3.55994699e-04 3.54348036e-04 3.52997210e-04\n",
            " 3.45651408e-04 3.43508832e-04 3.40857188e-04 3.38748072e-04\n",
            " 3.33832134e-04 3.29814020e-04 3.26618692e-04 3.23778736e-04\n",
            " 3.22113080e-04 3.20446461e-04 3.16702070e-04 3.13534905e-04\n",
            " 3.09905258e-04 3.08124185e-04 3.05388025e-04 3.02168098e-04\n",
            " 3.01171712e-04 2.99321927e-04 2.95846578e-04 2.95195204e-04\n",
            " 2.93165477e-04 2.91594237e-04 2.85228237e-04 2.83292480e-04\n",
            " 2.82376117e-04 2.76666874e-04 2.73392687e-04 2.72650821e-04\n",
            " 2.68097434e-04 2.67486352e-04 2.65194152e-04 2.63500530e-04\n",
            " 2.61090450e-04 2.58550381e-04 2.57521525e-04 2.56981058e-04\n",
            " 2.53423967e-04 2.51643108e-04 2.50292228e-04 2.48268687e-04\n",
            " 2.47205388e-04 2.44981534e-04 2.42045188e-04 2.41535811e-04\n",
            " 2.40648155e-04 2.39568795e-04 2.37578758e-04 2.36293431e-04\n",
            " 2.31863658e-04 2.30822526e-04 2.30242573e-04 2.28152027e-04\n",
            " 2.26709008e-04 2.22995402e-04 2.19631436e-04 2.18725983e-04\n",
            " 2.16334987e-04 2.14557946e-04 2.13159301e-04 2.12884262e-04\n",
            " 2.11429023e-04 2.09426009e-04 2.08869402e-04 2.05836817e-04\n",
            " 2.04983026e-04 2.02738224e-04 2.01694870e-04 2.00331291e-04\n",
            " 1.97980226e-04 1.97396732e-04 1.95653017e-04 1.92777630e-04\n",
            " 1.91638610e-04 1.90587611e-04 1.90128622e-04 1.88084087e-04\n",
            " 1.87707416e-04 1.85921344e-04 1.85310945e-04 1.84524133e-04\n",
            " 1.83534864e-04 1.82879806e-04 1.81813414e-04 1.79566908e-04\n",
            " 1.77072847e-04 1.76246352e-04 1.74953499e-04 1.73506743e-04\n",
            " 1.72254831e-04 1.71619019e-04 1.70881807e-04 1.70595048e-04\n",
            " 1.68710295e-04 1.66943663e-04 1.66581600e-04 1.65874260e-04\n",
            " 1.63722571e-04 1.63089647e-04 1.62342566e-04 1.61939611e-04\n",
            " 1.59968285e-04 1.58967556e-04 1.58635908e-04 1.57099153e-04\n",
            " 1.55313942e-04 1.54354697e-04 1.53205763e-04 1.51882507e-04\n",
            " 1.51348810e-04 1.49687532e-04 1.48857065e-04 1.48320076e-04\n",
            " 1.47655463e-04 1.45897168e-04 1.44302477e-04 1.43333644e-04\n",
            " 1.42569378e-04 1.41845453e-04 1.41472822e-04 1.39996298e-04\n",
            " 1.37734107e-04 1.36808012e-04 1.35652958e-04 1.34828808e-04\n",
            " 1.34609958e-04 1.34240766e-04 1.33433183e-04 1.32777241e-04\n",
            " 1.30882834e-04 1.29073787e-04 1.28902553e-04 1.27197407e-04\n",
            " 1.26789491e-04 1.26688993e-04 1.26115946e-04 1.25709811e-04\n",
            " 1.24308931e-04 1.23215216e-04 1.21540838e-04 1.21026942e-04\n",
            " 1.20137735e-04 1.19369804e-04 1.18740989e-04 1.18488696e-04\n",
            " 1.17323317e-04 1.16751822e-04 1.16106613e-04 1.15066751e-04\n",
            " 1.14233537e-04 1.13940784e-04 1.12182741e-04 1.10727248e-04\n",
            " 1.10314757e-04 1.09819321e-04 1.09244369e-04 1.09053323e-04\n",
            " 1.07637144e-04 1.06955153e-04 1.06194564e-04 1.05869422e-04\n",
            " 1.05784809e-04 1.04506559e-04 1.02702201e-04 1.02252113e-04\n",
            " 1.01773335e-04 1.00122212e-04 9.98076394e-05 9.91125114e-05\n",
            " 9.88471643e-05 9.79588450e-05 9.73834404e-05 9.64697737e-05\n",
            " 9.48464740e-05 9.39863775e-05 9.34640548e-05 9.30687965e-05\n",
            " 9.21354462e-05 9.15160391e-05 9.05982484e-05 9.02869803e-05\n",
            " 8.92126003e-05 8.89628158e-05 8.82893355e-05 8.76178509e-05\n",
            " 8.70380240e-05 8.62832747e-05 8.51688298e-05 8.46573987e-05\n",
            " 8.41774935e-05 8.33169264e-05 8.21406826e-05 8.19549683e-05\n",
            " 8.14535712e-05 8.06427332e-05 8.04696803e-05 7.91779831e-05\n",
            " 7.86906273e-05 7.78494404e-05 7.73167399e-05 7.66528747e-05\n",
            " 7.63589896e-05 7.57192996e-05 7.50094446e-05 7.36844439e-05\n",
            " 7.32719512e-05 7.26964330e-05 7.21316191e-05 7.18144430e-05\n",
            " 7.08370533e-05 7.03982817e-05 6.92536730e-05 6.90689367e-05\n",
            " 6.77981412e-05 6.68474366e-05 6.62448097e-05 6.58921532e-05\n",
            " 6.44251148e-05 6.37141220e-05 6.32637826e-05 6.28777447e-05\n",
            " 6.16994733e-05 6.10925736e-05 5.97237668e-05 5.93934170e-05\n",
            " 5.86938300e-05 5.82036345e-05 5.80888923e-05 5.70273145e-05\n",
            " 5.65016529e-05 5.56673924e-05 5.50000134e-05 5.43290593e-05\n",
            " 5.40152185e-05 5.38716829e-05 5.28554204e-05 5.24814291e-05\n",
            " 5.20565876e-05 5.11597217e-05 5.07111234e-05 5.02261245e-05\n",
            " 4.94950140e-05 4.93624492e-05 4.89618366e-05 4.74940462e-05\n",
            " 4.68000986e-05 4.65337822e-05 4.60603210e-05 4.57058134e-05\n",
            " 4.46646892e-05 4.41290102e-05 4.32228518e-05 4.21937454e-05\n",
            " 4.19304401e-05 4.16760805e-05 4.09705739e-05 4.06267046e-05\n",
            " 4.02163680e-05 4.00810499e-05 3.99466126e-05 3.82120337e-05\n",
            " 3.81399997e-05 3.76719407e-05 3.72793425e-05 3.70470684e-05\n",
            " 3.69264444e-05 3.63925197e-05 3.51268075e-05 3.48125071e-05\n",
            " 3.45751486e-05 3.41861053e-05 3.39551037e-05 3.39327377e-05\n",
            " 3.27989312e-05 3.23503147e-05 3.20333129e-05 3.16049016e-05\n",
            " 3.10936055e-05 3.06262304e-05 2.98398217e-05 2.95353135e-05\n",
            " 2.92485344e-05 2.89337733e-05 2.87720548e-05 2.82365216e-05\n",
            " 2.75373805e-05 2.71978663e-05 2.69757613e-05 2.65271246e-05\n",
            " 2.57805875e-05 2.52645814e-05 2.51065828e-05 2.46761511e-05\n",
            " 2.43671442e-05 2.40397195e-05 2.39762636e-05 2.36905272e-05\n",
            " 2.33459866e-05 2.32219096e-05 2.29482778e-05 2.25788058e-05\n",
            " 2.22476368e-05 2.14285093e-05 2.12715047e-05 2.10307492e-05\n",
            " 2.08242275e-05 2.06886112e-05 2.01661343e-05 1.99993321e-05\n",
            " 1.96856986e-05 1.94439804e-05 1.92203226e-05 1.88699171e-05\n",
            " 1.87835014e-05 1.82143021e-05 1.78784522e-05 1.77279515e-05\n",
            " 1.72787175e-05 1.70820395e-05 1.62659746e-05 1.60255483e-05\n",
            " 1.59880250e-05 1.57712576e-05 1.57401070e-05 1.54522020e-05\n",
            " 1.48180365e-05 1.46963144e-05 1.45576167e-05 1.44158002e-05\n",
            " 1.39946724e-05 1.38666932e-05 1.36309782e-05 1.34621410e-05\n",
            " 1.33738417e-05 1.31246133e-05 1.29400297e-05 1.28056333e-05\n",
            " 1.23014648e-05 1.21575093e-05 1.20200037e-05 1.15396004e-05\n",
            " 1.13536360e-05 1.12531177e-05 1.11688784e-05 1.10808924e-05\n",
            " 1.10052809e-05 1.07894324e-05 1.07882318e-05 1.04757262e-05\n",
            " 1.02526380e-05 1.01546334e-05 9.95869024e-06 9.35570023e-06\n",
            " 9.24421055e-06 9.14977855e-06 9.08983503e-06 9.06105204e-06\n",
            " 8.87381789e-06 8.28658227e-06 8.00267451e-06 7.84053273e-06\n",
            " 7.73883263e-06 7.64980496e-06 7.60450830e-06 7.48947395e-06\n",
            " 7.41988906e-06 7.28442040e-06 7.23597636e-06 7.20477915e-06\n",
            " 7.04942445e-06 6.99039250e-06 6.64332814e-06 6.61774579e-06\n",
            " 6.26872548e-06 6.22392244e-06 5.90978465e-06 5.81513165e-06\n",
            " 5.75394220e-06 5.47413243e-06 5.34892671e-06 5.29323323e-06\n",
            " 5.19128435e-06 5.08044470e-06 4.97073607e-06 4.80314274e-06\n",
            " 4.76345412e-06 4.68432509e-06 4.50340174e-06 4.48941978e-06\n",
            " 4.36418651e-06 4.20351185e-06 4.16286576e-06 4.10953287e-06\n",
            " 3.99236256e-06 3.92001755e-06 3.91784886e-06 3.84374754e-06\n",
            " 3.70433764e-06 3.42053689e-06 3.28597187e-06 3.26584122e-06\n",
            " 3.17275724e-06 3.09898724e-06 3.08260384e-06 2.96052105e-06\n",
            " 2.94367654e-06 2.90107923e-06 2.78971624e-06 2.68229719e-06\n",
            " 2.67768611e-06 2.56970546e-06 2.48297345e-06 2.38950135e-06\n",
            " 2.30432584e-06 2.22576011e-06 2.17702171e-06 2.13143927e-06\n",
            " 1.96505748e-06 1.95114244e-06 1.93589357e-06 1.90284828e-06\n",
            " 1.85186236e-06 1.83870974e-06 1.81900288e-06 1.76831334e-06\n",
            " 1.70148245e-06 1.60761893e-06 1.60019314e-06 1.58422895e-06\n",
            " 1.54545977e-06 1.54222250e-06 1.35167273e-06 1.33615839e-06\n",
            " 1.31227707e-06 1.29080329e-06 1.17024385e-06 1.16920717e-06\n",
            " 1.16442757e-06 1.12676282e-06 1.11024357e-06 1.07669105e-06\n",
            " 1.04415985e-06 1.02455087e-06 9.65211659e-07 9.61583346e-07\n",
            " 9.45625919e-07 9.30904291e-07 8.87754017e-07 8.74057608e-07\n",
            " 8.65926426e-07 8.03413449e-07 7.75542571e-07 7.60351791e-07\n",
            " 6.95303457e-07 6.67000950e-07 6.24057583e-07 6.08907545e-07\n",
            " 6.01413862e-07 5.73769528e-07 5.64835168e-07 5.31621362e-07\n",
            " 5.15197296e-07 4.93898230e-07 4.91646936e-07 4.90140311e-07\n",
            " 4.77889813e-07 4.64147887e-07 4.60858029e-07 4.04261004e-07\n",
            " 3.83199612e-07 3.65384961e-07 3.59628736e-07 3.34924813e-07\n",
            " 3.24213065e-07 3.23349418e-07 2.63052503e-07 2.60769199e-07\n",
            " 2.49038910e-07 2.48761612e-07 2.47515926e-07 2.30865495e-07\n",
            " 2.13287945e-07 1.98683010e-07 1.87134528e-07 1.81112747e-07\n",
            " 1.66806370e-07 1.65779760e-07 1.64487960e-07 1.58593636e-07\n",
            " 1.41722284e-07 1.39871621e-07 1.27502556e-07 1.18446171e-07\n",
            " 1.12801718e-07 1.06726184e-07 1.04856473e-07 1.01017889e-07\n",
            " 9.45339160e-08 7.33513852e-08 7.29902369e-08 7.27836703e-08\n",
            " 6.63494305e-08 5.56657293e-08 5.39888923e-08 4.53866986e-08\n",
            " 4.14933924e-08 3.68927900e-08 3.46985644e-08 3.28698647e-08\n",
            " 2.97436803e-08 1.81999495e-08 1.77717193e-08 1.75418627e-08\n",
            " 1.35345598e-08 1.33283633e-08 1.28890475e-08 1.24185592e-08\n",
            " 1.10356339e-08 9.25535070e-09 8.52269544e-09 7.39924105e-09\n",
            " 5.33164325e-09 5.31889525e-09 5.12377328e-09 3.79001560e-09\n",
            " 2.13577301e-09 1.66873590e-09 1.64771440e-09 1.47078156e-09\n",
            " 1.35169583e-09 1.00293176e-09 7.26385929e-10 1.11669400e-10\n",
            " 7.99590697e-11 4.51011757e-32 1.52240690e-32 6.21132213e-33\n",
            " 5.44989923e-33 5.34561770e-33 4.29334275e-33 3.29558084e-33\n",
            " 3.00666920e-33 2.75741154e-33 2.29791454e-33 1.96515091e-33\n",
            " 1.77640179e-33 1.57265475e-33 1.24877437e-33 1.06422722e-33\n",
            " 1.02889113e-33 9.85013617e-34 6.90737706e-34 5.91509403e-34\n",
            " 4.79190420e-34 4.09243887e-34 3.85393617e-34 3.79797693e-34\n",
            " 3.75429268e-34 3.75429268e-34 3.75429268e-34 3.75429268e-34\n",
            " 3.75429268e-34 3.75429268e-34 3.75429268e-34 3.75429268e-34\n",
            " 3.75429268e-34 3.75429268e-34 3.75429268e-34 3.75429268e-34\n",
            " 3.75429268e-34 3.75429268e-34 3.75429268e-34 3.75429268e-34\n",
            " 3.75429268e-34 3.75429268e-34 3.75429268e-34 3.75429268e-34\n",
            " 3.75429268e-34 3.75429268e-34 3.75429268e-34 3.75429268e-34\n",
            " 3.75429268e-34 3.75429268e-34 3.75429268e-34 3.75429268e-34\n",
            " 3.75429268e-34 3.75429268e-34 3.75429268e-34 3.75429268e-34\n",
            " 3.75429268e-34 3.75429268e-34 3.75429268e-34 3.75429268e-34\n",
            " 3.75429268e-34 3.75429268e-34 3.75429268e-34 3.75429268e-34\n",
            " 3.75429268e-34 3.75429268e-34 3.75429268e-34 3.75429268e-34\n",
            " 3.75429268e-34 3.75429268e-34 3.69458341e-34 1.89165706e-34\n",
            " 1.43091560e-34 8.58657032e-35 3.45664482e-35 6.40377200e-36]\n",
            "\n",
            "784\n"
          ]
        }
      ]
    },
    {
      "cell_type": "code",
      "source": [
        "# !pip install kneed"
      ],
      "metadata": {
        "id": "u9FDUqC_I1lW"
      },
      "execution_count": 11,
      "outputs": []
    },
    {
      "cell_type": "code",
      "source": [
        "# Scree plot \n",
        "\n",
        "plt.plot(range(len(exp_var_ratio)), exp_var_ratio, marker = 'o')\n",
        "plt.title(\"Scree plot\")\n",
        "plt.xlabel(\"Factor Number\")\n",
        "plt.ylabel(\"Eigenvalue\")\n",
        "\n",
        "from kneed import KneeLocator\n",
        "kn = KneeLocator(range(len(exp_var_ratio)), exp_var_ratio, curve = 'convex', direction = 'decreasing')     # Elbow Point \n",
        "plt.vlines(kn.knee, plt.ylim()[0], plt.ylim()[1], linestyles = 'dashed', colors = 'r')     \n",
        "\n",
        "plt.show()"
      ],
      "metadata": {
        "colab": {
          "base_uri": "https://localhost:8080/",
          "height": 295
        },
        "id": "J-6k7LWbH1c8",
        "outputId": "7c151e54-f551-4568-804f-162a3458ce3d"
      },
      "execution_count": 12,
      "outputs": [
        {
          "output_type": "display_data",
          "data": {
            "text/plain": [
              "<Figure size 432x288 with 1 Axes>"
            ],
            "image/png": "[encoded data removed]"
          },
          "metadata": {
            "needs_background": "light"
          }
        }
      ]
    },
    {
      "cell_type": "code",
      "execution_count": 13,
      "metadata": {
        "id": "uCBFavaUDG0L"
      },
      "outputs": [],
      "source": [
        "from sklearn.discriminant_analysis import LinearDiscriminantAnalysis\n",
        "\n",
        "lda = LinearDiscriminantAnalysis()\n",
        "X_lda = lda.fit_transform(X_train, np.ravel(y_train))"
      ]
    },
    {
      "cell_type": "code",
      "source": [
        "exp_var_ratio = lda.explained_variance_ratio_     # 각 성분별 설명 비중 확인하기\n",
        "exp_var_ratio"
      ],
      "metadata": {
        "colab": {
          "base_uri": "https://localhost:8080/"
        },
        "id": "TmeiqowVJqux",
        "outputId": "096258be-8dc8-4fd6-ee65-2ca13ddb9dea"
      },
      "execution_count": 14,
      "outputs": [
        {
          "output_type": "execute_result",
          "data": {
            "text/plain": [
              "array([0.23708117, 0.20328823, 0.17798282, 0.10633489, 0.09415639,\n",
              "       0.06896763, 0.04990535, 0.03507761, 0.02720591])"
            ]
          },
          "metadata": {},
          "execution_count": 14
        }
      ]
    },
    {
      "cell_type": "code",
      "source": [
        "exp_var_ratio_cumsum = np.cumsum(exp_var_ratio)     \n",
        "\n",
        "plt.plot(list(range(1, 1+len(exp_var_ratio_cumsum))), exp_var_ratio_cumsum)\n",
        "plt.xlabel(\"Number of Components\")\n",
        "plt.ylabel(\"Cumulated Sum of Explained Variance Ratio\")\n",
        "plt.show()\n",
        "\n",
        "print(exp_var_ratio_cumsum)"
      ],
      "metadata": {
        "colab": {
          "base_uri": "https://localhost:8080/",
          "height": 317
        },
        "id": "RXU47qaaJwnM",
        "outputId": "9f2c53dc-fc64-4c4e-f2ee-b5d3967ce9ad"
      },
      "execution_count": 15,
      "outputs": [
        {
          "output_type": "display_data",
          "data": {
            "text/plain": [
              "<Figure size 432x288 with 1 Axes>"
            ],
            "image/png": "[encoded data removed]"
          },
          "metadata": {
            "needs_background": "light"
          }
        },
        {
          "output_type": "stream",
          "name": "stdout",
          "text": [
            "[0.23708117 0.4403694  0.61835223 0.72468711 0.8188435  0.88781114\n",
            " 0.93771649 0.97279409 1.        ]\n"
          ]
        }
      ]
    },
    {
      "cell_type": "markdown",
      "metadata": {
        "id": "33ca6PoZDG0L"
      },
      "source": [
        "### 3) 지금까지 배웠던 머신러닝 기법을 이용하여 학습해주세요 (2개이상 사용)"
      ]
    },
    {
      "cell_type": "markdown",
      "metadata": {
        "id": "UUPlttC0DG0M"
      },
      "source": [
        "###  이때 time stamp를 찍어서 training 시간을 비교하고, test accuracy도 비교해주세요\n",
        "#### (원본 데이터 & PCA 축소 데이터 & LDA 축소 데이터 비교)"
      ]
    },
    {
      "cell_type": "code",
      "execution_count": 16,
      "metadata": {
        "id": "RFl0J2azDG0M"
      },
      "outputs": [],
      "source": [
        "from sklearn.ensemble import RandomForestClassifier\n",
        "from lightgbm import LGBMClassifier\n",
        "from sklearn.svm import SVC\n",
        "\n",
        "import time     # time() 메서드로 time stamp 찍기\n",
        "from sklearn.metrics import accuracy_score     # Test Accuracy 확인\n",
        "\n",
        "from tqdm import tqdm     # 진행 상황 확인 (원본 데이터, PCA 축소 데이터는 시간이 오래 걸릴 수 있으므로 tqdm을 활용하고자 함)"
      ]
    },
    {
      "cell_type": "markdown",
      "source": [
        "원본 데이터"
      ],
      "metadata": {
        "id": "McnHz6caKfoJ"
      }
    },
    {
      "cell_type": "code",
      "source": [
        "rf_clf = RandomForestClassifier(random_state = 22)     # RandomForestClassifier 객체 생성\n",
        "lgbm_clf = LGBMClassifier(random_state = 22)     # LGBMClassifier 객체 생성\n",
        "\n",
        "clfs = [rf_clf, lgbm_clf]     # 각 객체를 리스트에 저장"
      ],
      "metadata": {
        "id": "eiRtpqXoKZTe"
      },
      "execution_count": 17,
      "outputs": []
    },
    {
      "cell_type": "code",
      "source": [
        "for clf in tqdm(clfs):\n",
        "    start = time.time()     # 시작 시간\n",
        "    clf.fit(X_train, np.ravel(y_train))     # 원본 데이터 Training\n",
        "    end = time.time()     # 완료 시간\n",
        "    elapse_time = end - start     # 경과 시간\n",
        "    \n",
        "    print(\"Classifier :\", clf.__class__.__name__)\n",
        "    print(\"Training 시간 :\", elapse_time)\n",
        "    print(\"Test Accuracy :\", accuracy_score(y_test, clf.predict(X_test)))\n",
        "    print()"
      ],
      "metadata": {
        "colab": {
          "base_uri": "https://localhost:8080/"
        },
        "id": "6vrLY_6RKcB5",
        "outputId": "8df43a22-e21f-44e8-8f77-c882c77e7e78"
      },
      "execution_count": 18,
      "outputs": [
        {
          "output_type": "stream",
          "name": "stderr",
          "text": [
            "\r  0%|          | 0/2 [00:00<?, ?it/s]"
          ]
        },
        {
          "output_type": "stream",
          "name": "stdout",
          "text": [
            "Classifier : RandomForestClassifier\n",
            "Training 시간 : 59.00780963897705\n"
          ]
        },
        {
          "output_type": "stream",
          "name": "stderr",
          "text": [
            "\r 50%|█████     | 1/2 [00:59<00:59, 59.88s/it]"
          ]
        },
        {
          "output_type": "stream",
          "name": "stdout",
          "text": [
            "Test Accuracy : 0.9699285714285715\n",
            "\n",
            "Classifier : LGBMClassifier\n",
            "Training 시간 : 282.21233224868774\n"
          ]
        },
        {
          "output_type": "stream",
          "name": "stderr",
          "text": [
            "100%|██████████| 2/2 [05:42<00:00, 171.44s/it]"
          ]
        },
        {
          "output_type": "stream",
          "name": "stdout",
          "text": [
            "Test Accuracy : 0.9723571428571428\n",
            "\n"
          ]
        },
        {
          "output_type": "stream",
          "name": "stderr",
          "text": [
            "\n"
          ]
        }
      ]
    },
    {
      "cell_type": "markdown",
      "source": [
        "PCA 축소 데이터"
      ],
      "metadata": {
        "id": "2ciUTG5JKiNY"
      }
    },
    {
      "cell_type": "code",
      "source": [
        "pca = PCA(n_components = 50)\n",
        "X_train_pca = pca.fit_transform(X_train)\n",
        "X_test_pca = pca.transform(X_test)     "
      ],
      "metadata": {
        "id": "xMB3PfHqKeE8"
      },
      "execution_count": 19,
      "outputs": []
    },
    {
      "cell_type": "code",
      "source": [
        "for clf in tqdm(clfs):\n",
        "    start = time.time()     # 시작 시간\n",
        "    clf.fit(X_train_pca, np.ravel(y_train))     # PCA 축소 데이터 Training\n",
        "    end = time.time()     # 완료 시간\n",
        "    elapse_time = end - start     # 경과 시간\n",
        "    \n",
        "    print(\"Classifier :\", clf.__class__.__name__)\n",
        "    print(\"Training 시간 :\", elapse_time)\n",
        "    print(\"Test Accuracy :\", accuracy_score(y_test, clf.predict(X_test_pca)))\n",
        "    print()"
      ],
      "metadata": {
        "colab": {
          "base_uri": "https://localhost:8080/"
        },
        "id": "jWq0uNKBKlix",
        "outputId": "a5a78529-f4d0-4771-8cfe-cb5e091e7cc9"
      },
      "execution_count": 20,
      "outputs": [
        {
          "output_type": "stream",
          "name": "stderr",
          "text": [
            "\r  0%|          | 0/2 [00:00<?, ?it/s]"
          ]
        },
        {
          "output_type": "stream",
          "name": "stdout",
          "text": [
            "Classifier : RandomForestClassifier\n",
            "Training 시간 : 75.05943822860718\n"
          ]
        },
        {
          "output_type": "stream",
          "name": "stderr",
          "text": [
            "\r 50%|█████     | 1/2 [01:15<01:15, 75.54s/it]"
          ]
        },
        {
          "output_type": "stream",
          "name": "stdout",
          "text": [
            "Test Accuracy : 0.9525\n",
            "\n",
            "Classifier : LGBMClassifier\n",
            "Training 시간 : 32.83708453178406\n"
          ]
        },
        {
          "output_type": "stream",
          "name": "stderr",
          "text": [
            "100%|██████████| 2/2 [01:49<00:00, 54.67s/it]"
          ]
        },
        {
          "output_type": "stream",
          "name": "stdout",
          "text": [
            "Test Accuracy : 0.9545\n",
            "\n"
          ]
        },
        {
          "output_type": "stream",
          "name": "stderr",
          "text": [
            "\n"
          ]
        }
      ]
    },
    {
      "cell_type": "markdown",
      "source": [
        "LDA 축소 데이터"
      ],
      "metadata": {
        "id": "ZsVp-FBkKqkE"
      }
    },
    {
      "cell_type": "code",
      "source": [
        "lda = LinearDiscriminantAnalysis(n_components = 5)\n",
        "X_train_lda = lda.fit_transform(X_train, np.ravel(y_train))\n",
        "X_test_lda = lda.transform(X_test)     # Test Data는 transform만!"
      ],
      "metadata": {
        "id": "KWKupSGQKoLo"
      },
      "execution_count": 21,
      "outputs": []
    },
    {
      "cell_type": "code",
      "source": [
        "for clf in clfs:\n",
        "    start = time.time()     # 시작 시간\n",
        "    clf.fit(X_train_lda, np.ravel(y_train))     # LDA 축소 데이터 Training\n",
        "    end = time.time()     # 완료 시간\n",
        "    elapse_time = end - start     # 경과 시간\n",
        "\n",
        "    print(\"Classifier :\", clf.__class__.__name__)\n",
        "    print(\"Training 시간 :\", elapse_time)\n",
        "    print(\"Test Accuracy :\", accuracy_score(y_test, clf.predict(X_test_lda)))"
      ],
      "metadata": {
        "colab": {
          "base_uri": "https://localhost:8080/"
        },
        "id": "7JmYshEFKpqD",
        "outputId": "1af0a8fb-288a-4e1d-ee6a-e205f1e9a22e"
      },
      "execution_count": 22,
      "outputs": [
        {
          "output_type": "stream",
          "name": "stdout",
          "text": [
            "Classifier : RandomForestClassifier\n",
            "Training 시간 : 21.792864561080933\n",
            "Test Accuracy : 0.8482857142857143\n",
            "Classifier : LGBMClassifier\n",
            "Training 시간 : 4.7666120529174805\n",
            "Test Accuracy : 0.8480714285714286\n"
          ]
        }
      ]
    },
    {
      "cell_type": "markdown",
      "metadata": {
        "id": "zXuDwJreDG0M"
      },
      "source": [
        "특정한 틀 없이 자유롭게 해주시면 됩니다!"
      ]
    }
  ],
  "metadata": {
    "kernelspec": {
      "display_name": "Python 3 (ipykernel)",
      "language": "python",
      "name": "python3"
    },
    "language_info": {
      "codemirror_mode": {
        "name": "ipython",
        "version": 3
      },
      "file_extension": ".py",
      "mimetype": "text/x-python",
      "name": "python",
      "nbconvert_exporter": "python",
      "pygments_lexer": "ipython3",
      "version": "3.8.6"
    },
    "colab": {
      "provenance": [],
      "include_colab_link": true
    }
  },
  "nbformat": 4,
  "nbformat_minor": 0
}