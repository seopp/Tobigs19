{
  "cells": [
    {
      "cell_type": "markdown",
      "metadata": {
        "id": "view-in-github",
        "colab_type": "text"
      },
      "source": [
        "<a href=\"https://colab.research.google.com/github/seopp/Tobigs19/blob/main/Week7/week7_nlp_basic_assignment.ipynb\" target=\"_parent\"><img src=\"https://colab.research.google.com/assets/colab-badge.svg\" alt=\"Open In Colab\"/></a>"
      ]
    },
    {
      "cell_type": "markdown",
      "metadata": {
        "id": "HqLrQXDcQJca"
      },
      "source": [
        "# NLP Basic Assignment\n",
        "## NLP 맛보기 - spam.csv를 가지고 유의미한 해석을 도출해주세요!"
      ]
    },
    {
      "cell_type": "code",
      "execution_count": 24,
      "metadata": {
        "id": "NQ1jO6deQJce"
      },
      "outputs": [],
      "source": [
        "# 필요한 모듈 불러오기\n",
        "import pandas as pd\n",
        "import matplotlib.pyplot as plt\n",
        "import seaborn as sns\n",
        "import numpy as np"
      ]
    },
    {
      "cell_type": "markdown",
      "metadata": {
        "id": "lkUSF0RMQJcf"
      },
      "source": [
        "## Load Data\n",
        "- 보시면 아시다시피 spam.csv는 라벨이 있는 데이터입니다. 물론 7주차 주제가 텍스트 기초인만큼 텍스트만 활용하셔도 되고, 라벨까지 활용하셔서 모델을 돌려보셔도 좋습니다 :)"
      ]
    },
    {
      "cell_type": "code",
      "execution_count": 25,
      "metadata": {
        "id": "qZLZswAsQJcg"
      },
      "outputs": [],
      "source": [
        "spam = pd.read_csv('spam.csv')"
      ]
    },
    {
      "cell_type": "code",
      "execution_count": 26,
      "metadata": {
        "colab": {
          "base_uri": "https://localhost:8080/",
          "height": 36
        },
        "id": "Rh4GuOt-QJcg",
        "outputId": "18cd61e4-ee76-4639-c4b4-acd0ca3f7237"
      },
      "outputs": [
        {
          "output_type": "execute_result",
          "data": {
            "text/plain": [
              "\"FreeMsg Hey there darling it's been 3 week's now and no word back! I'd like some fun you up for it still? Tb ok! XxX std chgs to send, å£1.50 to rcv\""
            ],
            "application/vnd.google.colaboratory.intrinsic+json": {
              "type": "string"
            }
          },
          "metadata": {},
          "execution_count": 26
        }
      ],
      "source": [
        "spam.iloc[5]['v2']"
      ]
    },
    {
      "cell_type": "code",
      "execution_count": 27,
      "metadata": {
        "colab": {
          "base_uri": "https://localhost:8080/",
          "height": 424
        },
        "id": "ZysLEtXLQJch",
        "outputId": "65dd132f-3dc9-4961-e7a4-4290368a76ec"
      },
      "outputs": [
        {
          "output_type": "execute_result",
          "data": {
            "text/plain": [
              "      v1  \\\n",
              "0     0    \n",
              "1     0    \n",
              "2     1    \n",
              "3     0    \n",
              "4     0    \n",
              "...  ..    \n",
              "5567  1    \n",
              "5568  0    \n",
              "5569  0    \n",
              "5570  0    \n",
              "5571  0    \n",
              "\n",
              "                                                                                                                                                                     v2  \n",
              "0     Go until jurong point, crazy.. Available only in bugis n great world la e buffet... Cine there got amore wat...                                                    \n",
              "1     Ok lar... Joking wif u oni...                                                                                                                                      \n",
              "2     Free entry in 2 a wkly comp to win FA Cup final tkts 21st May 2005. Text FA to 87121 to receive entry question(std txt rate)T&C's apply 08452810075over18's        \n",
              "3     U dun say so early hor... U c already then say...                                                                                                                  \n",
              "4     Nah I don't think he goes to usf, he lives around here though                                                                                                      \n",
              "...                                                             ...                                                                                                      \n",
              "5567  This is the 2nd time we have tried 2 contact u. U have won the å£750 Pound prize. 2 claim is easy, call 087187272008 NOW1! Only 10p per minute. BT-national-rate.  \n",
              "5568  Will Ì_ b going to esplanade fr home?                                                                                                                              \n",
              "5569  Pity, * was in mood for that. So...any other suggestions?                                                                                                          \n",
              "5570  The guy did some bitching but I acted like i'd be interested in buying something else next week and he gave it to us for free                                      \n",
              "5571  Rofl. Its true to its name                                                                                                                                         \n",
              "\n",
              "[5572 rows x 2 columns]"
            ],
            "text/html": [
              "\n",
              "  <div id=\"df-5fc2cef4-d4e2-46bc-b51a-2dd7ef614d21\">\n",
              "    <div class=\"colab-df-container\">\n",
              "      <div>\n",
              "<style scoped>\n",
              "    .dataframe tbody tr th:only-of-type {\n",
              "        vertical-align: middle;\n",
              "    }\n",
              "\n",
              "    .dataframe tbody tr th {\n",
              "        vertical-align: top;\n",
              "    }\n",
              "\n",
              "    .dataframe thead th {\n",
              "        text-align: right;\n",
              "    }\n",
              "</style>\n",
              "<table border=\"1\" class=\"dataframe\">\n",
              "  <thead>\n",
              "    <tr style=\"text-align: right;\">\n",
              "      <th></th>\n",
              "      <th>v1</th>\n",
              "      <th>v2</th>\n",
              "    </tr>\n",
              "  </thead>\n",
              "  <tbody>\n",
              "    <tr>\n",
              "      <th>0</th>\n",
              "      <td>0</td>\n",
              "      <td>Go until jurong point, crazy.. Available only in bugis n great world la e buffet... Cine there got amore wat...</td>\n",
              "    </tr>\n",
              "    <tr>\n",
              "      <th>1</th>\n",
              "      <td>0</td>\n",
              "      <td>Ok lar... Joking wif u oni...</td>\n",
              "    </tr>\n",
              "    <tr>\n",
              "      <th>2</th>\n",
              "      <td>1</td>\n",
              "      <td>Free entry in 2 a wkly comp to win FA Cup final tkts 21st May 2005. Text FA to 87121 to receive entry question(std txt rate)T&amp;C's apply 08452810075over18's</td>\n",
              "    </tr>\n",
              "    <tr>\n",
              "      <th>3</th>\n",
              "      <td>0</td>\n",
              "      <td>U dun say so early hor... U c already then say...</td>\n",
              "    </tr>\n",
              "    <tr>\n",
              "      <th>4</th>\n",
              "      <td>0</td>\n",
              "      <td>Nah I don't think he goes to usf, he lives around here though</td>\n",
              "    </tr>\n",
              "    <tr>\n",
              "      <th>...</th>\n",
              "      <td>...</td>\n",
              "      <td>...</td>\n",
              "    </tr>\n",
              "    <tr>\n",
              "      <th>5567</th>\n",
              "      <td>1</td>\n",
              "      <td>This is the 2nd time we have tried 2 contact u. U have won the å£750 Pound prize. 2 claim is easy, call 087187272008 NOW1! Only 10p per minute. BT-national-rate.</td>\n",
              "    </tr>\n",
              "    <tr>\n",
              "      <th>5568</th>\n",
              "      <td>0</td>\n",
              "      <td>Will Ì_ b going to esplanade fr home?</td>\n",
              "    </tr>\n",
              "    <tr>\n",
              "      <th>5569</th>\n",
              "      <td>0</td>\n",
              "      <td>Pity, * was in mood for that. So...any other suggestions?</td>\n",
              "    </tr>\n",
              "    <tr>\n",
              "      <th>5570</th>\n",
              "      <td>0</td>\n",
              "      <td>The guy did some bitching but I acted like i'd be interested in buying something else next week and he gave it to us for free</td>\n",
              "    </tr>\n",
              "    <tr>\n",
              "      <th>5571</th>\n",
              "      <td>0</td>\n",
              "      <td>Rofl. Its true to its name</td>\n",
              "    </tr>\n",
              "  </tbody>\n",
              "</table>\n",
              "<p>5572 rows × 2 columns</p>\n",
              "</div>\n",
              "      <button class=\"colab-df-convert\" onclick=\"convertToInteractive('df-5fc2cef4-d4e2-46bc-b51a-2dd7ef614d21')\"\n",
              "              title=\"Convert this dataframe to an interactive table.\"\n",
              "              style=\"display:none;\">\n",
              "        \n",
              "  <svg xmlns=\"http://www.w3.org/2000/svg\" height=\"24px\"viewBox=\"0 0 24 24\"\n",
              "       width=\"24px\">\n",
              "    <path d=\"M0 0h24v24H0V0z\" fill=\"none\"/>\n",
              "    <path d=\"M18.56 5.44l.94 2.06.94-2.06 2.06-.94-2.06-.94-.94-2.06-.94 2.06-2.06.94zm-11 1L8.5 8.5l.94-2.06 2.06-.94-2.06-.94L8.5 2.5l-.94 2.06-2.06.94zm10 10l.94 2.06.94-2.06 2.06-.94-2.06-.94-.94-2.06-.94 2.06-2.06.94z\"/><path d=\"M17.41 7.96l-1.37-1.37c-.4-.4-.92-.59-1.43-.59-.52 0-1.04.2-1.43.59L10.3 9.45l-7.72 7.72c-.78.78-.78 2.05 0 2.83L4 21.41c.39.39.9.59 1.41.59.51 0 1.02-.2 1.41-.59l7.78-7.78 2.81-2.81c.8-.78.8-2.07 0-2.86zM5.41 20L4 18.59l7.72-7.72 1.47 1.35L5.41 20z\"/>\n",
              "  </svg>\n",
              "      </button>\n",
              "      \n",
              "  <style>\n",
              "    .colab-df-container {\n",
              "      display:flex;\n",
              "      flex-wrap:wrap;\n",
              "      gap: 12px;\n",
              "    }\n",
              "\n",
              "    .colab-df-convert {\n",
              "      background-color: #E8F0FE;\n",
              "      border: none;\n",
              "      border-radius: 50%;\n",
              "      cursor: pointer;\n",
              "      display: none;\n",
              "      fill: #1967D2;\n",
              "      height: 32px;\n",
              "      padding: 0 0 0 0;\n",
              "      width: 32px;\n",
              "    }\n",
              "\n",
              "    .colab-df-convert:hover {\n",
              "      background-color: #E2EBFA;\n",
              "      box-shadow: 0px 1px 2px rgba(60, 64, 67, 0.3), 0px 1px 3px 1px rgba(60, 64, 67, 0.15);\n",
              "      fill: #174EA6;\n",
              "    }\n",
              "\n",
              "    [theme=dark] .colab-df-convert {\n",
              "      background-color: #3B4455;\n",
              "      fill: #D2E3FC;\n",
              "    }\n",
              "\n",
              "    [theme=dark] .colab-df-convert:hover {\n",
              "      background-color: #434B5C;\n",
              "      box-shadow: 0px 1px 3px 1px rgba(0, 0, 0, 0.15);\n",
              "      filter: drop-shadow(0px 1px 2px rgba(0, 0, 0, 0.3));\n",
              "      fill: #FFFFFF;\n",
              "    }\n",
              "  </style>\n",
              "\n",
              "      <script>\n",
              "        const buttonEl =\n",
              "          document.querySelector('#df-5fc2cef4-d4e2-46bc-b51a-2dd7ef614d21 button.colab-df-convert');\n",
              "        buttonEl.style.display =\n",
              "          google.colab.kernel.accessAllowed ? 'block' : 'none';\n",
              "\n",
              "        async function convertToInteractive(key) {\n",
              "          const element = document.querySelector('#df-5fc2cef4-d4e2-46bc-b51a-2dd7ef614d21');\n",
              "          const dataTable =\n",
              "            await google.colab.kernel.invokeFunction('convertToInteractive',\n",
              "                                                     [key], {});\n",
              "          if (!dataTable) return;\n",
              "\n",
              "          const docLinkHtml = 'Like what you see? Visit the ' +\n",
              "            '<a target=\"_blank\" href=https://colab.research.google.com/notebooks/data_table.ipynb>data table notebook</a>'\n",
              "            + ' to learn more about interactive tables.';\n",
              "          element.innerHTML = '';\n",
              "          dataTable['output_type'] = 'display_data';\n",
              "          await google.colab.output.renderOutput(dataTable, element);\n",
              "          const docLink = document.createElement('div');\n",
              "          docLink.innerHTML = docLinkHtml;\n",
              "          element.appendChild(docLink);\n",
              "        }\n",
              "      </script>\n",
              "    </div>\n",
              "  </div>\n",
              "  "
            ]
          },
          "metadata": {},
          "execution_count": 27
        }
      ],
      "source": [
        "# spam -> 0, ham -> 1로 변환\n",
        "spam.v1 = spam.v1.replace(['ham','spam'],[0,1])\n",
        "spam"
      ]
    },
    {
      "cell_type": "code",
      "source": [
        "# 중복 데이터 제거\n",
        "spam.drop_duplicates(subset=['v2'], inplace=True)\n",
        "len(spam)"
      ],
      "metadata": {
        "colab": {
          "base_uri": "https://localhost:8080/"
        },
        "id": "vTQccv9FWWv_",
        "outputId": "ce717120-6ba1-4b9a-deb9-9613c5c2bb5b"
      },
      "execution_count": 28,
      "outputs": [
        {
          "output_type": "execute_result",
          "data": {
            "text/plain": [
              "5169"
            ]
          },
          "metadata": {},
          "execution_count": 28
        }
      ]
    },
    {
      "cell_type": "code",
      "execution_count": 29,
      "metadata": {
        "colab": {
          "base_uri": "https://localhost:8080/",
          "height": 424
        },
        "id": "yEAhfEzaQJch",
        "outputId": "43cafe3b-9d2f-4e8f-a9bd-8c16404e6fbc"
      },
      "outputs": [
        {
          "output_type": "execute_result",
          "data": {
            "text/plain": [
              "      index  v1  \\\n",
              "0     0      0    \n",
              "1     1      0    \n",
              "2     2      1    \n",
              "3     3      0    \n",
              "4     4      0    \n",
              "...  ..     ..    \n",
              "5164  5567   1    \n",
              "5165  5568   0    \n",
              "5166  5569   0    \n",
              "5167  5570   0    \n",
              "5168  5571   0    \n",
              "\n",
              "                                                                                                                                                                     v2  \n",
              "0     Go until jurong point, crazy.. Available only in bugis n great world la e buffet... Cine there got amore wat...                                                    \n",
              "1     Ok lar... Joking wif u oni...                                                                                                                                      \n",
              "2     Free entry in 2 a wkly comp to win FA Cup final tkts 21st May 2005. Text FA to 87121 to receive entry question(std txt rate)T&C's apply 08452810075over18's        \n",
              "3     U dun say so early hor... U c already then say...                                                                                                                  \n",
              "4     Nah I don't think he goes to usf, he lives around here though                                                                                                      \n",
              "...                                                             ...                                                                                                      \n",
              "5164  This is the 2nd time we have tried 2 contact u. U have won the å£750 Pound prize. 2 claim is easy, call 087187272008 NOW1! Only 10p per minute. BT-national-rate.  \n",
              "5165  Will Ì_ b going to esplanade fr home?                                                                                                                              \n",
              "5166  Pity, * was in mood for that. So...any other suggestions?                                                                                                          \n",
              "5167  The guy did some bitching but I acted like i'd be interested in buying something else next week and he gave it to us for free                                      \n",
              "5168  Rofl. Its true to its name                                                                                                                                         \n",
              "\n",
              "[5169 rows x 3 columns]"
            ],
            "text/html": [
              "\n",
              "  <div id=\"df-ddfde402-cae8-4eed-9ff8-68c7da6924f0\">\n",
              "    <div class=\"colab-df-container\">\n",
              "      <div>\n",
              "<style scoped>\n",
              "    .dataframe tbody tr th:only-of-type {\n",
              "        vertical-align: middle;\n",
              "    }\n",
              "\n",
              "    .dataframe tbody tr th {\n",
              "        vertical-align: top;\n",
              "    }\n",
              "\n",
              "    .dataframe thead th {\n",
              "        text-align: right;\n",
              "    }\n",
              "</style>\n",
              "<table border=\"1\" class=\"dataframe\">\n",
              "  <thead>\n",
              "    <tr style=\"text-align: right;\">\n",
              "      <th></th>\n",
              "      <th>index</th>\n",
              "      <th>v1</th>\n",
              "      <th>v2</th>\n",
              "    </tr>\n",
              "  </thead>\n",
              "  <tbody>\n",
              "    <tr>\n",
              "      <th>0</th>\n",
              "      <td>0</td>\n",
              "      <td>0</td>\n",
              "      <td>Go until jurong point, crazy.. Available only in bugis n great world la e buffet... Cine there got amore wat...</td>\n",
              "    </tr>\n",
              "    <tr>\n",
              "      <th>1</th>\n",
              "      <td>1</td>\n",
              "      <td>0</td>\n",
              "      <td>Ok lar... Joking wif u oni...</td>\n",
              "    </tr>\n",
              "    <tr>\n",
              "      <th>2</th>\n",
              "      <td>2</td>\n",
              "      <td>1</td>\n",
              "      <td>Free entry in 2 a wkly comp to win FA Cup final tkts 21st May 2005. Text FA to 87121 to receive entry question(std txt rate)T&amp;C's apply 08452810075over18's</td>\n",
              "    </tr>\n",
              "    <tr>\n",
              "      <th>3</th>\n",
              "      <td>3</td>\n",
              "      <td>0</td>\n",
              "      <td>U dun say so early hor... U c already then say...</td>\n",
              "    </tr>\n",
              "    <tr>\n",
              "      <th>4</th>\n",
              "      <td>4</td>\n",
              "      <td>0</td>\n",
              "      <td>Nah I don't think he goes to usf, he lives around here though</td>\n",
              "    </tr>\n",
              "    <tr>\n",
              "      <th>...</th>\n",
              "      <td>...</td>\n",
              "      <td>...</td>\n",
              "      <td>...</td>\n",
              "    </tr>\n",
              "    <tr>\n",
              "      <th>5164</th>\n",
              "      <td>5567</td>\n",
              "      <td>1</td>\n",
              "      <td>This is the 2nd time we have tried 2 contact u. U have won the å£750 Pound prize. 2 claim is easy, call 087187272008 NOW1! Only 10p per minute. BT-national-rate.</td>\n",
              "    </tr>\n",
              "    <tr>\n",
              "      <th>5165</th>\n",
              "      <td>5568</td>\n",
              "      <td>0</td>\n",
              "      <td>Will Ì_ b going to esplanade fr home?</td>\n",
              "    </tr>\n",
              "    <tr>\n",
              "      <th>5166</th>\n",
              "      <td>5569</td>\n",
              "      <td>0</td>\n",
              "      <td>Pity, * was in mood for that. So...any other suggestions?</td>\n",
              "    </tr>\n",
              "    <tr>\n",
              "      <th>5167</th>\n",
              "      <td>5570</td>\n",
              "      <td>0</td>\n",
              "      <td>The guy did some bitching but I acted like i'd be interested in buying something else next week and he gave it to us for free</td>\n",
              "    </tr>\n",
              "    <tr>\n",
              "      <th>5168</th>\n",
              "      <td>5571</td>\n",
              "      <td>0</td>\n",
              "      <td>Rofl. Its true to its name</td>\n",
              "    </tr>\n",
              "  </tbody>\n",
              "</table>\n",
              "<p>5169 rows × 3 columns</p>\n",
              "</div>\n",
              "      <button class=\"colab-df-convert\" onclick=\"convertToInteractive('df-ddfde402-cae8-4eed-9ff8-68c7da6924f0')\"\n",
              "              title=\"Convert this dataframe to an interactive table.\"\n",
              "              style=\"display:none;\">\n",
              "        \n",
              "  <svg xmlns=\"http://www.w3.org/2000/svg\" height=\"24px\"viewBox=\"0 0 24 24\"\n",
              "       width=\"24px\">\n",
              "    <path d=\"M0 0h24v24H0V0z\" fill=\"none\"/>\n",
              "    <path d=\"M18.56 5.44l.94 2.06.94-2.06 2.06-.94-2.06-.94-.94-2.06-.94 2.06-2.06.94zm-11 1L8.5 8.5l.94-2.06 2.06-.94-2.06-.94L8.5 2.5l-.94 2.06-2.06.94zm10 10l.94 2.06.94-2.06 2.06-.94-2.06-.94-.94-2.06-.94 2.06-2.06.94z\"/><path d=\"M17.41 7.96l-1.37-1.37c-.4-.4-.92-.59-1.43-.59-.52 0-1.04.2-1.43.59L10.3 9.45l-7.72 7.72c-.78.78-.78 2.05 0 2.83L4 21.41c.39.39.9.59 1.41.59.51 0 1.02-.2 1.41-.59l7.78-7.78 2.81-2.81c.8-.78.8-2.07 0-2.86zM5.41 20L4 18.59l7.72-7.72 1.47 1.35L5.41 20z\"/>\n",
              "  </svg>\n",
              "      </button>\n",
              "      \n",
              "  <style>\n",
              "    .colab-df-container {\n",
              "      display:flex;\n",
              "      flex-wrap:wrap;\n",
              "      gap: 12px;\n",
              "    }\n",
              "\n",
              "    .colab-df-convert {\n",
              "      background-color: #E8F0FE;\n",
              "      border: none;\n",
              "      border-radius: 50%;\n",
              "      cursor: pointer;\n",
              "      display: none;\n",
              "      fill: #1967D2;\n",
              "      height: 32px;\n",
              "      padding: 0 0 0 0;\n",
              "      width: 32px;\n",
              "    }\n",
              "\n",
              "    .colab-df-convert:hover {\n",
              "      background-color: #E2EBFA;\n",
              "      box-shadow: 0px 1px 2px rgba(60, 64, 67, 0.3), 0px 1px 3px 1px rgba(60, 64, 67, 0.15);\n",
              "      fill: #174EA6;\n",
              "    }\n",
              "\n",
              "    [theme=dark] .colab-df-convert {\n",
              "      background-color: #3B4455;\n",
              "      fill: #D2E3FC;\n",
              "    }\n",
              "\n",
              "    [theme=dark] .colab-df-convert:hover {\n",
              "      background-color: #434B5C;\n",
              "      box-shadow: 0px 1px 3px 1px rgba(0, 0, 0, 0.15);\n",
              "      filter: drop-shadow(0px 1px 2px rgba(0, 0, 0, 0.3));\n",
              "      fill: #FFFFFF;\n",
              "    }\n",
              "  </style>\n",
              "\n",
              "      <script>\n",
              "        const buttonEl =\n",
              "          document.querySelector('#df-ddfde402-cae8-4eed-9ff8-68c7da6924f0 button.colab-df-convert');\n",
              "        buttonEl.style.display =\n",
              "          google.colab.kernel.accessAllowed ? 'block' : 'none';\n",
              "\n",
              "        async function convertToInteractive(key) {\n",
              "          const element = document.querySelector('#df-ddfde402-cae8-4eed-9ff8-68c7da6924f0');\n",
              "          const dataTable =\n",
              "            await google.colab.kernel.invokeFunction('convertToInteractive',\n",
              "                                                     [key], {});\n",
              "          if (!dataTable) return;\n",
              "\n",
              "          const docLinkHtml = 'Like what you see? Visit the ' +\n",
              "            '<a target=\"_blank\" href=https://colab.research.google.com/notebooks/data_table.ipynb>data table notebook</a>'\n",
              "            + ' to learn more about interactive tables.';\n",
              "          element.innerHTML = '';\n",
              "          dataTable['output_type'] = 'display_data';\n",
              "          await google.colab.output.renderOutput(dataTable, element);\n",
              "          const docLink = document.createElement('div');\n",
              "          docLink.innerHTML = docLinkHtml;\n",
              "          element.appendChild(docLink);\n",
              "        }\n",
              "      </script>\n",
              "    </div>\n",
              "  </div>\n",
              "  "
            ]
          },
          "metadata": {},
          "execution_count": 29
        }
      ],
      "source": [
        "spam = spam.reset_index()\n",
        "spam"
      ]
    },
    {
      "cell_type": "code",
      "source": [
        "# 정규화\n",
        "# 특수 문자 제거 및 소문자로 변경\n",
        "import re\n",
        "\n",
        "def cleanText(data):\n",
        "  text = re.sub('[^a-zA-Z]', ' ', data).lower()\n",
        "  return text\n",
        "\n",
        "spam.v2 = spam.v2.apply(cleanText)"
      ],
      "metadata": {
        "id": "Gt2nstCWXpDh"
      },
      "execution_count": 30,
      "outputs": []
    },
    {
      "cell_type": "markdown",
      "metadata": {
        "id": "FwNVGuZ1QJch"
      },
      "source": [
        "## Tokenizing\n"
      ]
    },
    {
      "cell_type": "code",
      "execution_count": 31,
      "metadata": {
        "id": "clcDvUI9QJci"
      },
      "outputs": [],
      "source": [
        "import nltk"
      ]
    },
    {
      "cell_type": "code",
      "execution_count": 32,
      "metadata": {
        "colab": {
          "base_uri": "https://localhost:8080/"
        },
        "id": "32fJzUq_QJci",
        "outputId": "11c08613-cc30-49cc-c4de-8039142d35fe"
      },
      "outputs": [
        {
          "output_type": "stream",
          "name": "stderr",
          "text": [
            "[nltk_data] Downloading package punkt to /root/nltk_data...\n",
            "[nltk_data]   Package punkt is already up-to-date!\n"
          ]
        },
        {
          "output_type": "execute_result",
          "data": {
            "text/plain": [
              "['freemsg',\n",
              " 'hey',\n",
              " 'there',\n",
              " 'darling',\n",
              " 'it',\n",
              " 's',\n",
              " 'been',\n",
              " 'week',\n",
              " 's',\n",
              " 'now',\n",
              " 'and',\n",
              " 'no',\n",
              " 'word',\n",
              " 'back',\n",
              " 'i',\n",
              " 'd',\n",
              " 'like',\n",
              " 'some',\n",
              " 'fun',\n",
              " 'you',\n",
              " 'up',\n",
              " 'for',\n",
              " 'it',\n",
              " 'still',\n",
              " 'tb',\n",
              " 'ok',\n",
              " 'xxx',\n",
              " 'std',\n",
              " 'chgs',\n",
              " 'to',\n",
              " 'send',\n",
              " 'to',\n",
              " 'rcv']"
            ]
          },
          "metadata": {},
          "execution_count": 32
        }
      ],
      "source": [
        "# 예시 코드 코드\n",
        "from nltk.tokenize import word_tokenize\n",
        "\n",
        "nltk.download('punkt')\n",
        "word_tokenize(spam.iloc[5]['v2'])"
      ]
    },
    {
      "cell_type": "code",
      "execution_count": 33,
      "metadata": {
        "colab": {
          "base_uri": "https://localhost:8080/"
        },
        "id": "0lLz58KJQJci",
        "outputId": "a1394aff-9ae0-4062-ba25-833246088d48"
      },
      "outputs": [
        {
          "output_type": "stream",
          "name": "stdout",
          "text": [
            "{'with', 'now', 'is', 'itself', 'where', 'very', 'haven', 'wasn', 'doesn', 'down', 'off', 'because', 'ain', 'me', 'it', \"doesn't\", 'wouldn', \"mightn't\", 'isn', 'under', 'ourselves', 'into', 'don', 'ma', \"should've\", 'having', 'mightn', \"aren't\", 'against', 'then', 'who', 'himself', 'weren', \"wasn't\", \"that'll\", 'll', 'this', \"couldn't\", 'than', 'd', 'or', 'will', 'what', 'and', 'are', 'between', 'during', 'other', 'any', 'below', \"don't\", 'was', 'which', \"shan't\", 'not', 'most', 'her', 'on', 'yourselves', 'the', 'yours', \"it's\", 'such', 'too', \"hadn't\", 'for', 'few', \"didn't\", 'them', 'no', 'to', 'be', 're', 'further', 've', 'here', 'whom', 'i', 'needn', 'through', 'in', 'from', 'just', 'above', \"hasn't\", 'before', 'were', 'y', 'so', 'out', 'until', 'his', 'how', 'own', 'there', 'at', 'won', \"mustn't\", 'yourself', 'nor', 'while', 'he', 'hadn', 'did', 'does', 'same', 'shan', 'by', 'but', 'a', 'aren', 'all', 'couldn', 'these', 'only', 't', 'been', 'an', 'over', \"you've\", 'once', 'have', 'both', 'you', 'do', 's', \"won't\", 'myself', 'ours', 'our', 'didn', \"shouldn't\", 'after', 'each', 'doing', \"you'd\", 'they', 'has', 'my', 'when', \"needn't\", 'theirs', 'hers', \"you'll\", 'themselves', 'hasn', 'that', 'some', 'why', 'their', 'shouldn', \"isn't\", 'of', 'had', 'being', \"she's\", \"haven't\", 'again', 'should', 'those', \"wouldn't\", \"you're\", 'him', 'if', 'herself', \"weren't\", 'she', 'its', 'mustn', 'can', 'am', 'about', 'we', 'as', 'more', 'm', 'o', 'up', 'your'}\n"
          ]
        },
        {
          "output_type": "stream",
          "name": "stderr",
          "text": [
            "[nltk_data] Downloading package stopwords to /root/nltk_data...\n",
            "[nltk_data]   Package stopwords is already up-to-date!\n"
          ]
        }
      ],
      "source": [
        "nltk.download('stopwords')\n",
        "from nltk.corpus import stopwords\n",
        "\n",
        "stop_words = set(stopwords.words('english')) \n",
        "print(stop_words)"
      ]
    },
    {
      "cell_type": "markdown",
      "source": [
        "word_tokenize"
      ],
      "metadata": {
        "id": "ZwNK29jKXwv1"
      }
    },
    {
      "cell_type": "code",
      "execution_count": 34,
      "metadata": {
        "colab": {
          "base_uri": "https://localhost:8080/",
          "height": 424
        },
        "id": "RLbpXtj3QJci",
        "outputId": "559c1fae-4615-40e8-f2d7-944405253411"
      },
      "outputs": [
        {
          "output_type": "execute_result",
          "data": {
            "text/plain": [
              "      index  v1  \\\n",
              "0     0      0    \n",
              "1     1      0    \n",
              "2     2      1    \n",
              "3     3      0    \n",
              "4     4      0    \n",
              "...  ..     ..    \n",
              "5164  5567   1    \n",
              "5165  5568   0    \n",
              "5166  5569   0    \n",
              "5167  5570   0    \n",
              "5168  5571   0    \n",
              "\n",
              "                                                                                                                               v2  \n",
              "0     [go, jurong, point, crazy, available, bugis, n, great, world, la, e, buffet, cine, got, amore, wat]                          \n",
              "1     [ok, lar, joking, wif, u, oni]                                                                                               \n",
              "2     [free, entry, wkly, comp, win, fa, cup, final, tkts, st, may, text, fa, receive, entry, question, std, txt, rate, c, apply]  \n",
              "3     [u, dun, say, early, hor, u, c, already, say]                                                                                \n",
              "4     [nah, think, goes, usf, lives, around, though]                                                                               \n",
              "...                                              ...                                                                               \n",
              "5164  [nd, time, tried, contact, u, u, pound, prize, claim, easy, call, p, per, minute, bt, national, rate]                        \n",
              "5165  [b, going, esplanade, fr, home]                                                                                              \n",
              "5166  [pity, mood, suggestions]                                                                                                    \n",
              "5167  [guy, bitching, acted, like, interested, buying, something, else, next, week, gave, us, free]                                \n",
              "5168  [rofl, true, name]                                                                                                           \n",
              "\n",
              "[5169 rows x 3 columns]"
            ],
            "text/html": [
              "\n",
              "  <div id=\"df-a9b3d1d1-4bcd-4f42-b6e5-e282ad1d3cc2\">\n",
              "    <div class=\"colab-df-container\">\n",
              "      <div>\n",
              "<style scoped>\n",
              "    .dataframe tbody tr th:only-of-type {\n",
              "        vertical-align: middle;\n",
              "    }\n",
              "\n",
              "    .dataframe tbody tr th {\n",
              "        vertical-align: top;\n",
              "    }\n",
              "\n",
              "    .dataframe thead th {\n",
              "        text-align: right;\n",
              "    }\n",
              "</style>\n",
              "<table border=\"1\" class=\"dataframe\">\n",
              "  <thead>\n",
              "    <tr style=\"text-align: right;\">\n",
              "      <th></th>\n",
              "      <th>index</th>\n",
              "      <th>v1</th>\n",
              "      <th>v2</th>\n",
              "    </tr>\n",
              "  </thead>\n",
              "  <tbody>\n",
              "    <tr>\n",
              "      <th>0</th>\n",
              "      <td>0</td>\n",
              "      <td>0</td>\n",
              "      <td>[go, jurong, point, crazy, available, bugis, n, great, world, la, e, buffet, cine, got, amore, wat]</td>\n",
              "    </tr>\n",
              "    <tr>\n",
              "      <th>1</th>\n",
              "      <td>1</td>\n",
              "      <td>0</td>\n",
              "      <td>[ok, lar, joking, wif, u, oni]</td>\n",
              "    </tr>\n",
              "    <tr>\n",
              "      <th>2</th>\n",
              "      <td>2</td>\n",
              "      <td>1</td>\n",
              "      <td>[free, entry, wkly, comp, win, fa, cup, final, tkts, st, may, text, fa, receive, entry, question, std, txt, rate, c, apply]</td>\n",
              "    </tr>\n",
              "    <tr>\n",
              "      <th>3</th>\n",
              "      <td>3</td>\n",
              "      <td>0</td>\n",
              "      <td>[u, dun, say, early, hor, u, c, already, say]</td>\n",
              "    </tr>\n",
              "    <tr>\n",
              "      <th>4</th>\n",
              "      <td>4</td>\n",
              "      <td>0</td>\n",
              "      <td>[nah, think, goes, usf, lives, around, though]</td>\n",
              "    </tr>\n",
              "    <tr>\n",
              "      <th>...</th>\n",
              "      <td>...</td>\n",
              "      <td>...</td>\n",
              "      <td>...</td>\n",
              "    </tr>\n",
              "    <tr>\n",
              "      <th>5164</th>\n",
              "      <td>5567</td>\n",
              "      <td>1</td>\n",
              "      <td>[nd, time, tried, contact, u, u, pound, prize, claim, easy, call, p, per, minute, bt, national, rate]</td>\n",
              "    </tr>\n",
              "    <tr>\n",
              "      <th>5165</th>\n",
              "      <td>5568</td>\n",
              "      <td>0</td>\n",
              "      <td>[b, going, esplanade, fr, home]</td>\n",
              "    </tr>\n",
              "    <tr>\n",
              "      <th>5166</th>\n",
              "      <td>5569</td>\n",
              "      <td>0</td>\n",
              "      <td>[pity, mood, suggestions]</td>\n",
              "    </tr>\n",
              "    <tr>\n",
              "      <th>5167</th>\n",
              "      <td>5570</td>\n",
              "      <td>0</td>\n",
              "      <td>[guy, bitching, acted, like, interested, buying, something, else, next, week, gave, us, free]</td>\n",
              "    </tr>\n",
              "    <tr>\n",
              "      <th>5168</th>\n",
              "      <td>5571</td>\n",
              "      <td>0</td>\n",
              "      <td>[rofl, true, name]</td>\n",
              "    </tr>\n",
              "  </tbody>\n",
              "</table>\n",
              "<p>5169 rows × 3 columns</p>\n",
              "</div>\n",
              "      <button class=\"colab-df-convert\" onclick=\"convertToInteractive('df-a9b3d1d1-4bcd-4f42-b6e5-e282ad1d3cc2')\"\n",
              "              title=\"Convert this dataframe to an interactive table.\"\n",
              "              style=\"display:none;\">\n",
              "        \n",
              "  <svg xmlns=\"http://www.w3.org/2000/svg\" height=\"24px\"viewBox=\"0 0 24 24\"\n",
              "       width=\"24px\">\n",
              "    <path d=\"M0 0h24v24H0V0z\" fill=\"none\"/>\n",
              "    <path d=\"M18.56 5.44l.94 2.06.94-2.06 2.06-.94-2.06-.94-.94-2.06-.94 2.06-2.06.94zm-11 1L8.5 8.5l.94-2.06 2.06-.94-2.06-.94L8.5 2.5l-.94 2.06-2.06.94zm10 10l.94 2.06.94-2.06 2.06-.94-2.06-.94-.94-2.06-.94 2.06-2.06.94z\"/><path d=\"M17.41 7.96l-1.37-1.37c-.4-.4-.92-.59-1.43-.59-.52 0-1.04.2-1.43.59L10.3 9.45l-7.72 7.72c-.78.78-.78 2.05 0 2.83L4 21.41c.39.39.9.59 1.41.59.51 0 1.02-.2 1.41-.59l7.78-7.78 2.81-2.81c.8-.78.8-2.07 0-2.86zM5.41 20L4 18.59l7.72-7.72 1.47 1.35L5.41 20z\"/>\n",
              "  </svg>\n",
              "      </button>\n",
              "      \n",
              "  <style>\n",
              "    .colab-df-container {\n",
              "      display:flex;\n",
              "      flex-wrap:wrap;\n",
              "      gap: 12px;\n",
              "    }\n",
              "\n",
              "    .colab-df-convert {\n",
              "      background-color: #E8F0FE;\n",
              "      border: none;\n",
              "      border-radius: 50%;\n",
              "      cursor: pointer;\n",
              "      display: none;\n",
              "      fill: #1967D2;\n",
              "      height: 32px;\n",
              "      padding: 0 0 0 0;\n",
              "      width: 32px;\n",
              "    }\n",
              "\n",
              "    .colab-df-convert:hover {\n",
              "      background-color: #E2EBFA;\n",
              "      box-shadow: 0px 1px 2px rgba(60, 64, 67, 0.3), 0px 1px 3px 1px rgba(60, 64, 67, 0.15);\n",
              "      fill: #174EA6;\n",
              "    }\n",
              "\n",
              "    [theme=dark] .colab-df-convert {\n",
              "      background-color: #3B4455;\n",
              "      fill: #D2E3FC;\n",
              "    }\n",
              "\n",
              "    [theme=dark] .colab-df-convert:hover {\n",
              "      background-color: #434B5C;\n",
              "      box-shadow: 0px 1px 3px 1px rgba(0, 0, 0, 0.15);\n",
              "      filter: drop-shadow(0px 1px 2px rgba(0, 0, 0, 0.3));\n",
              "      fill: #FFFFFF;\n",
              "    }\n",
              "  </style>\n",
              "\n",
              "      <script>\n",
              "        const buttonEl =\n",
              "          document.querySelector('#df-a9b3d1d1-4bcd-4f42-b6e5-e282ad1d3cc2 button.colab-df-convert');\n",
              "        buttonEl.style.display =\n",
              "          google.colab.kernel.accessAllowed ? 'block' : 'none';\n",
              "\n",
              "        async function convertToInteractive(key) {\n",
              "          const element = document.querySelector('#df-a9b3d1d1-4bcd-4f42-b6e5-e282ad1d3cc2');\n",
              "          const dataTable =\n",
              "            await google.colab.kernel.invokeFunction('convertToInteractive',\n",
              "                                                     [key], {});\n",
              "          if (!dataTable) return;\n",
              "\n",
              "          const docLinkHtml = 'Like what you see? Visit the ' +\n",
              "            '<a target=\"_blank\" href=https://colab.research.google.com/notebooks/data_table.ipynb>data table notebook</a>'\n",
              "            + ' to learn more about interactive tables.';\n",
              "          element.innerHTML = '';\n",
              "          dataTable['output_type'] = 'display_data';\n",
              "          await google.colab.output.renderOutput(dataTable, element);\n",
              "          const docLink = document.createElement('div');\n",
              "          docLink.innerHTML = docLinkHtml;\n",
              "          element.appendChild(docLink);\n",
              "        }\n",
              "      </script>\n",
              "    </div>\n",
              "  </div>\n",
              "  "
            ]
          },
          "metadata": {},
          "execution_count": 34
        }
      ],
      "source": [
        "wd_test = spam.copy()\n",
        "result=[]\n",
        "for row in wd_test.v2:\n",
        "  tokenize = word_tokenize(row)\n",
        "  words = [word for word in tokenize if word not in stop_words] # 불용어 제거\n",
        "  result.append(words)\n",
        "\n",
        "wd_test.v2 = result\n",
        "wd_test"
      ]
    },
    {
      "cell_type": "code",
      "source": [
        "# tokenizing 함수 생성\n",
        "def tokenizing(tokenizer):\n",
        "  result=[]\n",
        "  for row in spam.v2:\n",
        "    tokenize = tokenizer.tokenize(row)\n",
        "    words = [word for word in tokenize if word not in stop_words] # 불용어 제거\n",
        "    result.append(words)\n",
        "  return result"
      ],
      "metadata": {
        "id": "1YFHPgd9YCvf"
      },
      "execution_count": 35,
      "outputs": []
    },
    {
      "cell_type": "markdown",
      "source": [
        "BertTokenizer"
      ],
      "metadata": {
        "id": "MvC5RNFWyrEm"
      }
    },
    {
      "cell_type": "code",
      "source": [
        "# !pip install transformers"
      ],
      "metadata": {
        "id": "rg8eyDGIxHGi"
      },
      "execution_count": 36,
      "outputs": []
    },
    {
      "cell_type": "code",
      "source": [
        "from transformers import BertTokenizer\n",
        "\n",
        "tokenizer = BertTokenizer.from_pretrained(\"bert-base-cased\")"
      ],
      "metadata": {
        "id": "wLErS1eVxFxn"
      },
      "execution_count": 37,
      "outputs": []
    },
    {
      "cell_type": "code",
      "source": [
        "bt_test = spam.copy()\n",
        "bt_test.v2 = tokenizing(tokenizer)\n",
        "bt_test"
      ],
      "metadata": {
        "colab": {
          "base_uri": "https://localhost:8080/",
          "height": 424
        },
        "id": "YhwRlNP5xe0H",
        "outputId": "98c7a017-5c84-4ee4-a162-7cd8b2961469"
      },
      "execution_count": 38,
      "outputs": [
        {
          "output_type": "execute_result",
          "data": {
            "text/plain": [
              "      index  v1  \\\n",
              "0     0      0    \n",
              "1     1      0    \n",
              "2     2      1    \n",
              "3     3      0    \n",
              "4     4      0    \n",
              "...  ..     ..    \n",
              "5164  5567   1    \n",
              "5165  5568   0    \n",
              "5166  5569   0    \n",
              "5167  5570   0    \n",
              "5168  5571   0    \n",
              "\n",
              "                                                                                                                                                                   v2  \n",
              "0     [go, j, ##uron, ##g, point, crazy, available, bug, ##is, n, great, world, la, e, b, ##uff, ##et, c, ##ine, got, ##ore, wa, ##t]                                  \n",
              "1     [ok, la, ##r, joking, w, ##if, u, ##i]                                                                                                                           \n",
              "2     [free, entry, w, ##k, ##ly, com, ##p, win, f, ##a, cup, final, ##kt, ##s, ##t, may, text, f, ##a, receive, entry, question, ##t, ##d, ##x, ##t, rate, c, apply]  \n",
              "3     [u, du, ##n, say, early, ho, ##r, u, c, already, say]                                                                                                            \n",
              "4     [na, ##h, think, goes, us, ##f, lives, around, though]                                                                                                           \n",
              "...                                                      ...                                                                                                           \n",
              "5164  [n, ##d, time, tried, contact, u, u, pound, prize, claim, easy, call, p, per, minute, b, ##t, national, rate]                                                    \n",
              "5165  [b, going, es, ##p, ##lana, ##de, f, ##r, home]                                                                                                                  \n",
              "5166  [pity, mood, suggestions]                                                                                                                                        \n",
              "5167  [guy, bitch, ##ing, acted, like, interested, buying, something, else, next, week, gave, us, free]                                                                \n",
              "5168  [r, ##of, ##l, true, name]                                                                                                                                       \n",
              "\n",
              "[5169 rows x 3 columns]"
            ],
            "text/html": [
              "\n",
              "  <div id=\"df-14b675ab-6ce6-4835-a716-492bec4f0b96\">\n",
              "    <div class=\"colab-df-container\">\n",
              "      <div>\n",
              "<style scoped>\n",
              "    .dataframe tbody tr th:only-of-type {\n",
              "        vertical-align: middle;\n",
              "    }\n",
              "\n",
              "    .dataframe tbody tr th {\n",
              "        vertical-align: top;\n",
              "    }\n",
              "\n",
              "    .dataframe thead th {\n",
              "        text-align: right;\n",
              "    }\n",
              "</style>\n",
              "<table border=\"1\" class=\"dataframe\">\n",
              "  <thead>\n",
              "    <tr style=\"text-align: right;\">\n",
              "      <th></th>\n",
              "      <th>index</th>\n",
              "      <th>v1</th>\n",
              "      <th>v2</th>\n",
              "    </tr>\n",
              "  </thead>\n",
              "  <tbody>\n",
              "    <tr>\n",
              "      <th>0</th>\n",
              "      <td>0</td>\n",
              "      <td>0</td>\n",
              "      <td>[go, j, ##uron, ##g, point, crazy, available, bug, ##is, n, great, world, la, e, b, ##uff, ##et, c, ##ine, got, ##ore, wa, ##t]</td>\n",
              "    </tr>\n",
              "    <tr>\n",
              "      <th>1</th>\n",
              "      <td>1</td>\n",
              "      <td>0</td>\n",
              "      <td>[ok, la, ##r, joking, w, ##if, u, ##i]</td>\n",
              "    </tr>\n",
              "    <tr>\n",
              "      <th>2</th>\n",
              "      <td>2</td>\n",
              "      <td>1</td>\n",
              "      <td>[free, entry, w, ##k, ##ly, com, ##p, win, f, ##a, cup, final, ##kt, ##s, ##t, may, text, f, ##a, receive, entry, question, ##t, ##d, ##x, ##t, rate, c, apply]</td>\n",
              "    </tr>\n",
              "    <tr>\n",
              "      <th>3</th>\n",
              "      <td>3</td>\n",
              "      <td>0</td>\n",
              "      <td>[u, du, ##n, say, early, ho, ##r, u, c, already, say]</td>\n",
              "    </tr>\n",
              "    <tr>\n",
              "      <th>4</th>\n",
              "      <td>4</td>\n",
              "      <td>0</td>\n",
              "      <td>[na, ##h, think, goes, us, ##f, lives, around, though]</td>\n",
              "    </tr>\n",
              "    <tr>\n",
              "      <th>...</th>\n",
              "      <td>...</td>\n",
              "      <td>...</td>\n",
              "      <td>...</td>\n",
              "    </tr>\n",
              "    <tr>\n",
              "      <th>5164</th>\n",
              "      <td>5567</td>\n",
              "      <td>1</td>\n",
              "      <td>[n, ##d, time, tried, contact, u, u, pound, prize, claim, easy, call, p, per, minute, b, ##t, national, rate]</td>\n",
              "    </tr>\n",
              "    <tr>\n",
              "      <th>5165</th>\n",
              "      <td>5568</td>\n",
              "      <td>0</td>\n",
              "      <td>[b, going, es, ##p, ##lana, ##de, f, ##r, home]</td>\n",
              "    </tr>\n",
              "    <tr>\n",
              "      <th>5166</th>\n",
              "      <td>5569</td>\n",
              "      <td>0</td>\n",
              "      <td>[pity, mood, suggestions]</td>\n",
              "    </tr>\n",
              "    <tr>\n",
              "      <th>5167</th>\n",
              "      <td>5570</td>\n",
              "      <td>0</td>\n",
              "      <td>[guy, bitch, ##ing, acted, like, interested, buying, something, else, next, week, gave, us, free]</td>\n",
              "    </tr>\n",
              "    <tr>\n",
              "      <th>5168</th>\n",
              "      <td>5571</td>\n",
              "      <td>0</td>\n",
              "      <td>[r, ##of, ##l, true, name]</td>\n",
              "    </tr>\n",
              "  </tbody>\n",
              "</table>\n",
              "<p>5169 rows × 3 columns</p>\n",
              "</div>\n",
              "      <button class=\"colab-df-convert\" onclick=\"convertToInteractive('df-14b675ab-6ce6-4835-a716-492bec4f0b96')\"\n",
              "              title=\"Convert this dataframe to an interactive table.\"\n",
              "              style=\"display:none;\">\n",
              "        \n",
              "  <svg xmlns=\"http://www.w3.org/2000/svg\" height=\"24px\"viewBox=\"0 0 24 24\"\n",
              "       width=\"24px\">\n",
              "    <path d=\"M0 0h24v24H0V0z\" fill=\"none\"/>\n",
              "    <path d=\"M18.56 5.44l.94 2.06.94-2.06 2.06-.94-2.06-.94-.94-2.06-.94 2.06-2.06.94zm-11 1L8.5 8.5l.94-2.06 2.06-.94-2.06-.94L8.5 2.5l-.94 2.06-2.06.94zm10 10l.94 2.06.94-2.06 2.06-.94-2.06-.94-.94-2.06-.94 2.06-2.06.94z\"/><path d=\"M17.41 7.96l-1.37-1.37c-.4-.4-.92-.59-1.43-.59-.52 0-1.04.2-1.43.59L10.3 9.45l-7.72 7.72c-.78.78-.78 2.05 0 2.83L4 21.41c.39.39.9.59 1.41.59.51 0 1.02-.2 1.41-.59l7.78-7.78 2.81-2.81c.8-.78.8-2.07 0-2.86zM5.41 20L4 18.59l7.72-7.72 1.47 1.35L5.41 20z\"/>\n",
              "  </svg>\n",
              "      </button>\n",
              "      \n",
              "  <style>\n",
              "    .colab-df-container {\n",
              "      display:flex;\n",
              "      flex-wrap:wrap;\n",
              "      gap: 12px;\n",
              "    }\n",
              "\n",
              "    .colab-df-convert {\n",
              "      background-color: #E8F0FE;\n",
              "      border: none;\n",
              "      border-radius: 50%;\n",
              "      cursor: pointer;\n",
              "      display: none;\n",
              "      fill: #1967D2;\n",
              "      height: 32px;\n",
              "      padding: 0 0 0 0;\n",
              "      width: 32px;\n",
              "    }\n",
              "\n",
              "    .colab-df-convert:hover {\n",
              "      background-color: #E2EBFA;\n",
              "      box-shadow: 0px 1px 2px rgba(60, 64, 67, 0.3), 0px 1px 3px 1px rgba(60, 64, 67, 0.15);\n",
              "      fill: #174EA6;\n",
              "    }\n",
              "\n",
              "    [theme=dark] .colab-df-convert {\n",
              "      background-color: #3B4455;\n",
              "      fill: #D2E3FC;\n",
              "    }\n",
              "\n",
              "    [theme=dark] .colab-df-convert:hover {\n",
              "      background-color: #434B5C;\n",
              "      box-shadow: 0px 1px 3px 1px rgba(0, 0, 0, 0.15);\n",
              "      filter: drop-shadow(0px 1px 2px rgba(0, 0, 0, 0.3));\n",
              "      fill: #FFFFFF;\n",
              "    }\n",
              "  </style>\n",
              "\n",
              "      <script>\n",
              "        const buttonEl =\n",
              "          document.querySelector('#df-14b675ab-6ce6-4835-a716-492bec4f0b96 button.colab-df-convert');\n",
              "        buttonEl.style.display =\n",
              "          google.colab.kernel.accessAllowed ? 'block' : 'none';\n",
              "\n",
              "        async function convertToInteractive(key) {\n",
              "          const element = document.querySelector('#df-14b675ab-6ce6-4835-a716-492bec4f0b96');\n",
              "          const dataTable =\n",
              "            await google.colab.kernel.invokeFunction('convertToInteractive',\n",
              "                                                     [key], {});\n",
              "          if (!dataTable) return;\n",
              "\n",
              "          const docLinkHtml = 'Like what you see? Visit the ' +\n",
              "            '<a target=\"_blank\" href=https://colab.research.google.com/notebooks/data_table.ipynb>data table notebook</a>'\n",
              "            + ' to learn more about interactive tables.';\n",
              "          element.innerHTML = '';\n",
              "          dataTable['output_type'] = 'display_data';\n",
              "          await google.colab.output.renderOutput(dataTable, element);\n",
              "          const docLink = document.createElement('div');\n",
              "          docLink.innerHTML = docLinkHtml;\n",
              "          element.appendChild(docLink);\n",
              "        }\n",
              "      </script>\n",
              "    </div>\n",
              "  </div>\n",
              "  "
            ]
          },
          "metadata": {},
          "execution_count": 38
        }
      ]
    },
    {
      "cell_type": "markdown",
      "source": [
        "토큰화 비교"
      ],
      "metadata": {
        "id": "5cLjTN8uytUe"
      }
    },
    {
      "cell_type": "code",
      "source": [
        "pd.set_option('display.max_colwidth', -1) # 전체 출력\n",
        "\n",
        "result_tokenizing = pd.DataFrame([['word_tokenize', wd_test.iloc[5]['v2']],\n",
        "                      ['BertTokenizer', bt_test.iloc[5]['v2']]], \n",
        "                      columns = ['Tokenizer', 'result'])\n",
        "result_tokenizing"
      ],
      "metadata": {
        "colab": {
          "base_uri": "https://localhost:8080/",
          "height": 168
        },
        "id": "-f81oWamxLmM",
        "outputId": "74d3f33f-5f34-43a3-a73f-68cb3797333f"
      },
      "execution_count": 39,
      "outputs": [
        {
          "output_type": "stream",
          "name": "stderr",
          "text": [
            "<ipython-input-39-75180087fce0>:1: FutureWarning: Passing a negative integer is deprecated in version 1.0 and will not be supported in future version. Instead, use None to not limit the column width.\n",
            "  pd.set_option('display.max_colwidth', -1) # 전체 출력\n"
          ]
        },
        {
          "output_type": "execute_result",
          "data": {
            "text/plain": [
              "       Tokenizer  \\\n",
              "0  word_tokenize   \n",
              "1  BertTokenizer   \n",
              "\n",
              "                                                                                                                             result  \n",
              "0  [freemsg, hey, darling, week, word, back, like, fun, still, tb, ok, xxx, std, chgs, send, rcv]                                    \n",
              "1  [free, ##ms, ##g, hey, darling, week, word, back, like, fun, still, ##b, ok, x, ##x, ##x, ##t, ##d, ch, ##gs, send, r, ##c, ##v]  "
            ],
            "text/html": [
              "\n",
              "  <div id=\"df-546c7130-618e-4fce-855a-68eb72116a31\">\n",
              "    <div class=\"colab-df-container\">\n",
              "      <div>\n",
              "<style scoped>\n",
              "    .dataframe tbody tr th:only-of-type {\n",
              "        vertical-align: middle;\n",
              "    }\n",
              "\n",
              "    .dataframe tbody tr th {\n",
              "        vertical-align: top;\n",
              "    }\n",
              "\n",
              "    .dataframe thead th {\n",
              "        text-align: right;\n",
              "    }\n",
              "</style>\n",
              "<table border=\"1\" class=\"dataframe\">\n",
              "  <thead>\n",
              "    <tr style=\"text-align: right;\">\n",
              "      <th></th>\n",
              "      <th>Tokenizer</th>\n",
              "      <th>result</th>\n",
              "    </tr>\n",
              "  </thead>\n",
              "  <tbody>\n",
              "    <tr>\n",
              "      <th>0</th>\n",
              "      <td>word_tokenize</td>\n",
              "      <td>[freemsg, hey, darling, week, word, back, like, fun, still, tb, ok, xxx, std, chgs, send, rcv]</td>\n",
              "    </tr>\n",
              "    <tr>\n",
              "      <th>1</th>\n",
              "      <td>BertTokenizer</td>\n",
              "      <td>[free, ##ms, ##g, hey, darling, week, word, back, like, fun, still, ##b, ok, x, ##x, ##x, ##t, ##d, ch, ##gs, send, r, ##c, ##v]</td>\n",
              "    </tr>\n",
              "  </tbody>\n",
              "</table>\n",
              "</div>\n",
              "      <button class=\"colab-df-convert\" onclick=\"convertToInteractive('df-546c7130-618e-4fce-855a-68eb72116a31')\"\n",
              "              title=\"Convert this dataframe to an interactive table.\"\n",
              "              style=\"display:none;\">\n",
              "        \n",
              "  <svg xmlns=\"http://www.w3.org/2000/svg\" height=\"24px\"viewBox=\"0 0 24 24\"\n",
              "       width=\"24px\">\n",
              "    <path d=\"M0 0h24v24H0V0z\" fill=\"none\"/>\n",
              "    <path d=\"M18.56 5.44l.94 2.06.94-2.06 2.06-.94-2.06-.94-.94-2.06-.94 2.06-2.06.94zm-11 1L8.5 8.5l.94-2.06 2.06-.94-2.06-.94L8.5 2.5l-.94 2.06-2.06.94zm10 10l.94 2.06.94-2.06 2.06-.94-2.06-.94-.94-2.06-.94 2.06-2.06.94z\"/><path d=\"M17.41 7.96l-1.37-1.37c-.4-.4-.92-.59-1.43-.59-.52 0-1.04.2-1.43.59L10.3 9.45l-7.72 7.72c-.78.78-.78 2.05 0 2.83L4 21.41c.39.39.9.59 1.41.59.51 0 1.02-.2 1.41-.59l7.78-7.78 2.81-2.81c.8-.78.8-2.07 0-2.86zM5.41 20L4 18.59l7.72-7.72 1.47 1.35L5.41 20z\"/>\n",
              "  </svg>\n",
              "      </button>\n",
              "      \n",
              "  <style>\n",
              "    .colab-df-container {\n",
              "      display:flex;\n",
              "      flex-wrap:wrap;\n",
              "      gap: 12px;\n",
              "    }\n",
              "\n",
              "    .colab-df-convert {\n",
              "      background-color: #E8F0FE;\n",
              "      border: none;\n",
              "      border-radius: 50%;\n",
              "      cursor: pointer;\n",
              "      display: none;\n",
              "      fill: #1967D2;\n",
              "      height: 32px;\n",
              "      padding: 0 0 0 0;\n",
              "      width: 32px;\n",
              "    }\n",
              "\n",
              "    .colab-df-convert:hover {\n",
              "      background-color: #E2EBFA;\n",
              "      box-shadow: 0px 1px 2px rgba(60, 64, 67, 0.3), 0px 1px 3px 1px rgba(60, 64, 67, 0.15);\n",
              "      fill: #174EA6;\n",
              "    }\n",
              "\n",
              "    [theme=dark] .colab-df-convert {\n",
              "      background-color: #3B4455;\n",
              "      fill: #D2E3FC;\n",
              "    }\n",
              "\n",
              "    [theme=dark] .colab-df-convert:hover {\n",
              "      background-color: #434B5C;\n",
              "      box-shadow: 0px 1px 3px 1px rgba(0, 0, 0, 0.15);\n",
              "      filter: drop-shadow(0px 1px 2px rgba(0, 0, 0, 0.3));\n",
              "      fill: #FFFFFF;\n",
              "    }\n",
              "  </style>\n",
              "\n",
              "      <script>\n",
              "        const buttonEl =\n",
              "          document.querySelector('#df-546c7130-618e-4fce-855a-68eb72116a31 button.colab-df-convert');\n",
              "        buttonEl.style.display =\n",
              "          google.colab.kernel.accessAllowed ? 'block' : 'none';\n",
              "\n",
              "        async function convertToInteractive(key) {\n",
              "          const element = document.querySelector('#df-546c7130-618e-4fce-855a-68eb72116a31');\n",
              "          const dataTable =\n",
              "            await google.colab.kernel.invokeFunction('convertToInteractive',\n",
              "                                                     [key], {});\n",
              "          if (!dataTable) return;\n",
              "\n",
              "          const docLinkHtml = 'Like what you see? Visit the ' +\n",
              "            '<a target=\"_blank\" href=https://colab.research.google.com/notebooks/data_table.ipynb>data table notebook</a>'\n",
              "            + ' to learn more about interactive tables.';\n",
              "          element.innerHTML = '';\n",
              "          dataTable['output_type'] = 'display_data';\n",
              "          await google.colab.output.renderOutput(dataTable, element);\n",
              "          const docLink = document.createElement('div');\n",
              "          docLink.innerHTML = docLinkHtml;\n",
              "          element.appendChild(docLink);\n",
              "        }\n",
              "      </script>\n",
              "    </div>\n",
              "  </div>\n",
              "  "
            ]
          },
          "metadata": {},
          "execution_count": 39
        }
      ]
    },
    {
      "cell_type": "markdown",
      "source": [
        "이 데이터셋은 간단하기 때문에 word_tokenize의 토큰화 결과가 좀 더 좋다고 판단해 word_tokenize 선택"
      ],
      "metadata": {
        "id": "Gl8BBvnvRa-q"
      }
    },
    {
      "cell_type": "markdown",
      "metadata": {
        "id": "hYj4oYSgQJcj"
      },
      "source": [
        "## Embedding\n",
        "\n",
        "- 수업에서 다룬 임베딩 방법에는 One-hot encoding, CBOW, Skip-gram, GloVe, FastText가 있었습니다. 다양한 시도와 '비교' 결과를 함께 적어주세요! 파라미터를 조정해가는 과정도 해석에 도움이 될 수 있겠죠 :)"
      ]
    },
    {
      "cell_type": "code",
      "source": [
        "from sklearn.feature_extraction.text import CountVectorizer\n",
        "\n",
        "# 정상 메일 토큰 빈도수\n",
        "ct_vector1 = CountVectorizer(max_features= 500, stop_words = 'english', lowercase= False)\n",
        "corpus_ham = sum(wd_test[wd_test.v1 == 0]['v2'], []) \n",
        "ct_ham = ct_vector1.fit_transform(corpus_ham)"
      ],
      "metadata": {
        "id": "io-uVohr1h1u"
      },
      "execution_count": 40,
      "outputs": []
    },
    {
      "cell_type": "code",
      "source": [
        "# spam 메일 토큰 빈도수\n",
        "ct_vector2 = CountVectorizer(max_features= 500, stop_words = 'english', lowercase= False)\n",
        "corpus_spam = sum(wd_test[wd_test.v1 == 1]['v2'], []) \n",
        "ct_spam = ct_vector2.fit_transform(corpus_spam)"
      ],
      "metadata": {
        "id": "W8l0fbBb1kCC"
      },
      "execution_count": 41,
      "outputs": []
    },
    {
      "cell_type": "code",
      "source": [
        "from gensim.models.word2vec import Word2Vec"
      ],
      "metadata": {
        "id": "EkAP-9l7QW2q"
      },
      "execution_count": 42,
      "outputs": []
    },
    {
      "cell_type": "code",
      "execution_count": 43,
      "metadata": {
        "colab": {
          "base_uri": "https://localhost:8080/",
          "height": 109
        },
        "id": "UR2sPuI2QJcj",
        "outputId": "bd42cc14-c7aa-433b-8cc3-9c7ab6e2446a"
      },
      "outputs": [
        {
          "output_type": "stream",
          "name": "stderr",
          "text": [
            "WARNING:gensim.models.keyedvectors:vectors for words {'ut'} are not present in the model, ignoring these words\n",
            "/usr/local/lib/python3.8/dist-packages/gensim/models/keyedvectors.py:895: FutureWarning: arrays to stack must be passed as a \"sequence\" type such as list or tuple. Support for non-sequence iterables such as generators is deprecated as of NumPy 1.16 and will raise an error in the future.\n",
            "  vectors = vstack(self.word_vec(word, use_norm=True) for word in used_words).astype(REAL)\n"
          ]
        },
        {
          "output_type": "execute_result",
          "data": {
            "text/plain": [
              "'claim'"
            ],
            "application/vnd.google.colaboratory.intrinsic+json": {
              "type": "string"
            }
          },
          "metadata": {},
          "execution_count": 43
        }
      ],
      "source": [
        "# 스팸에 대해 학습\n",
        "model = Word2Vec(wd_test[wd_test.v1 == 1]['v2'], min_count=5, size=100, window=2, iter=200, sg=1) # skip-gram\n",
        "model.save('w2v_model_spam')\n",
        "w2v_model_spam = Word2Vec.load('w2v_model_spam')\n",
        "w2v_model_spam.wv.doesnt_match(\"free txt ut stop mobile text claim reply www prize\".split())"
      ]
    },
    {
      "cell_type": "code",
      "execution_count": 44,
      "metadata": {
        "colab": {
          "base_uri": "https://localhost:8080/"
        },
        "id": "0BwJO1xpQJcj",
        "outputId": "e5dd0079-f455-4e51-d517-8f0c61790ba8"
      },
      "outputs": [
        {
          "output_type": "execute_result",
          "data": {
            "text/plain": [
              "[('minutes', 0.4349832534790039),\n",
              " ('digital', 0.3777122497558594),\n",
              " ('half', 0.36689233779907227),\n",
              " ('phones', 0.36257684230804443),\n",
              " ('true', 0.3622708320617676),\n",
              " ('tomorrow', 0.3566732406616211),\n",
              " ('tariffs', 0.35484910011291504),\n",
              " ('gr', 0.35078343749046326),\n",
              " ('price', 0.34691572189331055),\n",
              " ('crazy', 0.343806654214859)]"
            ]
          },
          "metadata": {},
          "execution_count": 44
        }
      ],
      "source": [
        "w2v_model_spam.wv.most_similar('free')"
      ]
    },
    {
      "cell_type": "code",
      "source": [
        "w2v_model_spam.most_similar(positive=['free', 'prize'], negative= ['ok'], topn=10)"
      ],
      "metadata": {
        "colab": {
          "base_uri": "https://localhost:8080/"
        },
        "id": "GMwimW4a0AGo",
        "outputId": "d57a63bc-15f0-48eb-acd7-c0bb7c26f531"
      },
      "execution_count": 45,
      "outputs": [
        {
          "output_type": "stream",
          "name": "stderr",
          "text": [
            "<ipython-input-45-d855f505ee0e>:1: DeprecationWarning: Call to deprecated `most_similar` (Method will be removed in 4.0.0, use self.wv.most_similar() instead).\n",
            "  w2v_model_spam.most_similar(positive=['free', 'prize'], negative= ['ok'], topn=10)\n"
          ]
        },
        {
          "output_type": "execute_result",
          "data": {
            "text/plain": [
              "[('sony', 0.3907535672187805),\n",
              " ('digital', 0.3486185073852539),\n",
              " ('announcement', 0.31169453263282776),\n",
              " ('sonyericsson', 0.3048984110355377),\n",
              " ('wkly', 0.30092737078666687),\n",
              " ('final', 0.30061984062194824),\n",
              " ('gr', 0.3004319369792938),\n",
              " ('motorola', 0.29612046480178833),\n",
              " ('summer', 0.2916949987411499),\n",
              " ('cd', 0.2901957631111145)]"
            ]
          },
          "metadata": {},
          "execution_count": 45
        }
      ]
    },
    {
      "cell_type": "code",
      "source": [
        "# ham에 대해 학습\n",
        "model2 = Word2Vec(wd_test[wd_test.v1 == 0]['v2'], min_count=5, size=100, window=2, iter=200, sg=1) # skip-gram\n",
        "model2.save('w2v_model_ham')\n",
        "w2v_model_ham = Word2Vec.load('w2v_model_ham')\n",
        "w2v_model_ham.wv.doesnt_match(\"gt lt ok got know like good come ur time\".split())"
      ],
      "metadata": {
        "colab": {
          "base_uri": "https://localhost:8080/",
          "height": 36
        },
        "id": "LQo1Tm2vQ02L",
        "outputId": "d95a15aa-2637-485f-bd5d-ec35b07314b8"
      },
      "execution_count": 46,
      "outputs": [
        {
          "output_type": "execute_result",
          "data": {
            "text/plain": [
              "'come'"
            ],
            "application/vnd.google.colaboratory.intrinsic+json": {
              "type": "string"
            }
          },
          "metadata": {},
          "execution_count": 46
        }
      ]
    },
    {
      "cell_type": "code",
      "source": [
        "w2v_model_ham.wv.most_similar('ok')"
      ],
      "metadata": {
        "colab": {
          "base_uri": "https://localhost:8080/"
        },
        "id": "TR81_xHhQ7wS",
        "outputId": "b6da9f04-72ad-4d74-d3ec-266070c597f0"
      },
      "execution_count": 47,
      "outputs": [
        {
          "output_type": "execute_result",
          "data": {
            "text/plain": [
              "[('pub', 0.3939255475997925),\n",
              " ('cuz', 0.37701618671417236),\n",
              " ('mm', 0.37252920866012573),\n",
              " ('coffee', 0.363878458738327),\n",
              " ('home', 0.36378300189971924),\n",
              " ('uni', 0.3623824119567871),\n",
              " ('site', 0.34898802638053894),\n",
              " ('ard', 0.34242725372314453),\n",
              " ('fren', 0.33682799339294434),\n",
              " ('worry', 0.3348521292209625)]"
            ]
          },
          "metadata": {},
          "execution_count": 47
        }
      ]
    },
    {
      "cell_type": "code",
      "source": [
        "w2v_model_ham.most_similar(positive=['ok', 'like'], negative= ['free'], topn=10)"
      ],
      "metadata": {
        "colab": {
          "base_uri": "https://localhost:8080/"
        },
        "id": "5ICE-l3tQ9o4",
        "outputId": "74bce5d1-262f-411d-d2ae-f0c65d1d7334"
      },
      "execution_count": 48,
      "outputs": [
        {
          "output_type": "stream",
          "name": "stderr",
          "text": [
            "<ipython-input-48-f27e62238045>:1: DeprecationWarning: Call to deprecated `most_similar` (Method will be removed in 4.0.0, use self.wv.most_similar() instead).\n",
            "  w2v_model_ham.most_similar(positive=['ok', 'like'], negative= ['free'], topn=10)\n"
          ]
        },
        {
          "output_type": "execute_result",
          "data": {
            "text/plain": [
              "[('worries', 0.31047961115837097),\n",
              " ('wit', 0.30094829201698303),\n",
              " ('ends', 0.2955930531024933),\n",
              " ('valentine', 0.27268654108047485),\n",
              " ('looks', 0.26995548605918884),\n",
              " ('mother', 0.268561452627182),\n",
              " ('liked', 0.26442402601242065),\n",
              " ('anything', 0.26197129487991333),\n",
              " ('within', 0.2616761028766632),\n",
              " ('body', 0.258882611989975)]"
            ]
          },
          "metadata": {},
          "execution_count": 48
        }
      ]
    },
    {
      "cell_type": "markdown",
      "source": [
        "FastText"
      ],
      "metadata": {
        "id": "U_EX64L-SanH"
      }
    },
    {
      "cell_type": "code",
      "source": [
        "from gensim.models import FastText\n",
        "\n",
        "# spam\n",
        "fast_model = FastText(wd_test[wd_test.v1 == 1]['v2'], size=100, window=5, min_count=5, workers=4, sg=1)"
      ],
      "metadata": {
        "colab": {
          "base_uri": "https://localhost:8080/"
        },
        "id": "4gE1c91bSaAN",
        "outputId": "0df7dd69-8f4c-4f7d-f473-2dcf8867c0b1"
      },
      "execution_count": 49,
      "outputs": [
        {
          "output_type": "stream",
          "name": "stderr",
          "text": [
            "WARNING:gensim.models.base_any2vec:under 10 jobs per worker: consider setting a smaller `batch_words' for smoother alpha decay\n"
          ]
        }
      ]
    },
    {
      "cell_type": "code",
      "source": [
        "fast_model.wv.most_similar(\"free\")"
      ],
      "metadata": {
        "colab": {
          "base_uri": "https://localhost:8080/"
        },
        "id": "nozt3ae4SdFi",
        "outputId": "afd52893-bdfa-412e-987b-74df8f10c74c"
      },
      "execution_count": 50,
      "outputs": [
        {
          "output_type": "execute_result",
          "data": {
            "text/plain": [
              "[('phones', 0.999749481678009),\n",
              " ('freemsg', 0.999736487865448),\n",
              " ('spree', 0.9997232556343079),\n",
              " ('nokia', 0.9997187256813049),\n",
              " ('delivery', 0.9997159838676453),\n",
              " ('reply', 0.9997146725654602),\n",
              " ('apply', 0.9997068643569946),\n",
              " ('text', 0.99969482421875),\n",
              " ('phone', 0.9996944665908813),\n",
              " ('ringtones', 0.9996829628944397)]"
            ]
          },
          "metadata": {},
          "execution_count": 50
        }
      ]
    },
    {
      "cell_type": "code",
      "source": [
        "# ham\n",
        "fast_model2 = FastText(wd_test[wd_test.v1 == 0]['v2'], size=100, window=5, min_count=5, workers=4, sg=1)"
      ],
      "metadata": {
        "colab": {
          "base_uri": "https://localhost:8080/"
        },
        "id": "d7nFOuX_Se09",
        "outputId": "baa07300-1935-468f-ef68-7362dee8d846"
      },
      "execution_count": 51,
      "outputs": [
        {
          "output_type": "stream",
          "name": "stderr",
          "text": [
            "WARNING:gensim.models.base_any2vec:under 10 jobs per worker: consider setting a smaller `batch_words' for smoother alpha decay\n"
          ]
        }
      ]
    },
    {
      "cell_type": "code",
      "source": [
        "fast_model2.wv.most_similar(\"ok\")"
      ],
      "metadata": {
        "colab": {
          "base_uri": "https://localhost:8080/"
        },
        "id": "OgyAuL53SfO6",
        "outputId": "ae24b7cd-2177-4a61-d82a-7777eeb4f360"
      },
      "execution_count": 52,
      "outputs": [
        {
          "output_type": "execute_result",
          "data": {
            "text/plain": [
              "[('already', 0.9994863867759705),\n",
              " ('juz', 0.9994678497314453),\n",
              " ('dunno', 0.9994375705718994),\n",
              " ('quite', 0.9994070529937744),\n",
              " ('ask', 0.9994043111801147),\n",
              " ('wats', 0.9993919134140015),\n",
              " ('leh', 0.9993612170219421),\n",
              " ('ah', 0.9993076324462891),\n",
              " ('yun', 0.9993019700050354),\n",
              " ('tmr', 0.9992913007736206)]"
            ]
          },
          "metadata": {},
          "execution_count": 52
        }
      ]
    },
    {
      "cell_type": "markdown",
      "source": [
        "결과들을 살펴보면 FastText가 Word2Vec보다 데이터에 적합하게 유사도를 예측해주는 걸 알 수 있다."
      ],
      "metadata": {
        "id": "McXmoN0vTMi3"
      }
    },
    {
      "cell_type": "markdown",
      "metadata": {
        "id": "VRYg7hqXQJcj"
      },
      "source": [
        "## 본인이 도출해낸 해석을 적어주세요!\n",
        "\n",
        "- 유사도, Wordcloud, 이진 분류 모델, Plot 뭐든 상관없으니 분명하고 인상적인 해석을 적어주시면 됩니다."
      ]
    },
    {
      "cell_type": "markdown",
      "source": [
        "유사도"
      ],
      "metadata": {
        "id": "RL5adUvxTmb8"
      }
    },
    {
      "cell_type": "code",
      "source": [
        "fast_model.wv.most_similar(\"free\")\n",
        "# 핸드폰 요금, 최신 핸드폰 가격과 관련되어 무료라고 홍보하는 스팸 메일이 많다."
      ],
      "metadata": {
        "colab": {
          "base_uri": "https://localhost:8080/"
        },
        "id": "XuEeTW4CQ0Tm",
        "outputId": "ff1865a0-4b76-4ad7-b811-672d1ab7fdc8"
      },
      "execution_count": 53,
      "outputs": [
        {
          "output_type": "execute_result",
          "data": {
            "text/plain": [
              "[('phones', 0.999749481678009),\n",
              " ('freemsg', 0.999736487865448),\n",
              " ('spree', 0.9997232556343079),\n",
              " ('nokia', 0.9997187256813049),\n",
              " ('delivery', 0.9997159838676453),\n",
              " ('reply', 0.9997146725654602),\n",
              " ('apply', 0.9997068643569946),\n",
              " ('text', 0.99969482421875),\n",
              " ('phone', 0.9996944665908813),\n",
              " ('ringtones', 0.9996829628944397)]"
            ]
          },
          "metadata": {},
          "execution_count": 53
        }
      ]
    },
    {
      "cell_type": "code",
      "execution_count": 54,
      "metadata": {
        "colab": {
          "base_uri": "https://localhost:8080/"
        },
        "id": "jcYDCBZLQJcj",
        "outputId": "33542044-9b81-4992-8245-17de654c892a"
      },
      "outputs": [
        {
          "output_type": "execute_result",
          "data": {
            "text/plain": [
              "[('guaranteed', 0.9996828436851501),\n",
              " ('caller', 0.9996637105941772),\n",
              " ('call', 0.9996169805526733),\n",
              " ('urgent', 0.9995592832565308),\n",
              " ('claim', 0.9995589852333069),\n",
              " ('valid', 0.9995181560516357),\n",
              " ('bonus', 0.9995163679122925),\n",
              " ('contact', 0.9995134472846985),\n",
              " ('contacted', 0.999407947063446),\n",
              " ('awarded', 0.9993917942047119)]"
            ]
          },
          "metadata": {},
          "execution_count": 54
        }
      ],
      "source": [
        "fast_model.wv.most_similar(\"prize\")\n",
        "# 상품으로 소비자들을 현혹시키는 스팸이 많으므로 prize의 빈도수가 상위 10개 안에 들었고, \n",
        "# guaranteed(확실한, 보장된), urgent(긴급한), todays가 유사한 단어인 것으로 보아 상품 이벤트 기간이 얼마 안 남았으니 서두르라는 내용의 스팸 메일이 많다. "
      ]
    },
    {
      "cell_type": "markdown",
      "source": [
        "Spam\n",
        "\n",
        "free, prize, new, gift, bonus 등 보상과 관련된 내용. \n",
        "\n",
        "www: 웹 주소와 관련된 내용. \n",
        "\n",
        "txt: 파일 첨부. \n",
        "\n",
        "mobile: 핸드폰과 관련된 내용. \n",
        "\n",
        "want, offer, apply: 소비자가 원하는 것을 소비자에게 제공한다는 내용. \n",
        "\n",
        "Ham. \n",
        "\n",
        "good, love, want, need, yeah, happy, thanks: 긍정적인 감정과 관련된 내용. \n",
        "\n",
        "dont, sorry: 거절과 관련된 내용. \n",
        "\n",
        "대체로 사람의 감정과 관련된, 또는 구체적인 상태(know, need)를 표현하는 내용. \n",
        "\n",
        "감정과 관련된 내용이 있으면 Ham 메일일 확률이 높다.  "
      ],
      "metadata": {
        "id": "STBF9aRTYCGf"
      }
    },
    {
      "cell_type": "code",
      "source": [],
      "metadata": {
        "id": "_lpapoIUYBiA"
      },
      "execution_count": null,
      "outputs": []
    }
  ],
  "metadata": {
    "kernelspec": {
      "display_name": "Python 3 (ipykernel)",
      "language": "python",
      "name": "python3"
    },
    "language_info": {
      "codemirror_mode": {
        "name": "ipython",
        "version": 3
      },
      "file_extension": ".py",
      "mimetype": "text/x-python",
      "name": "python",
      "nbconvert_exporter": "python",
      "pygments_lexer": "ipython3",
      "version": "3.9.12"
    },
    "colab": {
      "provenance": [],
      "include_colab_link": true
    }
  },
  "nbformat": 4,
  "nbformat_minor": 0
}